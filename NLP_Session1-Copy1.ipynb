{
 "cells": [
  {
   "cell_type": "markdown",
   "metadata": {},
   "source": [
    "# WOMEN WHO CODE - DATA ANALYTICS WITH PYTHON (INTERMEDIATE)\n",
    "\n",
    "## Introduction"
   ]
  },
  {
   "cell_type": "code",
   "execution_count": 2,
   "metadata": {
    "collapsed": true
   },
   "outputs": [],
   "source": [
    "import nltk"
   ]
  },
  {
   "cell_type": "markdown",
   "metadata": {},
   "source": [
    "nltk.download()\n",
    "\n",
    "Download the NLTK Book Collection (30 compressed files about 100Mb disk space) to complete the exercises"
   ]
  },
  {
   "cell_type": "code",
   "execution_count": 3,
   "metadata": {
    "collapsed": false
   },
   "outputs": [
    {
     "name": "stdout",
     "output_type": "stream",
     "text": [
      "*** Introductory Examples for the NLTK Book ***\n",
      "Loading text1, ..., text9 and sent1, ..., sent9\n",
      "Type the name of the text or sentence to view it.\n",
      "Type: 'texts()' or 'sents()' to list the materials.\n",
      "text1: Moby Dick by Herman Melville 1851\n",
      "text2: Sense and Sensibility by Jane Austen 1811\n",
      "text3: The Book of Genesis\n",
      "text4: Inaugural Address Corpus\n",
      "text5: Chat Corpus\n",
      "text6: Monty Python and the Holy Grail\n",
      "text7: Wall Street Journal\n",
      "text8: Personals Corpus\n",
      "text9: The Man Who Was Thursday by G . K . Chesterton 1908\n"
     ]
    }
   ],
   "source": [
    "from nltk.book import *"
   ]
  },
  {
   "cell_type": "markdown",
   "metadata": {},
   "source": [
    "## SEARCHING TEXT "
   ]
  },
  {
   "cell_type": "markdown",
   "metadata": {},
   "source": [
    "There are many ways to examine the context of a text.\n",
    "A CONCORDANCE  view show us every occurrence of a given word.\n",
    "CONCORDANCE permits us to see words in context.\n",
    "\n",
    "Look for the word \"monstrous\" in Moby Dick"
   ]
  },
  {
   "cell_type": "code",
   "execution_count": 3,
   "metadata": {
    "collapsed": false
   },
   "outputs": [
    {
     "name": "stdout",
     "output_type": "stream",
     "text": [
      "Displaying 11 of 11 matches:\n",
      "ong the former , one was of a most monstrous size . ... This came towards us , \n",
      "ON OF THE PSALMS . \" Touching that monstrous bulk of the whale or ork we have r\n",
      "ll over with a heathenish array of monstrous clubs and spears . Some were thick\n",
      "d as you gazed , and wondered what monstrous cannibal and savage could ever hav\n",
      "that has survived the flood ; most monstrous and most mountainous ! That Himmal\n",
      "they might scout at Moby Dick as a monstrous fable , or still worse and more de\n",
      "th of Radney .'\" CHAPTER 55 Of the Monstrous Pictures of Whales . I shall ere l\n",
      "ing Scenes . In connexion with the monstrous pictures of whales , I am strongly\n",
      "ere to enter upon those still more monstrous stories of them which are to be fo\n",
      "ght have been rummaged out of this monstrous cabinet there is no telling . But \n",
      "of Whale - Bones ; for Whales of a monstrous size are oftentimes cast up dead u\n"
     ]
    }
   ],
   "source": [
    "text1.concordance(\"monstrous\")"
   ]
  },
  {
   "cell_type": "markdown",
   "metadata": {},
   "source": [
    "CONCORDANCE permits us to see words in context such as *the_pictures* and *the_size*"
   ]
  },
  {
   "cell_type": "markdown",
   "metadata": {},
   "source": [
    "What other words appear in a similar range of contexts?\n",
    "Use SIMILAR to find out."
   ]
  },
  {
   "cell_type": "code",
   "execution_count": 5,
   "metadata": {
    "collapsed": false
   },
   "outputs": [
    {
     "name": "stdout",
     "output_type": "stream",
     "text": [
      "exasperate trustworthy curious lazy delightfully pitiable uncommon\n",
      "loving true wise mouldy vexatious contemptible candid maddens gamesome\n",
      "passing abundant doleful puzzled\n"
     ]
    }
   ],
   "source": [
    "text1.similar(\"monstrous\")"
   ]
  },
  {
   "cell_type": "code",
   "execution_count": 6,
   "metadata": {
    "collapsed": false
   },
   "outputs": [
    {
     "name": "stdout",
     "output_type": "stream",
     "text": [
      "very exceedingly so heartily vast good extremely as remarkably sweet a\n",
      "great amazingly\n"
     ]
    }
   ],
   "source": [
    "text2.similar(\"monstrous\")"
   ]
  },
  {
   "cell_type": "markdown",
   "metadata": {},
   "source": [
    "Observe that we get different results for different texts.\n",
    "Austen uses \"monstrous\" in a very different way than Melville.\n",
    "Austen is positive and Melville negative."
   ]
  },
  {
   "cell_type": "markdown",
   "metadata": {},
   "source": [
    "**COMMON_CONTEXTS** allow us to examine just the contexts that are shared by two or more words, such as *montrous* and *very*"
   ]
  },
  {
   "cell_type": "code",
   "execution_count": 7,
   "metadata": {
    "collapsed": false
   },
   "outputs": [
    {
     "name": "stdout",
     "output_type": "stream",
     "text": [
      "be_glad am_glad a_pretty is_pretty a_lucky\n"
     ]
    }
   ],
   "source": [
    "text2.common_contexts([\"monstrous\", \"very\"])"
   ]
  },
  {
   "cell_type": "markdown",
   "metadata": {},
   "source": [
    "## Exercise: \n",
    "\n",
    "Pick another pair of words and test similar() and common_texts() in both texts. "
   ]
  },
  {
   "cell_type": "markdown",
   "metadata": {},
   "source": [
    "## Determine a word distribution\n",
    "\n",
    "We can determine the location of a word in a text (how many words from the beginning it appears.) This is a positional information can be displayed using a **dispersion plot**.\n",
    "\n",
    "Let's use the U.S. Presidential Inaugural Addresses to create a dispersion plot. First install and import Numpy and Matplotlib packages to produce the graph."
   ]
  },
  {
   "cell_type": "code",
   "execution_count": 8,
   "metadata": {
    "collapsed": true
   },
   "outputs": [],
   "source": [
    "import numpy as np"
   ]
  },
  {
   "cell_type": "code",
   "execution_count": 9,
   "metadata": {
    "collapsed": true
   },
   "outputs": [],
   "source": [
    "import matplotlib as mpl"
   ]
  },
  {
   "cell_type": "code",
   "execution_count": 10,
   "metadata": {
    "collapsed": true
   },
   "outputs": [],
   "source": [
    "p = text4.dispersion_plot([\"citizens\",\"democracy\", \"freedom\", \"America\"])"
   ]
  },
  {
   "cell_type": "code",
   "execution_count": 11,
   "metadata": {
    "collapsed": true
   },
   "outputs": [],
   "source": [
    "p"
   ]
  },
  {
   "cell_type": "markdown",
   "metadata": {},
   "source": [
    "## Counting Vocabulary\n",
    "\n",
    "Let's find the length of a text from start to finish, in terms of the words and punstuation symbols that appear. We are going to apply len to the book of Genesis:"
   ]
  },
  {
   "cell_type": "code",
   "execution_count": 15,
   "metadata": {
    "collapsed": false
   },
   "outputs": [
    {
     "data": {
      "text/plain": [
       "44764"
      ]
     },
     "execution_count": 15,
     "metadata": {},
     "output_type": "execute_result"
    }
   ],
   "source": [
    "len(text3)"
   ]
  },
  {
   "cell_type": "markdown",
   "metadata": {},
   "source": [
    "Genesis has 44,764 words and punctuation symbols or **tokens**\n",
    "\n",
    "A **TOKEN** is the technical name for a sequence of characters (hairy, his, :) that we want to treat as group.\n",
    "\n",
    "**How many distinct words does the book of Genesis contain?**\n",
    "\n",
    "The vocabulary of a text is the **SET** of tokens that it uses (duplicates are collapsed together)"
   ]
  },
  {
   "cell_type": "markdown",
   "metadata": {},
   "source": [
    "set(text3)\n",
    "\n",
    "sorted(set(text3))\n",
    "\n",
    "Note: All capitalized words precede lowercase words."
   ]
  },
  {
   "cell_type": "code",
   "execution_count": 16,
   "metadata": {
    "collapsed": false
   },
   "outputs": [
    {
     "data": {
      "text/plain": [
       "2789"
      ]
     },
     "execution_count": 16,
     "metadata": {},
     "output_type": "execute_result"
    }
   ],
   "source": [
    "len(sorted(set(text3)))"
   ]
  },
  {
   "cell_type": "markdown",
   "metadata": {},
   "source": [
    "Although the book of Genesis has 44,764 tokens, this book has only 2,789 distinct words or words types.\n",
    "a **word type** is the form of spelling of the word independently of its specific occurrences in a text - that is, the word considered as a unique item of vocabulary.\n",
    "This count will include punctuation symbols, so we can generally call these unique items **types** instead of word types."
   ]
  },
  {
   "cell_type": "markdown",
   "metadata": {},
   "source": [
    "Calculate the lexical richness of the text. The next example shows us that each word is used 16 times on average (use floating-point division):"
   ]
  },
  {
   "cell_type": "code",
   "execution_count": 17,
   "metadata": {
    "collapsed": false
   },
   "outputs": [
    {
     "data": {
      "text/plain": [
       "16.050197203298673"
      ]
     },
     "execution_count": 17,
     "metadata": {},
     "output_type": "execute_result"
    }
   ],
   "source": [
    "len(text3) / len(set(text3))"
   ]
  },
  {
   "cell_type": "markdown",
   "metadata": {},
   "source": [
    "We can count how often a word occurs in a text, and compute what percentage of the text is taken up by a specific word:"
   ]
  },
  {
   "cell_type": "code",
   "execution_count": 18,
   "metadata": {
    "collapsed": false
   },
   "outputs": [
    {
     "data": {
      "text/plain": [
       "5"
      ]
     },
     "execution_count": 18,
     "metadata": {},
     "output_type": "execute_result"
    }
   ],
   "source": [
    "text3.count(\"smote\")"
   ]
  },
  {
   "cell_type": "code",
   "execution_count": 19,
   "metadata": {
    "collapsed": false
   },
   "outputs": [
    {
     "data": {
      "text/plain": [
       "1.4643016433938312"
      ]
     },
     "execution_count": 19,
     "metadata": {},
     "output_type": "execute_result"
    }
   ],
   "source": [
    "100 * text4.count('a') / len(text4)"
   ]
  },
  {
   "cell_type": "markdown",
   "metadata": {},
   "source": [
    "## Exercise:\n",
    "\n",
    "How many times does the word *lol* appears in text5?"
   ]
  },
  {
   "cell_type": "markdown",
   "metadata": {},
   "source": [
    "Because counting words and calculating *lexical diversity* and *percentage* are very common we can a function to do that."
   ]
  },
  {
   "cell_type": "code",
   "execution_count": 20,
   "metadata": {
    "collapsed": true
   },
   "outputs": [],
   "source": [
    "def lexical_diversity(text):\n",
    "    return len(text) / len(set(text))"
   ]
  },
  {
   "cell_type": "code",
   "execution_count": 21,
   "metadata": {
    "collapsed": true
   },
   "outputs": [],
   "source": [
    "def percentage(count, total):\n",
    "    return 100 * count / total"
   ]
  },
  {
   "cell_type": "code",
   "execution_count": 22,
   "metadata": {
    "collapsed": false
   },
   "outputs": [
    {
     "data": {
      "text/plain": [
       "16.050197203298673"
      ]
     },
     "execution_count": 22,
     "metadata": {},
     "output_type": "execute_result"
    }
   ],
   "source": [
    "lexical_diversity(text3)"
   ]
  },
  {
   "cell_type": "code",
   "execution_count": 23,
   "metadata": {
    "collapsed": false
   },
   "outputs": [
    {
     "data": {
      "text/plain": [
       "7.420046158918563"
      ]
     },
     "execution_count": 23,
     "metadata": {},
     "output_type": "execute_result"
    }
   ],
   "source": [
    "lexical_diversity(text5)"
   ]
  },
  {
   "cell_type": "code",
   "execution_count": 24,
   "metadata": {
    "collapsed": false
   },
   "outputs": [
    {
     "data": {
      "text/plain": [
       "1.4643016433938312"
      ]
     },
     "execution_count": 24,
     "metadata": {},
     "output_type": "execute_result"
    }
   ],
   "source": [
    "percentage(text4.count('a'), len(text4))"
   ]
  },
  {
   "cell_type": "markdown",
   "metadata": {},
   "source": [
    "### Examples of Lexical diversity by Genre\n",
    "\n",
    "1. skill and hobbies (6.9)\n",
    "2. humor (4.3)\n",
    "3. fiction: science (4.5)\n",
    "4. press: reportage (7.0)\n",
    "5. fiction: romance (8.3)\n",
    "6. religion (6.2)\n"
   ]
  },
  {
   "cell_type": "markdown",
   "metadata": {},
   "source": [
    "## Python: Texts as Lists of Words\n",
    "\n",
    "A text is a sequence of symbols\n",
    "Here is how we represent in Python the opening sentence of *Moby Dick*"
   ]
  },
  {
   "cell_type": "code",
   "execution_count": 25,
   "metadata": {
    "collapsed": true
   },
   "outputs": [],
   "source": [
    "sent1 = ['Call', 'me', 'Ishmael', '.']"
   ]
  },
  {
   "cell_type": "code",
   "execution_count": 26,
   "metadata": {
    "collapsed": false
   },
   "outputs": [
    {
     "data": {
      "text/plain": [
       "4"
      ]
     },
     "execution_count": 26,
     "metadata": {},
     "output_type": "execute_result"
    }
   ],
   "source": [
    "len(sent1)"
   ]
  },
  {
   "cell_type": "code",
   "execution_count": 27,
   "metadata": {
    "collapsed": false
   },
   "outputs": [
    {
     "data": {
      "text/plain": [
       "1.0"
      ]
     },
     "execution_count": 27,
     "metadata": {},
     "output_type": "execute_result"
    }
   ],
   "source": [
    "lexical_diversity(sent1)"
   ]
  },
  {
   "cell_type": "code",
   "execution_count": 28,
   "metadata": {
    "collapsed": false
   },
   "outputs": [
    {
     "data": {
      "text/plain": [
       "['The',\n",
       " 'family',\n",
       " 'of',\n",
       " 'Dashwood',\n",
       " 'had',\n",
       " 'long',\n",
       " 'been',\n",
       " 'settled',\n",
       " 'in',\n",
       " 'Sussex',\n",
       " '.']"
      ]
     },
     "execution_count": 28,
     "metadata": {},
     "output_type": "execute_result"
    }
   ],
   "source": [
    "sent2"
   ]
  },
  {
   "cell_type": "markdown",
   "metadata": {},
   "source": [
    "## Exercise:\n",
    "\n",
    "Make up two sentences of your own and apply set(), sorted(), len() and ex.count()"
   ]
  },
  {
   "cell_type": "markdown",
   "metadata": {},
   "source": [
    "## Concatenation\n",
    "\n",
    "In Python you can use addition operation on lists. Adding two lists creates a new one with everything in the first list followed by everything in the second list."
   ]
  },
  {
   "cell_type": "code",
   "execution_count": 29,
   "metadata": {
    "collapsed": false
   },
   "outputs": [
    {
     "data": {
      "text/plain": [
       "['Fellow',\n",
       " '-',\n",
       " 'Citizens',\n",
       " 'of',\n",
       " 'the',\n",
       " 'Senate',\n",
       " 'and',\n",
       " 'of',\n",
       " 'the',\n",
       " 'House',\n",
       " 'of',\n",
       " 'Representatives',\n",
       " ':',\n",
       " 'Call',\n",
       " 'me',\n",
       " 'Ishmael',\n",
       " '.']"
      ]
     },
     "execution_count": 29,
     "metadata": {},
     "output_type": "execute_result"
    }
   ],
   "source": [
    "sent4 + sent1"
   ]
  },
  {
   "cell_type": "markdown",
   "metadata": {},
   "source": [
    "To add a new element to the list use append() "
   ]
  },
  {
   "cell_type": "code",
   "execution_count": 30,
   "metadata": {
    "collapsed": false
   },
   "outputs": [
    {
     "data": {
      "text/plain": [
       "['Call', 'me', 'Ishmael', '.', 'Some']"
      ]
     },
     "execution_count": 30,
     "metadata": {},
     "output_type": "execute_result"
    }
   ],
   "source": [
    "sent1.append(\"Some\")\n",
    "sent1"
   ]
  },
  {
   "cell_type": "markdown",
   "metadata": {},
   "source": [
    "## Indexing Lists\n",
    "\n",
    "We can identify the elements of a Python list by the order of occurrence in the list.\n",
    "The element that represents this position is the item's **index**."
   ]
  },
  {
   "cell_type": "code",
   "execution_count": 31,
   "metadata": {
    "collapsed": false
   },
   "outputs": [
    {
     "data": {
      "text/plain": [
       "173"
      ]
     },
     "execution_count": 31,
     "metadata": {},
     "output_type": "execute_result"
    }
   ],
   "source": [
    "text4.index('awaken')"
   ]
  },
  {
   "cell_type": "markdown",
   "metadata": {},
   "source": [
    "### Slicing\n",
    "\n",
    "Python permits to access sublists, extracting manageable pieces of language from large texts."
   ]
  },
  {
   "cell_type": "code",
   "execution_count": 32,
   "metadata": {
    "collapsed": false
   },
   "outputs": [
    {
     "data": {
      "text/plain": [
       "['U86',\n",
       " 'thats',\n",
       " 'why',\n",
       " 'something',\n",
       " 'like',\n",
       " 'gamefly',\n",
       " 'is',\n",
       " 'so',\n",
       " 'good',\n",
       " 'because',\n",
       " 'you',\n",
       " 'can',\n",
       " 'actually',\n",
       " 'play',\n",
       " 'a',\n",
       " 'full',\n",
       " 'game',\n",
       " 'without',\n",
       " 'buying',\n",
       " 'it']"
      ]
     },
     "execution_count": 32,
     "metadata": {},
     "output_type": "execute_result"
    }
   ],
   "source": [
    "text5[16715:16735]"
   ]
  },
  {
   "cell_type": "markdown",
   "metadata": {},
   "source": [
    "Some other subtleties of indexes:"
   ]
  },
  {
   "cell_type": "code",
   "execution_count": 33,
   "metadata": {
    "collapsed": true
   },
   "outputs": [],
   "source": [
    "sent = ['word1', 'word2', 'word3', 'word4', 'word5', 'word6', 'word7', 'word8', 'word9', 'word10']"
   ]
  },
  {
   "cell_type": "code",
   "execution_count": 34,
   "metadata": {
    "collapsed": false
   },
   "outputs": [
    {
     "data": {
      "text/plain": [
       "'word1'"
      ]
     },
     "execution_count": 34,
     "metadata": {},
     "output_type": "execute_result"
    }
   ],
   "source": [
    "sent[0]"
   ]
  },
  {
   "cell_type": "code",
   "execution_count": 35,
   "metadata": {
    "collapsed": false
   },
   "outputs": [
    {
     "data": {
      "text/plain": [
       "'word10'"
      ]
     },
     "execution_count": 35,
     "metadata": {},
     "output_type": "execute_result"
    }
   ],
   "source": [
    "sent[9]"
   ]
  },
  {
   "cell_type": "code",
   "execution_count": 36,
   "metadata": {
    "collapsed": false
   },
   "outputs": [
    {
     "data": {
      "text/plain": [
       "['word2', 'word3', 'word4', 'word5', 'word6', 'word7', 'word8', 'word9']"
      ]
     },
     "execution_count": 36,
     "metadata": {},
     "output_type": "execute_result"
    }
   ],
   "source": [
    "sent[1:9]"
   ]
  },
  {
   "cell_type": "markdown",
   "metadata": {},
   "source": [
    "### Computing with Language: Simple Statistics\n",
    "\n",
    "Check the following code"
   ]
  },
  {
   "cell_type": "code",
   "execution_count": 37,
   "metadata": {
    "collapsed": false
   },
   "outputs": [
    {
     "data": {
      "text/plain": [
       "{'After', 'all', 'and', 'done', 'is', 'more', 'said', 'than'}"
      ]
     },
     "execution_count": 37,
     "metadata": {},
     "output_type": "execute_result"
    }
   ],
   "source": [
    "saying = ['After', 'all', 'is', 'said', 'and', 'done', 'more', 'is', 'said', 'than', 'done']\n",
    "tokens = set(saying)\n",
    "tokens"
   ]
  },
  {
   "cell_type": "code",
   "execution_count": 38,
   "metadata": {
    "collapsed": false
   },
   "outputs": [
    {
     "data": {
      "text/plain": [
       "['After', 'all', 'and', 'done', 'is', 'more', 'said', 'than']"
      ]
     },
     "execution_count": 38,
     "metadata": {},
     "output_type": "execute_result"
    }
   ],
   "source": [
    "tokens = sorted(set(saying))\n",
    "tokens"
   ]
  },
  {
   "cell_type": "code",
   "execution_count": 39,
   "metadata": {
    "collapsed": false
   },
   "outputs": [
    {
     "data": {
      "text/plain": [
       "['said', 'than']"
      ]
     },
     "execution_count": 39,
     "metadata": {},
     "output_type": "execute_result"
    }
   ],
   "source": [
    "tokens[-2:]"
   ]
  },
  {
   "cell_type": "markdown",
   "metadata": {},
   "source": [
    "You can use a word as a string"
   ]
  },
  {
   "cell_type": "code",
   "execution_count": 40,
   "metadata": {
    "collapsed": false
   },
   "outputs": [
    {
     "data": {
      "text/plain": [
       "'M'"
      ]
     },
     "execution_count": 40,
     "metadata": {},
     "output_type": "execute_result"
    }
   ],
   "source": [
    "name = 'Monty'\n",
    "name[0]"
   ]
  },
  {
   "cell_type": "code",
   "execution_count": 41,
   "metadata": {
    "collapsed": false
   },
   "outputs": [
    {
     "data": {
      "text/plain": [
       "'y'"
      ]
     },
     "execution_count": 41,
     "metadata": {},
     "output_type": "execute_result"
    }
   ],
   "source": [
    "name[4]"
   ]
  },
  {
   "cell_type": "code",
   "execution_count": 42,
   "metadata": {
    "collapsed": false
   },
   "outputs": [
    {
     "data": {
      "text/plain": [
       "'MontyMonty'"
      ]
     },
     "execution_count": 42,
     "metadata": {},
     "output_type": "execute_result"
    }
   ],
   "source": [
    "name * 2"
   ]
  },
  {
   "cell_type": "code",
   "execution_count": 43,
   "metadata": {
    "collapsed": false
   },
   "outputs": [
    {
     "data": {
      "text/plain": [
       "'Monty!'"
      ]
     },
     "execution_count": 43,
     "metadata": {},
     "output_type": "execute_result"
    }
   ],
   "source": [
    "name + '!'"
   ]
  },
  {
   "cell_type": "markdown",
   "metadata": {},
   "source": [
    "You can join words of a list to make a single string, or split a string into a list."
   ]
  },
  {
   "cell_type": "code",
   "execution_count": 44,
   "metadata": {
    "collapsed": false
   },
   "outputs": [
    {
     "data": {
      "text/plain": [
       "'Monty Python'"
      ]
     },
     "execution_count": 44,
     "metadata": {},
     "output_type": "execute_result"
    }
   ],
   "source": [
    "' '.join(['Monty', 'Python'])"
   ]
  },
  {
   "cell_type": "code",
   "execution_count": 45,
   "metadata": {
    "collapsed": false
   },
   "outputs": [
    {
     "data": {
      "text/plain": [
       "['Monty', 'Python']"
      ]
     },
     "execution_count": 45,
     "metadata": {},
     "output_type": "execute_result"
    }
   ],
   "source": [
    "'Monty Python'. split()"
   ]
  },
  {
   "cell_type": "markdown",
   "metadata": {},
   "source": [
    "### Frequency distributions\n",
    "\n",
    "A Frequency Distribution tells us the frequency of each vocabulary item in the text.\n",
    "Let's use the FreqDist to find the 50 most frequent words in *Moby Dick*"
   ]
  },
  {
   "cell_type": "code",
   "execution_count": 46,
   "metadata": {
    "collapsed": false
   },
   "outputs": [
    {
     "data": {
      "text/plain": [
       "Counter({'glitteringly': 1,\n",
       "         'officer': 15,\n",
       "         'bass': 1,\n",
       "         'selectest': 1,\n",
       "         'traditions': 8,\n",
       "         'echo': 2,\n",
       "         '116': 1,\n",
       "         'unmanned': 1,\n",
       "         'countersinking': 1,\n",
       "         'happy': 8,\n",
       "         'rounder': 1,\n",
       "         'dood': 2,\n",
       "         'teaches': 3,\n",
       "         'pealing': 1,\n",
       "         'inexpressive': 1,\n",
       "         'choke': 1,\n",
       "         'undress': 1,\n",
       "         'SHIPWRECK': 2,\n",
       "         'case': 69,\n",
       "         'menacing': 2,\n",
       "         'sprat': 1,\n",
       "         'habituated': 1,\n",
       "         'insular': 4,\n",
       "         'Vendome': 1,\n",
       "         'metropolitan': 3,\n",
       "         'unmannerly': 2,\n",
       "         '21st': 1,\n",
       "         'bodily': 26,\n",
       "         'impart': 2,\n",
       "         'bale': 2,\n",
       "         'BIOGRAPHY': 1,\n",
       "         'Tashtego': 54,\n",
       "         'mourning': 2,\n",
       "         'unreasoning': 3,\n",
       "         'striking': 23,\n",
       "         'L': 1,\n",
       "         'antelope': 1,\n",
       "         'jacket': 22,\n",
       "         'clenching': 1,\n",
       "         'Raphael': 1,\n",
       "         'abated': 3,\n",
       "         'fly': 14,\n",
       "         'dusky': 5,\n",
       "         'herons': 1,\n",
       "         'preventer': 1,\n",
       "         'drabbest': 1,\n",
       "         'feebly': 1,\n",
       "         'VOYAGER': 1,\n",
       "         'striven': 1,\n",
       "         'snuffers': 1,\n",
       "         'accompanies': 1,\n",
       "         'wanting': 11,\n",
       "         'fumbled': 1,\n",
       "         'bottle': 5,\n",
       "         'brimmers': 1,\n",
       "         'evening': 18,\n",
       "         'purposing': 2,\n",
       "         'EZEKIEL': 1,\n",
       "         'erudition': 1,\n",
       "         'parti': 1,\n",
       "         'Chestnut': 1,\n",
       "         'maimed': 2,\n",
       "         'depose': 1,\n",
       "         'bulb': 1,\n",
       "         'Beams': 1,\n",
       "         'boundary': 1,\n",
       "         'untainted': 1,\n",
       "         'oaken': 5,\n",
       "         'breezeless': 1,\n",
       "         '7': 2,\n",
       "         'mannerly': 1,\n",
       "         'bordered': 1,\n",
       "         'layn': 1,\n",
       "         'faltering': 2,\n",
       "         'problem': 7,\n",
       "         'whirled': 4,\n",
       "         'judges': 1,\n",
       "         'milkiness': 1,\n",
       "         'durst': 3,\n",
       "         'fold': 6,\n",
       "         'type': 1,\n",
       "         'incorporate': 2,\n",
       "         'TOLD': 2,\n",
       "         'cylinders': 1,\n",
       "         'good': 192,\n",
       "         'minds': 14,\n",
       "         'indite': 1,\n",
       "         'Franklin': 1,\n",
       "         'pitch': 19,\n",
       "         'archangel': 8,\n",
       "         'greatness': 2,\n",
       "         'anomalous': 1,\n",
       "         'whitish': 2,\n",
       "         'slipping': 5,\n",
       "         'exact': 8,\n",
       "         'individually': 1,\n",
       "         'populousness': 1,\n",
       "         'See': 19,\n",
       "         'Sydney': 1,\n",
       "         'moustache': 2,\n",
       "         'betaken': 1,\n",
       "         'sob': 3,\n",
       "         'olden': 1,\n",
       "         'fanciful': 1,\n",
       "         'fraternity': 2,\n",
       "         'gravity': 4,\n",
       "         'woof': 7,\n",
       "         'gazing': 22,\n",
       "         'distance': 39,\n",
       "         'unworthy': 4,\n",
       "         'politely': 4,\n",
       "         'borrowed': 3,\n",
       "         'spines': 1,\n",
       "         'concussions': 1,\n",
       "         'indubitably': 1,\n",
       "         'passing': 21,\n",
       "         'slanderin': 1,\n",
       "         'inter': 1,\n",
       "         'flanks': 7,\n",
       "         'stanzas': 1,\n",
       "         'Arnold': 1,\n",
       "         'Cruppered': 1,\n",
       "         'furs': 1,\n",
       "         'housekeepers': 1,\n",
       "         'Australia': 2,\n",
       "         'vagueness': 1,\n",
       "         '68': 1,\n",
       "         'distinguishing': 1,\n",
       "         'WHERE': 1,\n",
       "         'Stood': 1,\n",
       "         'bottles': 2,\n",
       "         'substantial': 3,\n",
       "         'obviously': 1,\n",
       "         'often': 68,\n",
       "         'negro': 22,\n",
       "         'Bamboo': 1,\n",
       "         'monumental': 1,\n",
       "         'palavering': 1,\n",
       "         'worming': 1,\n",
       "         'contract': 2,\n",
       "         'crim': 1,\n",
       "         'AROUND': 1,\n",
       "         'sallied': 5,\n",
       "         'Lazarus': 5,\n",
       "         'beheaded': 6,\n",
       "         'model': 4,\n",
       "         'respond': 1,\n",
       "         'bitterer': 1,\n",
       "         'sits': 5,\n",
       "         'levelled': 9,\n",
       "         'tremendousness': 1,\n",
       "         'mistakes': 2,\n",
       "         'unabated': 3,\n",
       "         'mite': 1,\n",
       "         'genially': 1,\n",
       "         'Champollion': 2,\n",
       "         'plied': 1,\n",
       "         'world': 173,\n",
       "         'reciprocally': 1,\n",
       "         'cloths': 1,\n",
       "         'project': 2,\n",
       "         'clingings': 1,\n",
       "         'crowned': 3,\n",
       "         'yonder': 16,\n",
       "         'HAILS': 1,\n",
       "         'circumvention': 1,\n",
       "         'effulgences': 2,\n",
       "         'gallop': 1,\n",
       "         'beholds': 1,\n",
       "         'Seizing': 3,\n",
       "         'debel': 1,\n",
       "         'afford': 9,\n",
       "         'conveying': 2,\n",
       "         'Ridge': 2,\n",
       "         'View': 2,\n",
       "         'prejudices': 3,\n",
       "         'gilded': 3,\n",
       "         'lins': 1,\n",
       "         'yourself': 26,\n",
       "         'gifted': 2,\n",
       "         'passenger': 6,\n",
       "         'babbling': 1,\n",
       "         'accumulated': 3,\n",
       "         'fearlessness': 2,\n",
       "         'speaker': 1,\n",
       "         'begone': 1,\n",
       "         'involutions': 2,\n",
       "         'brighter': 3,\n",
       "         'insatiate': 2,\n",
       "         'became': 24,\n",
       "         'MORTAL': 1,\n",
       "         'rumbled': 1,\n",
       "         'Bunyan': 1,\n",
       "         'roomy': 1,\n",
       "         'pursuing': 5,\n",
       "         'journey': 3,\n",
       "         'Fits': 1,\n",
       "         'restlessness': 1,\n",
       "         'terraqueous': 1,\n",
       "         'LEATHER': 1,\n",
       "         'bomb': 1,\n",
       "         'ventilated': 1,\n",
       "         'Mungo': 2,\n",
       "         'trail': 3,\n",
       "         'BOATS': 1,\n",
       "         'breadfruit': 1,\n",
       "         'biggest': 2,\n",
       "         'places': 20,\n",
       "         'Moorish': 1,\n",
       "         'druggist': 1,\n",
       "         'throttled': 1,\n",
       "         'haters': 1,\n",
       "         'trumps': 1,\n",
       "         'solace': 3,\n",
       "         'Marius': 1,\n",
       "         'Christian': 18,\n",
       "         'Much': 5,\n",
       "         'Deliberately': 1,\n",
       "         'spend': 9,\n",
       "         'Hear': 3,\n",
       "         '1833': 1,\n",
       "         'SONG': 2,\n",
       "         'ROCKS': 1,\n",
       "         'hide': 6,\n",
       "         'Presbyterians': 1,\n",
       "         'ETYMOLOGY': 1,\n",
       "         'reforming': 1,\n",
       "         'ceremony': 4,\n",
       "         'abandonment': 2,\n",
       "         'milling': 2,\n",
       "         'adjusting': 1,\n",
       "         'builded': 2,\n",
       "         'OF': 49,\n",
       "         'rouse': 1,\n",
       "         'trade': 2,\n",
       "         'pictures': 13,\n",
       "         'voices': 7,\n",
       "         'meadows': 3,\n",
       "         'genealogies': 2,\n",
       "         'quarrelsome': 1,\n",
       "         'bales': 2,\n",
       "         'disclosures': 2,\n",
       "         'expansive': 2,\n",
       "         'spademan': 1,\n",
       "         'angular': 3,\n",
       "         'Catholic': 2,\n",
       "         'livingly': 2,\n",
       "         'gleam': 1,\n",
       "         'potatoes': 1,\n",
       "         'Cadiz': 4,\n",
       "         'Boy': 15,\n",
       "         'inexperience': 1,\n",
       "         'Years': 2,\n",
       "         'Rat': 1,\n",
       "         'communicated': 1,\n",
       "         'limb': 6,\n",
       "         'inch': 19,\n",
       "         'gripping': 1,\n",
       "         'retraced': 1,\n",
       "         'removing': 4,\n",
       "         'vexatious': 1,\n",
       "         'Blanco': 1,\n",
       "         'totality': 1,\n",
       "         'magnificent': 2,\n",
       "         'paces': 2,\n",
       "         'pads': 1,\n",
       "         'Dodge': 1,\n",
       "         'jokes': 1,\n",
       "         'heralding': 1,\n",
       "         'padded': 2,\n",
       "         'printing': 1,\n",
       "         'appearances': 4,\n",
       "         '.]': 2,\n",
       "         'scornest': 1,\n",
       "         '31': 1,\n",
       "         'unappeasable': 1,\n",
       "         'ignorantly': 4,\n",
       "         'Days': 2,\n",
       "         'Nat': 1,\n",
       "         'patch': 1,\n",
       "         'prosperous': 1,\n",
       "         'launching': 2,\n",
       "         'thousandth': 2,\n",
       "         'plunging': 6,\n",
       "         'sartin': 1,\n",
       "         'conceits': 4,\n",
       "         'Tierce': 1,\n",
       "         'undulating': 3,\n",
       "         'ungovernable': 1,\n",
       "         'paine': 1,\n",
       "         'magazine': 2,\n",
       "         'hovering': 10,\n",
       "         'deer': 2,\n",
       "         'deserves': 3,\n",
       "         'domes': 1,\n",
       "         'duplicates': 1,\n",
       "         'titles': 1,\n",
       "         'fortresses': 2,\n",
       "         'bored': 2,\n",
       "         'destitute': 2,\n",
       "         'filled': 22,\n",
       "         'imputation': 2,\n",
       "         'proportioned': 1,\n",
       "         'appearing': 3,\n",
       "         'prophetic': 1,\n",
       "         'inscriptions': 3,\n",
       "         'centaurs': 2,\n",
       "         'namelessly': 1,\n",
       "         'vertical': 5,\n",
       "         'Long': 11,\n",
       "         'punchbowl': 4,\n",
       "         'REPEATED': 1,\n",
       "         'hunch': 3,\n",
       "         'gnawing': 1,\n",
       "         'illustrative': 2,\n",
       "         'painting': 5,\n",
       "         'stormy': 3,\n",
       "         'voyagers': 1,\n",
       "         'jaws': 30,\n",
       "         'beadle': 2,\n",
       "         'cave': 5,\n",
       "         'coercing': 1,\n",
       "         'stood': 89,\n",
       "         'theoretic': 2,\n",
       "         'gradations': 1,\n",
       "         'hereafter': 9,\n",
       "         'Pines': 1,\n",
       "         'vassal': 1,\n",
       "         'Moreover': 10,\n",
       "         'rather': 68,\n",
       "         'vibrations': 1,\n",
       "         'ANY': 1,\n",
       "         'fruits': 1,\n",
       "         'sinning': 1,\n",
       "         'wears': 7,\n",
       "         'Assyrian': 1,\n",
       "         'rendered': 1,\n",
       "         'chief': 30,\n",
       "         'tidings': 4,\n",
       "         'slain': 12,\n",
       "         'needed': 7,\n",
       "         'matted': 2,\n",
       "         'lose': 7,\n",
       "         'Coast': 2,\n",
       "         'close': 54,\n",
       "         'top': 68,\n",
       "         'outlaws': 2,\n",
       "         'decorated': 1,\n",
       "         'Buoyed': 1,\n",
       "         'George': 10,\n",
       "         'damned': 6,\n",
       "         'LEVIATHAN': 1,\n",
       "         'monitions': 1,\n",
       "         'WHIFF': 1,\n",
       "         'showers': 3,\n",
       "         'Lakeman': 24,\n",
       "         'stride': 1,\n",
       "         'Gather': 1,\n",
       "         'plight': 5,\n",
       "         'navy': 5,\n",
       "         'Hish': 1,\n",
       "         'COMES': 1,\n",
       "         'chewed': 4,\n",
       "         'Ego': 1,\n",
       "         'routed': 2,\n",
       "         'originate': 1,\n",
       "         'grego': 3,\n",
       "         'expresses': 1,\n",
       "         'Splice': 1,\n",
       "         'THEOLOGY': 1,\n",
       "         'unenervated': 1,\n",
       "         'nicely': 2,\n",
       "         'poor': 106,\n",
       "         'interpreter': 2,\n",
       "         'Jaffa': 2,\n",
       "         'Librarian': 1,\n",
       "         'shouting': 5,\n",
       "         'indefiniteness': 1,\n",
       "         'flitting': 6,\n",
       "         'Wafer': 1,\n",
       "         'tandem': 2,\n",
       "         'pest': 1,\n",
       "         'whose': 86,\n",
       "         'Egyptian': 7,\n",
       "         'engage': 2,\n",
       "         'Neskyeuna': 2,\n",
       "         'muskiness': 2,\n",
       "         'albatrosses': 1,\n",
       "         'narrates': 1,\n",
       "         'unwilted': 1,\n",
       "         'submerged': 8,\n",
       "         'weakness': 2,\n",
       "         'said': 302,\n",
       "         'crusader': 1,\n",
       "         'corridors': 1,\n",
       "         'makings': 1,\n",
       "         'TAIL': 1,\n",
       "         'immensities': 2,\n",
       "         'behooves': 3,\n",
       "         'withered': 2,\n",
       "         'angel': 6,\n",
       "         'sojourning': 1,\n",
       "         'jet': 32,\n",
       "         'views': 3,\n",
       "         'demanded': 11,\n",
       "         'devils': 16,\n",
       "         'witness': 3,\n",
       "         'enviable': 1,\n",
       "         'herded': 1,\n",
       "         'chronicles': 1,\n",
       "         'laughing': 4,\n",
       "         'throat': 5,\n",
       "         'Monday': 2,\n",
       "         'similes': 1,\n",
       "         'Hoveringly': 1,\n",
       "         'roast': 3,\n",
       "         'splinter': 2,\n",
       "         'Fleet': 1,\n",
       "         'dominion': 3,\n",
       "         'arrogance': 1,\n",
       "         ';\"--(': 1,\n",
       "         'used': 48,\n",
       "         'approved': 1,\n",
       "         'wandered': 1,\n",
       "         'BURST': 1,\n",
       "         'richer': 2,\n",
       "         'Fear': 1,\n",
       "         'shuddering': 9,\n",
       "         'wasn': 5,\n",
       "         'begged': 4,\n",
       "         'similitude': 3,\n",
       "         'sketches': 2,\n",
       "         'RIBS': 1,\n",
       "         'boots': 14,\n",
       "         'humbug': 3,\n",
       "         'unwound': 1,\n",
       "         'widely': 7,\n",
       "         'susceptible': 1,\n",
       "         'LETTERS': 1,\n",
       "         'eel': 2,\n",
       "         'SISTER': 1,\n",
       "         'ague': 1,\n",
       "         'X': 1,\n",
       "         'Rev': 1,\n",
       "         'cursed': 11,\n",
       "         'durability': 1,\n",
       "         'store': 4,\n",
       "         'insinuated': 1,\n",
       "         'fearfully': 2,\n",
       "         'interior': 12,\n",
       "         'Cussed': 1,\n",
       "         'sinking': 13,\n",
       "         'somerset': 2,\n",
       "         'Overhearing': 2,\n",
       "         'inclusive': 2,\n",
       "         'Land': 2,\n",
       "         'ever': 203,\n",
       "         'smugglers': 1,\n",
       "         'thundered': 1,\n",
       "         'Whew': 1,\n",
       "         'pitchiest': 1,\n",
       "         'capering': 2,\n",
       "         'Pacifics': 2,\n",
       "         'Shetland': 2,\n",
       "         'unremoved': 1,\n",
       "         'rapscallions': 1,\n",
       "         'plainest': 2,\n",
       "         'savoury': 1,\n",
       "         'Horner': 1,\n",
       "         'Coopman': 2,\n",
       "         'Forced': 1,\n",
       "         'cautious': 4,\n",
       "         'illumination': 1,\n",
       "         'kingly': 1,\n",
       "         'declining': 1,\n",
       "         'crouching': 3,\n",
       "         'inherent': 3,\n",
       "         'undiluted': 1,\n",
       "         'sleeps': 7,\n",
       "         'toil': 12,\n",
       "         'Articles': 1,\n",
       "         'piece': 16,\n",
       "         'patriot': 1,\n",
       "         'sagacity': 1,\n",
       "         'men': 236,\n",
       "         'supplemental': 2,\n",
       "         'reticule': 1,\n",
       "         'luff': 1,\n",
       "         'preserver': 2,\n",
       "         'clustering': 1,\n",
       "         'fathoms': 13,\n",
       "         'attained': 3,\n",
       "         'Here': 49,\n",
       "         'Ganges': 1,\n",
       "         'Pisces': 1,\n",
       "         'obeys': 1,\n",
       "         'heedfully': 2,\n",
       "         'sexes': 1,\n",
       "         'Must': 1,\n",
       "         'democrat': 1,\n",
       "         'rigging': 33,\n",
       "         'conversed': 3,\n",
       "         'John': 11,\n",
       "         'clerical': 1,\n",
       "         'bowes': 1,\n",
       "         'overflowing': 2,\n",
       "         'pouch': 2,\n",
       "         '122': 1,\n",
       "         'Korah': 1,\n",
       "         'oarsmen': 17,\n",
       "         'courteously': 1,\n",
       "         'testimony': 3,\n",
       "         'wonderful': 22,\n",
       "         'twelvemonth': 3,\n",
       "         'fugitive': 6,\n",
       "         'include': 5,\n",
       "         'endeavor': 4,\n",
       "         'traverse': 1,\n",
       "         'envelopes': 2,\n",
       "         'UNWINDING': 1,\n",
       "         'heighten': 2,\n",
       "         'laced': 1,\n",
       "         'Stab': 1,\n",
       "         'dost': 13,\n",
       "         'Siberian': 1,\n",
       "         'dreadnaught': 1,\n",
       "         'ranges': 1,\n",
       "         'Nimbly': 1,\n",
       "         'solid': 17,\n",
       "         'tremulous': 3,\n",
       "         'eagerness': 8,\n",
       "         'bread': 16,\n",
       "         'porch': 2,\n",
       "         'Mary': 7,\n",
       "         'counterpart': 3,\n",
       "         'empire': 4,\n",
       "         'available': 2,\n",
       "         'ERECTION': 1,\n",
       "         'fuzzing': 1,\n",
       "         'inevitable': 2,\n",
       "         'Quitting': 2,\n",
       "         'deepening': 1,\n",
       "         'SAILOR': 32,\n",
       "         'idol': 13,\n",
       "         'errand': 5,\n",
       "         'Look': 51,\n",
       "         'creates': 1,\n",
       "         'guns': 4,\n",
       "         'quadrant': 7,\n",
       "         'flashes': 4,\n",
       "         'tool': 1,\n",
       "         'avenger': 1,\n",
       "         'RIGGING': 1,\n",
       "         'eulogy': 1,\n",
       "         'assailing': 1,\n",
       "         'paler': 1,\n",
       "         'pinned': 1,\n",
       "         'Cods': 1,\n",
       "         'brick': 4,\n",
       "         'ascriptions': 1,\n",
       "         'hems': 1,\n",
       "         'gay': 13,\n",
       "         'dismally': 2,\n",
       "         'mossy': 1,\n",
       "         'stone': 18,\n",
       "         'flank': 13,\n",
       "         'spool': 2,\n",
       "         'Hearkening': 1,\n",
       "         'harpooned': 8,\n",
       "         'whirl': 2,\n",
       "         'twilight': 5,\n",
       "         'hindmost': 1,\n",
       "         '120': 1,\n",
       "         'barbs': 12,\n",
       "         'DISCOVERS': 1,\n",
       "         'sympathetically': 1,\n",
       "         'marvellous': 15,\n",
       "         'lists': 1,\n",
       "         '129': 1,\n",
       "         'slippery': 6,\n",
       "         'Never': 10,\n",
       "         'penniless': 1,\n",
       "         'manifested': 4,\n",
       "         'blinding': 5,\n",
       "         'primitive': 3,\n",
       "         'phrensied': 1,\n",
       "         'yearly': 1,\n",
       "         'awakened': 4,\n",
       "         'ways': 20,\n",
       "         'refuse': 6,\n",
       "         'freebooting': 1,\n",
       "         'approval': 1,\n",
       "         'Ding': 2,\n",
       "         'French': 18,\n",
       "         'February': 1,\n",
       "         'unmisgiving': 1,\n",
       "         'conflagration': 1,\n",
       "         'Crown': 1,\n",
       "         'demands': 1,\n",
       "         'feigned': 1,\n",
       "         'holds': 7,\n",
       "         'corpusants': 6,\n",
       "         'contenting': 1,\n",
       "         'caper': 1,\n",
       "         'rowed': 1,\n",
       "         'Rogers': 1,\n",
       "         'Closing': 1,\n",
       "         'charts': 7,\n",
       "         'Pharaoh': 2,\n",
       "         'lengths': 4,\n",
       "         'treading': 1,\n",
       "         'opportunity': 5,\n",
       "         'snare': 1,\n",
       "         'BENNETT': 2,\n",
       "         'Art': 2,\n",
       "         'regarded': 23,\n",
       "         'bid': 7,\n",
       "         'hither': 13,\n",
       "         'attitudes': 3,\n",
       "         'companion': 1,\n",
       "         'undaunted': 2,\n",
       "         'allotted': 1,\n",
       "         'triangularly': 1,\n",
       "         'wherein': 7,\n",
       "         'concern': 10,\n",
       "         'smoking': 18,\n",
       "         'stepmother': 2,\n",
       "         'steersman': 7,\n",
       "         'appearance': 11,\n",
       "         'eastwards': 1,\n",
       "         'neighboring': 4,\n",
       "         'Antarctic': 5,\n",
       "         'KILLER': 3,\n",
       "         'Grand': 9,\n",
       "         'island': 27,\n",
       "         'funereal': 1,\n",
       "         'stash': 3,\n",
       "         'ground': 49,\n",
       "         'confound': 1,\n",
       "         'abstemious': 1,\n",
       "         'finny': 2,\n",
       "         'misfortunes': 1,\n",
       "         'Natural': 5,\n",
       "         'dismembering': 1,\n",
       "         'Potluck': 1,\n",
       "         'find': 55,\n",
       "         'gallied': 3,\n",
       "         'greater': 13,\n",
       "         'amplify': 1,\n",
       "         'Created': 1,\n",
       "         'retentive': 1,\n",
       "         'mustered': 1,\n",
       "         'vocation': 11,\n",
       "         'exclusiveness': 2,\n",
       "         'dwelling': 2,\n",
       "         'kentledge': 1,\n",
       "         'corpse': 14,\n",
       "         'steeply': 2,\n",
       "         'Brisson': 1,\n",
       "         'hoarded': 1,\n",
       "         'acerbities': 1,\n",
       "         'driver': 4,\n",
       "         'Cod': 5,\n",
       "         'conservatories': 1,\n",
       "         'intently': 9,\n",
       "         'seasoned': 3,\n",
       "         'Bonapartes': 1,\n",
       "         'allegorical': 1,\n",
       "         'imminglings': 1,\n",
       "         'surf': 5,\n",
       "         'starting': 8,\n",
       "         'limbs': 10,\n",
       "         'tipping': 1,\n",
       "         'hugged': 1,\n",
       "         'cynical': 1,\n",
       "         'sucklings': 1,\n",
       "         '?': 637,\n",
       "         'crater': 4,\n",
       "         'slacken': 1,\n",
       "         'jeeringly': 1,\n",
       "         'Bouton': 5,\n",
       "         'penetrate': 3,\n",
       "         'drowned': 12,\n",
       "         'habeat': 1,\n",
       "         'toothache': 2,\n",
       "         'midship': 1,\n",
       "         'physiologist': 1,\n",
       "         'alleys': 1,\n",
       "         'superlative': 2,\n",
       "         'Milky': 1,\n",
       "         'Sartain': 1,\n",
       "         'milliner': 1,\n",
       "         'drumsticks': 1,\n",
       "         'thirstily': 1,\n",
       "         'expenses': 1,\n",
       "         'absurdly': 1,\n",
       "         'thicker': 1,\n",
       "         'worshipping': 5,\n",
       "         'seizings': 2,\n",
       "         'trying': 17,\n",
       "         'success': 5,\n",
       "         'troubledly': 1,\n",
       "         'Me': 2,\n",
       "         'worship': 11,\n",
       "         'larders': 1,\n",
       "         'porches': 1,\n",
       "         'jogs': 1,\n",
       "         'ripe': 6,\n",
       "         'Durer': 1,\n",
       "         'seem': 85,\n",
       "         'resentment': 2,\n",
       "         'stern': 48,\n",
       "         'Wave': 1,\n",
       "         'spindle': 1,\n",
       "         'Diving': 1,\n",
       "         'successive': 5,\n",
       "         'dissemble': 1,\n",
       "         'tint': 1,\n",
       "         'vulture': 3,\n",
       "         'surging': 3,\n",
       "         'confessed': 1,\n",
       "         'outfits': 2,\n",
       "         'PROFANE': 1,\n",
       "         'quiet': 12,\n",
       "         'elder': 1,\n",
       "         'shunned': 2,\n",
       "         'needs': 20,\n",
       "         'tally': 2,\n",
       "         'wandereth': 1,\n",
       "         'Herman': 1,\n",
       "         'rudely': 2,\n",
       "         'gashed': 1,\n",
       "         'icy': 4,\n",
       "         'bosom': 6,\n",
       "         'Pizarro': 1,\n",
       "         'endurance': 1,\n",
       "         'inexplicable': 7,\n",
       "         'peeringly': 1,\n",
       "         'shiver': 5,\n",
       "         'flakes': 3,\n",
       "         'entire': 55,\n",
       "         'delude': 1,\n",
       "         'stepping': 6,\n",
       "         'homeless': 1,\n",
       "         \"';\": 1,\n",
       "         'Monsoons': 1,\n",
       "         'Well': 56,\n",
       "         'ordinary': 19,\n",
       "         'devoured': 2,\n",
       "         'iron': 85,\n",
       "         'moderately': 2,\n",
       "         'whirlpool': 3,\n",
       "         'imperturbable': 2,\n",
       "         'distinguished': 7,\n",
       "         'finical': 1,\n",
       "         'petition': 1,\n",
       "         'ballroom': 1,\n",
       "         'roasted': 1,\n",
       "         'footpads': 1,\n",
       "         'deprived': 1,\n",
       "         'tranquilly': 4,\n",
       "         'contracted': 4,\n",
       "         'unappropriated': 1,\n",
       "         'opposing': 6,\n",
       "         'doored': 1,\n",
       "         'overbearing': 4,\n",
       "         'Sylla': 1,\n",
       "         'junction': 2,\n",
       "         'tries': 1,\n",
       "         'begins': 11,\n",
       "         'Rains': 1,\n",
       "         'bubble': 6,\n",
       "         'Eddystone': 2,\n",
       "         'superiority': 6,\n",
       "         'doggedly': 1,\n",
       "         'individuals': 2,\n",
       "         'bravely': 2,\n",
       "         'gnawed': 1,\n",
       "         'lighted': 13,\n",
       "         'symmetry': 1,\n",
       "         'remorselessly': 4,\n",
       "         'bitin': 1,\n",
       "         'Descending': 1,\n",
       "         'misdoubt': 1,\n",
       "         'primogenitures': 1,\n",
       "         'japonicas': 1,\n",
       "         'circumspection': 1,\n",
       "         'Letter': 2,\n",
       "         'Arrived': 2,\n",
       "         'imprecations': 1,\n",
       "         'voracity': 2,\n",
       "         'dipped': 3,\n",
       "         'Bobbing': 1,\n",
       "         'numbered': 1,\n",
       "         'toasted': 1,\n",
       "         'flues': 1,\n",
       "         'roundly': 1,\n",
       "         '40': 2,\n",
       "         'haunting': 1,\n",
       "         'scores': 4,\n",
       "         'Spirit': 3,\n",
       "         '127': 1,\n",
       "         'silver': 13,\n",
       "         'wrenched': 6,\n",
       "         'occupants': 1,\n",
       "         'Mediterranean': 9,\n",
       "         'historical': 8,\n",
       "         'readily': 13,\n",
       "         'five': 43,\n",
       "         'livers': 3,\n",
       "         'spoil': 4,\n",
       "         'Grounds': 1,\n",
       "         'sashes': 2,\n",
       "         'chuckle': 1,\n",
       "         'cakes': 3,\n",
       "         'smoky': 3,\n",
       "         'smiled': 1,\n",
       "         'Praetorians': 1,\n",
       "         'Corlaer': 1,\n",
       "         'fierceness': 1,\n",
       "         'coin': 9,\n",
       "         '103': 1,\n",
       "         'hammered': 8,\n",
       "         'shallows': 1,\n",
       "         'gowns': 1,\n",
       "         'propensity': 2,\n",
       "         'etc': 3,\n",
       "         'mizen': 4,\n",
       "         'code': 2,\n",
       "         'corrupt': 4,\n",
       "         'profanely': 2,\n",
       "         'comfortableness': 1,\n",
       "         'plaintiffs': 6,\n",
       "         'bolting': 1,\n",
       "         'River': 1,\n",
       "         'caddy': 1,\n",
       "         'mingling': 1,\n",
       "         'cub': 4,\n",
       "         'Lais': 1,\n",
       "         'Chapel': 4,\n",
       "         'laughs': 3,\n",
       "         'spectacle': 7,\n",
       "         'whetstones': 1,\n",
       "         'farces': 1,\n",
       "         'wonder': 34,\n",
       "         'Desolation': 1,\n",
       "         'energy': 7,\n",
       "         'hie': 1,\n",
       "         'reverse': 1,\n",
       "         'Booble': 1,\n",
       "         'summary': 3,\n",
       "         'folded': 8,\n",
       "         'washing': 2,\n",
       "         'Physiognomy': 1,\n",
       "         'reigned': 6,\n",
       "         'viciousness': 2,\n",
       "         'handling': 3,\n",
       "         'hero': 3,\n",
       "         'humped': 4,\n",
       "         'peered': 4,\n",
       "         'Matter': 1,\n",
       "         'soil': 10,\n",
       "         'uncleanliness': 1,\n",
       "         'lurks': 9,\n",
       "         'ran': 24,\n",
       "         'Grecian': 2,\n",
       "         'rested': 2,\n",
       "         'interesting': 8,\n",
       "         'Despatch': 1,\n",
       "         'fearfulness': 3,\n",
       "         'flinty': 1,\n",
       "         'omit': 2,\n",
       "         'salvation': 5,\n",
       "         'distrusting': 2,\n",
       "         'ladders': 1,\n",
       "         'gait': 2,\n",
       "         'Satan': 3,\n",
       "         'horses': 11,\n",
       "         'Herod': 1,\n",
       "         'next': 46,\n",
       "         'villains': 3,\n",
       "         'unshorn': 1,\n",
       "         'cosmetic': 2,\n",
       "         'refugees': 1,\n",
       "         'justified': 2,\n",
       "         'Halting': 1,\n",
       "         'unconscious': 6,\n",
       "         'relying': 1,\n",
       "         'pasture': 4,\n",
       "         'uttered': 3,\n",
       "         'Dampier': 1,\n",
       "         'Ahab': 501,\n",
       "         'remnant': 1,\n",
       "         'storage': 1,\n",
       "         'concurred': 1,\n",
       "         'unfort': 2,\n",
       "         'eyes': 155,\n",
       "         'gravely': 2,\n",
       "         'lunges': 1,\n",
       "         'firewood': 1,\n",
       "         'invasion': 1,\n",
       "         'intensified': 3,\n",
       "         'annals': 2,\n",
       "         'attic': 1,\n",
       "         'dies': 6,\n",
       "         'duskier': 1,\n",
       "         'crack': 8,\n",
       "         'fisheries': 3,\n",
       "         'prepared': 12,\n",
       "         'outrageous': 3,\n",
       "         'gulfs': 1,\n",
       "         'coolness': 2,\n",
       "         'anoints': 1,\n",
       "         'tongue': 11,\n",
       "         'slippering': 1,\n",
       "         'seeing': 28,\n",
       "         'belted': 3,\n",
       "         'upside': 1,\n",
       "         'audible': 1,\n",
       "         'apparatus': 1,\n",
       "         'An': 14,\n",
       "         'Like': 23,\n",
       "         'quitted': 4,\n",
       "         'helmet': 3,\n",
       "         'densely': 1,\n",
       "         'banister': 1,\n",
       "         'original': 21,\n",
       "         'entranced': 1,\n",
       "         'Almanack': 1,\n",
       "         'Killed': 2,\n",
       "         'offered': 12,\n",
       "         'overtaken': 1,\n",
       "         'harsh': 1,\n",
       "         'oasis': 1,\n",
       "         'habit': 3,\n",
       "         'Jones': 3,\n",
       "         'whip': 8,\n",
       "         'cover': 11,\n",
       "         'craggy': 1,\n",
       "         'youthful': 2,\n",
       "         'embalmed': 6,\n",
       "         'gleamed': 5,\n",
       "         'append': 1,\n",
       "         'cords': 7,\n",
       "         'victories': 1,\n",
       "         'floors': 2,\n",
       "         'sorry': 6,\n",
       "         'merciless': 1,\n",
       "         'Near': 1,\n",
       "         'embarked': 3,\n",
       "         'pans': 5,\n",
       "         'contemplative': 2,\n",
       "         'cleansed': 2,\n",
       "         'judgmatically': 1,\n",
       "         'breezes': 4,\n",
       "         'those': 297,\n",
       "         'established': 3,\n",
       "         'hams': 4,\n",
       "         'FULLLER': 1,\n",
       "         'spells': 1,\n",
       "         'stabs': 1,\n",
       "         'acquiesced': 1,\n",
       "         'noon': 19,\n",
       "         'Sailors': 1,\n",
       "         'boiling': 15,\n",
       "         '1846': 1,\n",
       "         'supperless': 1,\n",
       "         'GLOBE': 4,\n",
       "         'Have': 8,\n",
       "         'vine': 2,\n",
       "         'abashed': 1,\n",
       "         'expand': 6,\n",
       "         'shipwrecked': 3,\n",
       "         'clammy': 1,\n",
       "         'Peru': 4,\n",
       "         'tribulation': 1,\n",
       "         'slantings': 1,\n",
       "         'fashions': 2,\n",
       "         'divulged': 3,\n",
       "         'glide': 2,\n",
       "         ',\"': 302,\n",
       "         'exhilarating': 2,\n",
       "         'treacheries': 1,\n",
       "         'fertility': 1,\n",
       "         'Won': 1,\n",
       "         'indulged': 2,\n",
       "         'infidel': 7,\n",
       "         'custom': 7,\n",
       "         'climate': 1,\n",
       "         'Glimpses': 1,\n",
       "         'commentaries': 3,\n",
       "         'shave': 1,\n",
       "         'nautilus': 1,\n",
       "         'hoe': 2,\n",
       "         'prompts': 1,\n",
       "         'cataract': 2,\n",
       "         'staff': 6,\n",
       "         'honeycombs': 1,\n",
       "         'steeped': 1,\n",
       "         'giant': 2,\n",
       "         ...})"
      ]
     },
     "execution_count": 46,
     "metadata": {},
     "output_type": "execute_result"
    }
   ],
   "source": [
    "fdist1 = FreqDist(text1)\n",
    "fdist1"
   ]
  },
  {
   "cell_type": "markdown",
   "metadata": {},
   "source": [
    "Now use the expression *keys* to get a list of all the distinct types in the text."
   ]
  },
  {
   "cell_type": "code",
   "execution_count": 47,
   "metadata": {
    "collapsed": false
   },
   "outputs": [],
   "source": [
    "vocabulary1 = fdist1.keys()"
   ]
  },
  {
   "cell_type": "code",
   "execution_count": 48,
   "metadata": {
    "collapsed": false
   },
   "outputs": [
    {
     "data": {
      "text/plain": [
       "dict_keys(['Turning', 'ladies', 'Cancer', 'bass', 'selectest', 'traditions', 'interblending', 'echo', 'knowing', 'glittering', 'already', 'lion', 'missive', 'countersinking', 'burglar', 'happy', 'disposition', 'wanes', 'creak', 'rounder', 'dood', 'teaches', 'FORESAIL', 'replenishes', 'Sunday', 'pealing', 'inexpressive', 'choke', 'undress', 'SHIPWRECK', 'compilations', 'hereupon', 'pile', 'Others', 'menacing', 'brats', 'habituated', 'insular', 'Vendome', 'metropolitan', 'slights', 'unmannerly', '21st', 'bodily', 'shindy', 'solve', 'poser', 'barnacled', 'impart', 'bale', 'heath', 'moodiness', 'BIOGRAPHY', 'Hawaiian', 'Hugest', 'soothing', 'unreasoning', 'striking', 'L', 'missent', 'midships', 'digging', 'jacket', 'clenching', 'Raphael', 'abated', 'fly', 'dusky', 'herons', 'study', 'drabbest', 'cavalier', 'among', 'volley', 'VOYAGER', 'striven', 'genius', 'snuffers', 'Twice', 'wanting', 'imposing', 'pilot', 'confronted', 'fumbled', 'bottle', 'redder', 'hostility', 'brimmers', 'evening', 'purposing', 'EZEKIEL', 'amber', 'parti', 'woeful', 'Chestnut', 'memories', 'during', 'Mendanna', 'BACK', 'depose', 'make', 'traceable', 'inhabitants', 'bulb', '59', 'audacity', 'Beams', 'swearing', 'boundary', 'fatalists', 'Walfish', 'Castaway', 'crucified', 'hoisted', 'longing', 'winks', 'sterns', 'dwarfed', 'VESSEL', 'negations', 'willow', 'pulpit', 'oaken', 'breezeless', '7', 'mannerly', 'bordered', 'layn', 'Shipmates', 'congeniality', 'affecting', 'faltering', 'problem', 'whirled', 'realize', 'house', 'sermon', 'durst', 'fold', 'type', 'incorporate', 'Freely', 'TOLD', 'cylinders', 'good', 'minds', 'legerdemain', 'hatched', 'Carpenter', 'due', 'longer', 'pitch', 'tiger', 'cases', 'archangel', 'greatness', 'anomalous', 'pursue', 'whitish', 'slipping', 'theory', 'partook', 'exact', 'Swiss', 'individually', 'squire', 'brags', 'populousness', 'sinews', 'sprang', 'Sydney', 'ignoring', 'moustache', 'closed', 'betaken', 'sixteen', 'rumor', 'Making', 'bounds', 'perspective', 'sob', 'olden', 'you', 'fanciful', 'redness', 'gravity', 'REQUIEM', 'woof', 'gazing', 'isle', 'Subs', 'distance', 'unworthy', 'enjoined', 'fate', 'politely', 'article', 'whale', 'spines', 'Jeroboam', 'concussions', 'indubitably', 'lubber', 'poorly', 'Apoplexy', 'passing', 'slanderin', 'aggregation', 'wire', 'inter', 'duke', 'elucidating', 'stanzas', 'Arnold', 'gateways', 'furs', 'Despairing', 'loveliest', 'housekeepers', 'stowed', 'interweavingly', 'Spout', 'vagueness', 'Elijah', '68', 'seen', 'spouts', 'WHERE', 'performances', 'beauty', 'Supplied', 'Let', 'wan', 'bottles', 'witnesses', 'tallied', 'helped', 'markest', 'phrensy', 'chases', 'hosts', 'serenely', 'magnetically', 'Whaleman', 'sights', 'obviously', 'assail', 'hospital', 'Vishnoo', 'concocts', 'negro', 'Bamboo', 'Pythagoras', 'assertion', 'hooking', 'palavering', 'worming', 'faulty', 'lower', 'bethought', 'desires', 'Vancouver', 'Ceylon', 'palmy', 'crim', 'untottering', 'driving', 'AROUND', 'chart', 'sallied', 'Lazarus', 'beheaded', 'unmerited', 'model', 'respond', 'renowned', 'Battering', 'BROWNE', 'sits', 'levelled', 'Quakeress', 'tremendousness', 'infecting', 'affairs', 'mistakes', 'normal', 'sixty', 'evolution', 'Feegees', 'Decanter', 'mite', 'diabolism', 'dampness', 'Shakespeare', 'HANDS', 'plied', 'mole', 'blubber', 'world', 'analytic', 'reciprocally', 'revealing', 'can', 'boats', 'shrivel', 'crowned', 'yonder', 'contact', 'Tashtego', 'Mean', 'circumvention', 'radical', 'peeping', 'independent', 'bier', 'effulgences', 'singularly', 'Goodwin', 'gallop', 'catch', '\"...', 'scholar', 'Seizing', 'shaken', 'debel', 'afford', 'conveying', 'Pollard', 'rope', 'attracted', 'bastions', 'unverdured', 'ideality', 'divided', 'Fired', 'prejudices', 'quote', 'gilded', 'baffled', 'fundamental', 'Hindoos', 'illuminate', 'solicitudes', 'lins', 'forges', 'antelope', 'irregular', 'caulking', 'yourself', 'gifted', 'passenger', 'babbling', 'dromedary', 'weightiest', 'load', 'accumulated', 'fearlessness', 'speaker', 'cricket', 'One', 'don', 'swaller', 'sustains', 'involutions', 'brighter', 'breaths', 'accommodated', 'firmer', 'insatiate', 'intercepted', 'became', 'husband', 'MORTAL', 'Striking', 'confidence', 'discovering', 'thread', 'Bunyan', 'Shaster', 'roomy', 'pursuing', 'journey', 'Fits', 'errors', 'potent', 'terraqueous', 'tauntings', 'LEATHER', 'unmoor', 'coated', 'raw', 'stomachs', 'erectly', 'furnishes', 'wade', 'napping', 'Mungo', 'argued', 'alongside', 'Pantheistic', 'BOATS', 'wastingly', 'gives', 'breadfruit', 'biggest', 'Whirlpooles', 'density', 'pester', 'feebly', 'growing', 'Moorish', 'unrelieved', 'druggist', 'Man', 'throttled', 'haters', 'Insurance', 'trumps', 'Egyptians', 'stingy', 'lees', 'finite', 'MIRIAM', 'Marius', 'Christian', 'Much', 'pelted', 'christenings', 'Deliberately', 'spend', 'latitudes', 'caulked', 'Hear', 'pilgrim', '1833', 'SONG', 'ROCKS', 'hide', 'principal', 'almost', 'immutably', 'Presbyterians', 'preliminary', 'ETYMOLOGY', 'reforming', 'ceremony', 'abandonment', 'dream', 'thoughtfully', 'milling', 'Sea', 'adjusting', 'Crazed', 'builded', 'jollies', 'OF', 'kicking', 'ridges', 'rouse', 'trade', 'relatives', 'cleats', 'backbone', 'pinmoney', 'pictures', 'Louis', 'alone', 'voices', 'plaster', 'accompanies', 'pretend', 'attitude', 'laughter', 'admirer', 'subterranean', 'bales', 'eighteen', 'disclosures', 'Convulsively', 'expansive', 'boat', 'unknowing', 'angular', 'ignoramus', 'livingly', 'gleam', 'potatoes', 'Cadiz', 'chasm', 'Remember', 'groin', 'concubines', 'widowed', 'polite', 'inexperience', 'sex', 'Years', 'floating', 'Whilst', 'impetus', 'limb', 'abreast', 'inch', 'gripping', 'slid', 'odd', 'windows', 'removing', 'lapsed', 'vexatious', 'unmistakable', 'Blanco', 'however', 'congenial', 'intermission', 'plentifully', 'Quebec', 'stove', 'hopelessly', 'magnificent', 'herded', 'destinations', 'truer', 'slabs', 'Squire', 'plazza', 'solo', 'berg', 'paces', 'pads', 'regardless', 'enlightening', 'cruisings', 'paltry', 'Aware', 'Returning', 'conspicuously', 'jokes', 'Borean', 'staved', 'hindmost', 'steel', 'intellectual', 'bowline', 'smoker', 'heralding', 'PLUTARCH', 'padded', 'printing', 'River', 'appearances', '.]', 'scornest', '31', 'OFFICIO', 'bust', 'unappeasable', 'ignorantly', 'Days', 'Thought', 'perform', 'solemnity', 'BLACKSTONE', 'Perry', 'somebody', 'patch', 'prosperous', 'maimed', 'launching', 'take', 'thousandth', 'Bulwarks', 'plunging', 'ones', 'irreverence', 'discreet', 'Dey', 'tightly', 'sartin', 'conceits', 'practicable', 'Tierce', 'undulating', 'Wa', 'ungovernable', 'paine', 'magazine', 'hovering', 'deer', 'deserves', 'domes', 'duplicates', 'divinity', 'titles', 'tasted', 'fortresses', 'lug', 'circumference', 'mince', 'destitute', 'filled', 'brandy', 'imputation', 'outwards', 'WHARTON', 'appearing', 'frequent', 'perpetually', 'prophetic', 'inscriptions', 'brushing', 'namelessly', 'bewitching', 'vertical', 'Long', 'impeach', 'overheard', 'practical', 'sweetener', 'bowl', 'punchbowl', 'REPEATED', 'hunch', 'gnawing', 'embalming', 'rage', 'peradventure', 'painting', 'Hardly', 'fa', 'penning', 'stormy', 'voyagers', 'augmented', 'jaws', 'beadle', 'cave', 'sigh', 'stood', 'killers', 'Light', 'preparative', 'theoretic', 'instituted', 'trumpet', 'gradations', 'swam', 'Go', 'hereafter', 'Bress', 'vacancy', 'Pines', 'stairs', 'reigning', 'Measured', 'Moreover', 'rather', 'twig', 'vibrations', 'area', 'chilly', 'brain', 'fruits', 'surrounded', 'scorn', 'babes', 'wears', 'hoisting', 'Assyrian', 'quietest', 'ravished', 'watched', 'Spaniard', 'chief', 'solar', 'tidings', 'speaks', 'sink', 'Temperance', 'needed', 'Galleries', 'lose', 'Coast', 'close', 'top', 'outlaws', 'predecessor', 'feminam', 'spotless', 'FIFE', 'outspread', 'pennons', 'diabolically', 'WORK', 'neighbors', 'damned', 'LEVIATHAN', 'Capricornus', 'slapped', 'parties', 'sailed', 'WHIFF', 'articulated', 'showers', 'leather', 'classification', 'fuddled', 'enable', 'shocking', 'Instead', 'nor', 'stride', 'exercises', 'fainting', 'plight', 'navy', 'triumphant', 'overlook', 'Hish', 'Pity', 'resurrection', 'Ego', 'mouldy', 'abjectly', 'Sermon', 'luggage', 'questioning', 'Pulpit', 'butt', 'grego', 'Customs', 'expresses', 'thereupon', 'Splice', 'torpid', 'descendants', 'flourishing', 'THEOLOGY', 'scowled', 'unenervated', 'Satanic', 'antique', 'nicely', 'convolutions', 'bravely', 'Himself', 'lashes', 'interpreter', 'mutiny', 'tallest', 'noisy', 'bands', 'Jaffa', 'excellently', 'Librarian', 'bondsman', 'shouting', 'travelling', 'impatience', 'indefiniteness', 'knowingly', 'usages', 'Martha', 'Chartering', 'Wafer', 'tandem', 'searches', 'Swing', 'pest', 'whose', 'Egyptian', 'engage', 'expenses', 'may', 'comprehensible', 'companion', 'dreaming', 'narrates', 'transition', 'sure', 'Indiaman', 'unwilted', 'unshored', 'submerged', '31st', 'weakness', 'said', 'crusader', 'equinox', 'rocks', 'rains', 'TAIL', 'immensities', 'slopingly', 'gales', 'behooves', 'withered', 'angel', 'sojourning', 'jet', 'views', 'commonalty', 'subtleties', 'demanded', 'outdone', 'osseous', 'dodge', 'devils', 'witness', 'utility', 'whitest', 'enviable', 'Book', 'catcher', 'freewill', 'threaten', 'seethings', 'diadem', 'hollowing', 'GOLDEN', 'furiously', 'laughing', 'throat', 'Monday', 'similes', 'Tattoo', 'All', 'splinter', 'dainty', 'mout', 'Fleet', 'chrysalis', 'dominion', 'bow', 'causing', 'arrogance', 'halfspent', 'jewel', 'words', 'feature', 'approved', 'mentions', 'BURST', 'cloud', 'richer', 'drain', 'subordinately', 'classed', 'bucket', 'checkered', 'HIST', 'outriders', 'shuddering', 'wasn', 'emulation', 'TABLET', 'begged', 'eaten', 'marbles', 'abstracted', 'sketches', 'undertaker', 'tawn', 'RIBS', 'boots', 'humbug', 'unwound', 'widely', 'exaggerate', 'NEVER', 'popped', 'susceptible', 'Franklin', 'Kingdom', 'heartwoes', 'Wherein', 'inflicted', 'eel', 'SISTER', 'Algiers', 'Eckerman', 'foibles', 'CETI', 'quoggy', 'cigar', 'grimness', 'X', 'answer', 'Rev', 'cursed', 'durability', 'Being', 'sharpening', 'insinuated', 'shade', 'Indians', 'lowerings', 'interior', 'Hoisting', 'woodlands', 'sinking', 'somerset', '47', 'misery', 'inclusive', 'substituted', 'Land', 'ever', 'beefsteaks', 'smugglers', 'NINE', 'thundered', 'Whew', 'pitchiest', 'entreat', 'astral', 'capering', 'source', 'officers', 'grassy', 'machine', 'Pacifics', 'Shetland', 'Pliny', 'expose', 'founder', 'rapscallions', 'ninety', 'savoury', 'seating', 'Horner', 'operating', 'Coopman', 'explain', 'digester', 'cautious', 'Bad', 'domineered', 'illumination', 'burrower', 'faint', 'voluntary', 'kingly', 'ankles', 'gazers', 'crouching', 'mark', 'undiluted', 'sleeps', 'toil', 'Articles', 'befell', 'piece', 'hearses', 'hearsed', 'darkened', 'dislodged', 'twigs', 'sagacity', 'cinders', 'freshened', 'bound', 'Thames', 'patchwork', 'enjoyed', 'streaked', 'teetering', 'landsmen', 'need', 'luff', 'aware', 'preserver', 'observers', 'clustering', 'Shooting', 'fathoms', 'attained', 'exterminates', 'contradicted', 'Here', 'Ganges', 'flood', 'nations', 'obeys', 'heedfully', 'sexes', 'poke', 'Put', 'stirring', 'enjoys', 'conversed', 'never', 'clerical', 'bowes', 'Whaler', 'whim', '122', 'spontaneously', '--(', 'Virtue', 'oarsmen', 'pitched', 'courteously', 'testimony', 'wonderful', 'writhed', 'twelvemonth', 'Methuselah', 'proceed', 'fugitive', 'wing', 'endeavor', 'with', 'foreground', 'traverse', 'panelled', 'silence', 'Actium', 'heighten', 'wincing', 'Stab', 'See', 'careening', 'Siberian', 'dreadnaught', 'ranges', 'Nimbly', 'solid', 'CAPTORS', 'epaulets', 'Greenwich', 'snatching', 'dinning', 'eagerness', 'whereon', 'bread', 'porch', 'Mary', 'Macey', 'counterpart', '16th', 'duly', 'breasted', 'forbids', 'obliquely', 'ERECTION', 'invent', 'fuzzing', 'so', 'inevitable', 'Granting', 'Quitting', 'NOT', 'arrives', 'deepening', 'yield', 'nightly', 'undulations', 'cracks', 'street', 'idol', 'Madman', 'errand', 'Look', 'apprise', 'creates', 'habits', 'guns', 'appal', 'sidelingly', 'crafty', 'Header', 'quadrant', 'Panting', 'promise', 'frantic', 'aslope', 'bedsteads', 'flashes', 'fourth', 'localness', 'steering', 'drifting', 'Rabelais', 'violent', 'chace', 'avenger', 'RIGGING', 'eulogy', 'Naught', 'countrymen', 'panoramas', 'impetuously', 'barb', '67', 'pinned', 'LIGHT', 'Cods', 'defection', 'brick', '61', 'market', 'incidental', 'worsted', 'gay', 'dismally', 'outrage', 'stone', 'flank', 'Tertiary', 'spool', 'extracted', 'bluff', 'music', 'act', 'ferocity', 'harpooned', 'prolongings', 'tweezers', 'whirl', 'twilight', '25', 'ungraduated', 'notified', '18', 'mother', 'Horned', 'Cussed', 'barbs', 'Cattegat', 'effort', 'afforded', 'sympathetically', 'fell', 'lists', 'Narcissus', 'Spanishly', '129', 'gnashing', 'King', 'agitated', 'slippery', 'Never', 'Sounding', 'briefly', 'shore', 'penniless', 'manifested', 'waistcoats', 'knotted', 'primitive', 'recognise', 'phrensied', 'yearly', 'fairer', 'awakened', 'ways', 'refuse', 'convert', 'freebooting', 'haint', 'perpendicular', 'ghosts', 'Boone', 'greyhounds', 'cherries', 'After', 'French', 'February', 'propriety', 'disposed', 'parts', 'DEL', 'unmisgiving', 'conflagration', 'slippered', 'suddenness', 'Crown', 'shortened', 'doctors', 'demands', 'feigned', 'twain', 'bearded', 'methods', 'abode', 'stunsail', 'leopards', 'contenting', 'caper', 'interferes', 'rowed', 'Rogers', 'cell', 'Closing', 'charts', 'generated', 'Pharaoh', 'lengths', 'treading', 'Saturn', 'zig', 'opportunity', 'snare', 'BENNETT', 'Art', 'Hurrah', 'Buoyed', 'regarded', 'fibres', 'bid', 'hither', 'mustard', 'attitudes', 'grenadier', 'undaunted', 'allotted', 'inevitably', 'whipping', 'belayed', 'Arsacides', 'wherein', 'concern', 'Sunda', 'smoking', 'umbilical', 'drives', 'promontories', 'rigid', 'stepmother', 'steersman', 'appearance', 'humoredly', 'Phidias', 'neighboring', 'Antarctic', 'subjects', 'KILLER', 'usurpation', 'amazement', 'legatees', 'pen', 'unconquerable', 'upbraiding', 'sunrise', 'blundering', 'island', 'funereal', 'grasps', 'stash', 'odds', 'creeping', 'banding', 'capturing', 'goin', 'ground', 'confound', 'Milky', 'Artedi', 'amours', 'DUODECIMO', 'finny', 'casket', 'violently', 'misfortunes', 'resent', 'gouged', 'dismembering', 'Fitz', 'snoozing', 'TIME', 'Potluck', 'find', 'drug', 'satisfactorily', 'greater', 'amplify', 'Created', 'fadeless', 'modifications', 'impotence', 'horrid', 'sufferings', 'unfulfilments', 'nautilus', 'vocation', 'exclusiveness', 'braided', 'hangs', 'pave', 'corpse', 'steeply', 'crumpled', 'obstacle', 'jealousy', 'hoarded', 'selected', 'driver', 'interchangeably', 'conservatories', 'catched', 'bluer', 'BACON', 'intently', 'chock', 'seasoned', 'Blackstone', 'magian', 'Bonapartes', 'allegorical', 'empties', 'imminglings', 'surf', 'inhaled', 'starting', 'Australia', 'tipping', 'wood', 'hugged', 'defunct', 'umbrellas', 'skysail', 'sinners', 'poker', 'jeer', 'weed', 'gleams', 'sucklings', '?', 'crater', 'slacken', 'Retribution', 'ignited', 'jeeringly', 'sallow', 'whaler', 'Bouton', 'persuade', 'Accessory', 'supposes', 'drowned', 'habeat', 'toothache', 'eminence', 'midship', 'physiologist', 'brunt', 'alleys', 'college', 'appropriated', 'superstitiousness', 'SLABS', 'DANIEL', 'Upon', 'joist', 'transports', 'distinguishing', 'razor', 'trowsers', 'rainbows', 'Sartain', 'mistake', 'tending', 'burgher', 'dent', 'grave', 'lamps', 'Stood', 'all', 'thirstily', 'rousing', 'topmost', 'absurdly', 'thicker', 'worshipping', 'Asa', 'scabbards', 'Squeeze', 'seizings', 'evenly', 'trying', 'success', 'shores', 'Me', '110', 'worship', 'lighting', 'scarcely', 'moons', 'knell', 'Street', 'railways', 'sacred', 'growth', 'Skrimshander', 'revelations', 'statue', 'ripe', 'king', 'Durer', 'sleepe', 'seem', 'involuntary', 'resentment', 'confounded', 'trembles', 'stern', 'descriptively', 'Wave', 'puzzle', 'spindle', ');--', 'emptied', 'Diving', 'genuine', 'successive', 'dissemble', 'tint', 'oly', 'surging', 'dinnerless', 'amongst', 'confessed', 'missionary', 'eminent', 'ports', 'outfits', 'chairs', 'shares', 'Sultan', 'Parsee', 'derision', 'quiet', 'elder', 'KINROSS', 'Deliverer', 'resigned', 'objected', 'shunned', 'needs', 'tally', 'painfully', 'wandereth', 'Herman', 'rudely', '.\"', 'slung', 'icy', 'Empire', 'motives', 'playful', 'perilousness', 'begging', 'sheered', 'bosom', 'undiscernible', 'motionless', 'trough', 'inexplicable', 'Squaring', 'unnatural', 'roast', 'wee', 'shiver', 'flakes', 'entire', 'delude', 'Fountain', 'stepping', 'altar', 'paddles', 'homeless', \"';\", 'inverted', 'Well', 'feasted', 'MULTUM', 'tun', 'ordinary', '\"\\'', 'devoured', 'iron', 'SOLUS', 'swamps', 'Impiety', 'whirlpool', 'situated', 'metres', 'imperturbable', 'Spanish', 'despot', 'disaffection', 'distinguished', 'finical', 'perishable', 'obstinately', 'integument', 'QUEEN', 'ballroom', 'roasted', 'colds', 'deprived', 'child', 'tranquilly', 'contracted', 'unappropriated', 'below', 'Screwed', 'Meddling', 'daft', 'Claus', 'Evangelist', 'overbearing', 'suicides', 'junction', 'tries', 'begins', 'ram', 'shuffling', 'bubble', 'Eddystone', 'shining', 'superiority', 'tithe', 'individuals', 'glided', 'impute', 'vanity', 'bomb', 'Call', 'Paddles', 'gnawed', 'lighted', 'linked', 'unvexed', 'outweigh', 'remorselessly', 'Dissect', 'bitin', 'way', 'secrecy', 'loan', 'primogenitures', 'leagued', 'Greedily', 'beds', 'instincts', 'abstained', 'circumspection', 'repugnance', 'rumours', 'seizing', 'Andromeda', 'HERBERT', 'imprecations', 'voracity', 'dipped', 'Bobbing', 'numbered', 'toasted', 'spins', 'flues', 'roundly', 'strolled', '40', 'haunting', 'scores', 'Spirit', '127', 'silver', 'wrenched', 'egotistical', 'humanity', 'Planted', 'shambling', 'worldly', 'flog', 'Mediterranean', 'Texel', 'supposition', 'historical', 'chimed', 'readily', 'five', 'livers', 'brackish', 'divisions', 'Grounds', 'backed', 'Goat', 'boisterous', 'obscure', 'chuckle', 'Lexicon', 'saints', 'ALGERINE', 'smiled', 'ferrule', 'glimmer', 'centre', 'lashed', 'spot', 'fierceness', 'bumpkins', 'Judge', 'coin', '103', 'assailable', 'hammered', 'condensation', 'starve', 'shallows', 'persons', 'unobstructed', 'gowns', 'propensity', 'equivalent', 'beached', 'lesser', 'mizen', 'orisons', 'ray', 'gazettes', 'code', 'tidy', 'substantiates', 'clung', 'Melville', 'feast', 'pinch', 'corrupt', 'absence', 'profanely', 'combinedly', 'plaintiffs', 'nowadays', 'rocket', 'indications', 'loftiest', 'parallels', 'attend', 'unabated', 'perhaps', 'shoaling', 'shroud', 'antlers', 'Dives', 'weal', 'gang', 'staggered', 'proposed', 'cub', '124', 'fearful', 'Chapel', 'laughs', 'correctly', 'pulled', 'mouthed', 'spectacle', 'whetstones', 'white', 'radiance', 'seized', 'farces', 'Foremost', 'stiffly', 'intermitting', 'withal', 'effulgent', 'Cooke', 'Shrouded', 'hence', 'wonder', 'unhesitatingly', 'Desolation', 'Justinian', 'appropriate', 'EXTENDING', 'bloody', 'hammocks', 'energy', 'hie', 'lightly', 'firmament', 'alluding', 'furthest', 'Booble', 'affidavit', 'summary', 'folded', 'washing', 'REQUIN', 'foreseen', 'precipitating', 'legends', 'Unmindful', 'banned', 'juicy', 'Physiognomy', 'reigned', 'TALES', 'sheltered', 'viciousness', 'Delta', 'handling', 'haul', 'withdrawing', 'hoof', 'inferiors', 'scar', 'buoyed', 'boggy', 'willains', 'peered', 'slow', 'ERROMANGOAN', 'austere', 'Story', 'exclamations', 'adventurously', 'damndest', 'scimetar', 'flinging', 'distraction', 'supper', 'lurks', 'ran', 'Rocks', 'clover', 'Grecian', 'mutes', 'rested', 'longed', 'bitterer', 'craft', 'barbecue', 'veined', 'season', 'fearfulness', 'reckless', 'flinty', 'washed', 'watcher', 'Folger', 'salvation', 'distrusting', 'ladders', 'SHALL', 'gait', 'greatest', 'Satan', 'horses', 'eyeing', 'stunsails', 'ligature', 'heights', 'next', 'villains', 'unshorn', 'cosmetic', 'project', 'refugees', 'justified', 'contingencies', 'Halting', 'groping', 'Aldrovandi', 'brings', 'relying', \";'\", 'ladder', 'name', 'alb', 'sighting', 'uttered', 'cannikin', 'banteringly', 'characters', 'Dampier', 'impotently', 'Ahab', 'unreverenced', 'remnant', 'storage', 'officially', 'unfort', 'eyes', 'ruined', 'stead', 'rainy', 'gravely', 'London', 'spos', 'Mississippies', 'request', 'relievo', 'rolled', 'firewood', 'sacrifice', 'intensified', 'annals', 'terrific', 'DEAD', 'Malacca', 'proceeding', 'dies', 'soliloquized', 'Oregon', 'crack', 'fisheries', 'prepared', 'epitaphs', 'undraped', 'gulfs', 'speech', 'anoints', 'brigandish', 'She', 'tongue', 'rocky', 'pestilent', 'demigods', 'ruthless', 'celebrity', 'slippering', 'burden', 'inspecting', 'relent', 'unreluctantly', 'belted', 'weakened', 'Euclidean', 'upside', 'cone', 'Duodecimoes', 'seriously', 'strong', 'accompanying', 'reveries', 'spaces', 'audible', 'apparatus', 'Clinging', 'An', 'Like', 'quitted', 'helmet', 'America', 'banister', 'Already', 'quitting', 'original', 'entranced', 'chocks', 'Killed', 'offered', 'returning', 'yesterday', 'harsh', 'oasis', 'habit', 'style', 'darbies', 'objection', 'Jones', 'whip', 'conveyed', 'craggy', 'cogged', 'griffin', 'beholds', 'tilting', 'Skin', 'whisper', 'Nick', 'blackberrying', 'steadily', 'stillness', 'gleamed', 'append', 'cords', 'victories', 'shafts', 'heaved', 'miss', 'interrogatively', 'reposing', 'STOWE', 'sorry', 'merciless', 'tarnishing', 'writ', 'glorified', 'Near', 'embarked', 'APPLICATION', 'visits', 'pans', 'Prynne', 'contemplative', 'carrying', 'judgmatically', 'breezes', 'those', 'lancet', 'established', 'broidered', 'hams', 'jurisdiction', 'FULLLER', 'virgin', 'damaged', 'spells', 'Ridge', 'countless', 'visitation', 'gardenny', 'dark', 'noon', 'presently', 'boiling', 'open', 'spluttering', 'Several', 'supperless', 'GLOBE', 'bearer', 'holder', 'Have', 'blisters', 'everything', 'Eh', 'transfixedly', 'giants', 'abashed', 'expand', 'pride', 'shipwrecked', 'ebon', 'exquisitely', 'deadreckoning', 'miscellaneously', 'intertangled', 'cruellest', 'redoubled', 'startlingly', 'clammy', 'seamless', 'slowly', 'Peru', 'tribulation', 'slantings', 'Solomon', 'fashions', 'banners', 'divulged', 'glide', ',\"', 'rigorous', 'live', 'thinks', 'fertility', 'Won', 'indulged', 'infidel', 'motions', 'gorings', 'enterprise', 'bosky', 'timeliest', 'HAMLET', 'superiors', 'Glimpses', 'mode', 'mumbling', 'competent', 'shave', 'filaments', 'swash', 'disheartening', 'Author', 'boastful', 'China', 'hoe', 'democratic', 'recognised', 'sweeter', 'unclouded', 'cataract', 'stoutest', 'staff', 'leaning', 'honeycombs', 'disputes', 'steeped', 'circumambient', 'talked', 'sharppointed', 'giant', 'unsuccessful', 'memoirs', 'reality', 'Maccabees', 'gets', 'chipped', 'nail', 'loadstone', 'ex', 'FORECASTLE', 'Sands', 'suspiciously', 'victoriously', 'tore', 'outstretched', 'hisself', 'WAY', 'names', 'velvets', 'rind', 'hollowly', 'uses', 'sloop', 'enclosed', 'permanently', 'loudly', '!*', 'halter', 'caput', 'MEANTIME', 'duty', 'Locke', 'toothpick', 'venting', 'haggardly', 'observance', 'colleges', 'brindled', 'glidest', 'accumulate', 'verdant', 'Tall', 'rake', 'bottomless', 'demeanor', 'dissolutions', 'corpulence', 'If', 'Holland', 'democracy', 'protecting', 'defaced', 'relieve', 'cased', 'continually', 'Arion', 'FIXED', 'rigger', 'Darien', 'waist', 'unforgiven', 'promotion', 'robed', 'HIMSELF', 'RESUMING', 'waxy', 'Brahma', 'mercy', 'knobby', 'Regarding', 'wantonly', 'Cock', 'REST', 'bows', 'til', 'flourishin', 'famous', 'microscopic', 'maledictions', 'clumsily', 'withdraw', 'whispered', 'Whom', 'Commonly', 'plumb', 'Butler', 'encircles', 'treadle', '96', 'beggars', 'bumps', 'suds', 'defilements', 'resembles', 'Childe', 'imparting', 'Swim', 'pleated', 'correct', 'millions', 'spangled', 'hurrah', 'trapped', ',--', 'fared', 'shivered', 'sufficit', 'Wall', 'wonderingly', 'begone', 'heightened', 'late', 'decay', 'rebel', 'Cheever', 'banks', 'pendulous', 'mainyard', 'lazy', 'wallowed', 'boa', 'Jupiter', 'Niger', 'intensities', 'pivot', 'interregnum', 'exegetist', 'Chaldee', 'scouts', 'endwise', 'nameless', 'outside', 'laureate', 'tombs', 'interruptions', 'warmer', 'denominating', 'decline', 'peltry', 'dough', 'ripped', 'AMONG', 'smote', 'teeth', 'Probably', 'piping', 'address', 'oppositely', 'bedeadened', 'fearlessly', 'Antilles', 'armor', 'grass', 'sites', 'wived', 'Rio', 'both', 'pass', 'applying', 'h', 'shock', 'assumed', 'origin', 'mackerel', 'sociably', 'smallness', 'ventilated', 'ribbons', 'saith', 'bones', 'Curses', 'soar', 'buffaloes', 'Ifs', 'quilt', 'crests', 'afoam', 'first', 'welcome', 'sing', 'which', 'chiseled', 'accomplishing', 'flat', 'Provoke', 'Enderbies', 'congratulate', 'drunk', 'diligent', 'telling', 'miniatures', 'gliding', 'wards', 'pedestal', 'cool', '114', 'unnaturally', 'smothering', 'predominating', 'BROTHER', 'expediency', 'wielded', 'tinkling', 'chat', 'hamstring', 'detected', 'The', 'deaden', 'HO', 'Swamp', 'Cant', 'striving', 'CHAPTER', 'red', 'fiery', 'charms', 'artificial', 'without', 'bespeaking', 'play', 'friendship', 'renounced', 'carcases', 'featured', 'created', 'hogsheads', 'freshets', 'frightened', 'oar', 'Make', 'effected', 'shaped', 'ENTER', 'LONG', 'disastrous', 'years', 'Spermacetti', 'tamely', 'striding', 'convivial', 'Astern', 'native', 'whereat', 'dashing', 'intentions', 'thunder', 'positively', 'less', 'therein', 'scorbutic', 'yore', 'felicities', 'Parliament', 'shop', 'very', 'quill', 'partake', 'Unhinge', 'get', 'loath', 'embarks', 'coffined', 'cruiser', 'suggestively', 'Latter', 'destructive', 'disencumber', 'inscrutable', 'Standing', 'lull', 'cliffs', 'warrant', 'standard', 'forethrown', 'innuendoes', 'specialities', 'ticklish', 'subdivisible', ';\"', 'Harold', 'drunken', 'duels', 'adjust', 'outer', 'magical', '76', 'descried', 'human', 'insignificant', 'building', 'zoology', 'passion', 'brawny', 'wheat', 'Excellent', 'width', 'shiningly', 'Crappoes', 'fixes', 'Tormentoto', 'forget', 'moth', 'rarities', 'detailed', 'excitements', 'Didn', 'wipe', 'phantoms', 'wolves', 'aides', 'unscathed', 'masses', 'man', 'sluggish', 'T', 'classify', 'blood', 'gardening', 'doing', 'Bloody', 'untravelled', 'wantonness', 'restless', 'stifled', 'sensitive', 'barred', 'remain', 'analogical', 'enticings', 'benches', 'route', 'herds', 'ability', 'hearth', 'Believe', 'BLACKSMITH', 'mutilated', 'unholy', 'screwing', 'Careful', 'unfathomable', 'enchanted', 'voiced', 'ink', 'would', 'harpooneers', 'panics', 'far', 'heigh', 'obeyest', 'makes', 'mast', 'trick', 'sides', 'mansion', 'displaced', 'glistening', 'angles', 'celebrate', 'selection', 'GLEIG', 'Adieu', 'trades', 'inventing', 'Lents', \".'\", 'tide', 'billow', 'carriage', 'overlays', 'ensued', 'trained', 'fragrant', 'hugeness', 'leisure', 'gunwales', 'QUITO', 'deserts', 'valiant', 'homewards', 'defy', 'charge', 'unrelenting', 'Cleveland', 'thereof', 'maelstrom', 'sharked', 'profound', 'BOARD', 'Monkey', 'gored', 'usurper', 'ankers', 'lamb', 'gallons', 'ratification', 'needles', 'Caramba', 'rush', 'offer', 'occasioned', 'supplies', 'foreign', 'staring', 'outward', 'corner', 'musky', 'Sink', 'Smuggled', 'Ptolemy', 'nose', 'imbecility', 'Britain', 'clicked', 'treasures', 'unstricken', 'ignores', 'grown', 'calling', 'constitution', 'scraggy', 'pooh', 'hideous', 'attested', 'gamesomeness', 'pantry', 'repel', 'played', 'cease', 'demi', 'hopes', 'appalling', 'stig', 'bottom', 'a', 'huskily', 'insolent', 'eddying', 'Coleridge', 'perfume', 'railway', 'eloped', 'sticking', 'tempestuous', 'allowing', 'solace', 'invariable', 'cannibals', 'seventy', 'junk', 'goaded', 'touchy', 'enormousness', 'bright', 'fireboard', 'circumstance', 'faithfully', 'mocking', 'step', 'idea', 'shabby', 'arrantest', 'historic', 'charged', 'Revival', 'surmises', 'France', 'plaintive', 'drugging', 'bowsprit', 'differ', 'Who', 'sockets', 'badly', 'equally', 'Ignorance', 'abundance', 'scent', 'luckless', 'Brother', 'flake', 'pure', 'plebeian', 'regal', 'Twill', 'Sideways', 'afore', 'stubborn', 'unexaggerating', 'existence', 'foot', 'bellows', 'Monadnock', '24', 'sled', 'solemnly', 'pan', 'unimaginable', 'lustre', 'extensive', 'variously', 'advancing', 'sounding', 'gudgeon', 'Ripplingly', 'touch', 'proverbial', 'hartshorn', 'servile', 'VON', 'matter', 'Platonists', 'westerly', 'purr', 'DRYDEN', 'Charley', 'peopled', 'immediately', 'clever', 'aggravate', 'Pottowottamie', 'swerved', 'cupola', 'forswearing', 'affording', 'Suppose', 'cheek', 'Lightning', 'start', 'invariably', 'chowders', 'slavery', 'belfry', 'Queequeg', 'overscorning', 'wants', 'courting', 'vignettes', 'idleness', 'thieves', 'Rat', 'form', 'phrensies', 'deem', 'decapitated', 'dozen', 'leads', 'pulls', 'chimneys', 'try', 'hunters', 'hears', 'succeeded', 'Tropics', 'brained', 'solitude', 'shabbily', 'unvarying', 'inquiries', 'party', 'Ambergris', 'lawyer', 'kindle', 'hacked', 'gettee', 'glowing', 'Exploring', 'sepulchral', 'prophesy', 'Ready', 'Caw', 'approve', 'convenient', 'fearless', 'issues', 'JONAH', 'allegiance', 'VEINS', 'commotion', 'doze', 'faction', 'sashes', 'journeys', 'Mounttop', 'tranquillities', 'floated', 'White', 'booting', 'horseback', 'archaeologists', 'gaily', 'barreller', 'harpoon', 'tear', 'spray', 'Japan', 'inquiry', 'cypher', 'limitless', 'trailing', 'Respectively', 'absent', 'seasons', 'Those', 'sipping', 'Groan', 'overawed', 'HOMINUM', 'Owing', 'Magnitude', 'incredible', 'houses', 'outline', 'pitiful', 'wriggles', 'distributed', 'ordained', 'ELIZABETH', 'eighty', 'victim', 'banker', 'caprices', 'completed', 'reddening', 'travelled', 'chapels', 'Fields', 'considerations', 'alarm', 'Moby', 'schoolmasters', 'edifices', 'occasional', 'Ex', 'consign', 'spiked', 'fancies', 'Esquimaux', 'breakers', 'boot', 'Elbe', 'outcries', 'sell', 'booms', 'unfinished', 'Iron', 'lip', 'beard', 'whereby', 'prolongingly', 'crippled', 'galliot', 'sated', 'House', 'vividly', 'statistical', 'blankness', 'impurities', 'Popayan', 'Fe', 'regained', 'eager', 'cetological', 'adventures', 'sterning', 'intrantem', 'encounters', 'conceal', 'fellows', 'Orleans', 'meditativeness', 'discrimination', 'takes', 'annual', 'crow', 'slavish', 'shadows', 'evincing', 'map', 'snows', 'comply', 'ladle', 'element', 'protracted', 'ribby', 'neglect', 'Copenhagen', 'Archer', 'manliness', 'lithe', 'unloading', 'meditations', 'clamorous', 'real', 'divorced', 'lowest', 'bundle', 'shuttlecock', 'FAIR', 'boards', 'booming', 'unceasing', 'ignoble', 'pliable', 'mine', 'soothes', 'Cetus', 'strivest', 'ingeniously', 'Partly', 'sordidness', 'ween', 'Jacob', 'estimated', 'unmanageably', 'sunwards', 'unsolved', 'oil', 'Lower', 'frolic', 'Green', 'Pythagorean', 'homage', 'rings', 'exhibited', 'musket', 'dawned', 'accidentally', 'jinglers', 'hatches', 'perceptibly', 'quite', 'KETOS', 'hunger', 'drive', 'Unshored', 'direct', 'innate', 'encountering', 'toe', 'rack', '113', 'brilliancy', 'ships', 'unusual', 'Albicore', 'spilling', 'upwards', 'apparent', 'risings', 'sad', 'preternatural', 'literature', 'surpassingly', 'deluge', 'lectures', 'complained', 'merged', 'Intolerably', 'abortion', 'carpet', 'perusal', 'impaling', 'favouring', 'rainbowed', 'Scriptures', 'extremities', 'enlightened', 'Alley', 'convertible', 'doleful', 'eastwards', 'affected', 'SAXON', 'dwelt', 'SPERM', 'retain', 'Loveliness', 'medium', 'stiff', 'Fifth', 'prevents', 'lacings', 'denials', 'mechanical', 'induced', 'view', 'ostrich', 'price', 'CONVERSATIONS', 'shipmates', 'dinner', 'fleets', 'nowhere', ',*', 'investigations', 'stoneless', 'journeyman', 'forger', 'cutlery', 'free', 'altered', 'dissect', 'Case', 'hiss', 'invertedly', 'labored', 'expansion', 'Derick', 'further', 'GOLDSMITH', 'marble', 'loaf', 'Napoleon', '34', 'trackless', 'damn', 'nomine', 'zeal', 'spademan', 'foiled', 'Auto', 'Fourth', 'twitch', 'Cachalot', 'arching', 'pour', 'paws', 'drugg', 'implement', 'thinkers', 'pause', 'uncompleted', 'cats', 'pitches', 'grammars', 'merrily', 'pack', 'paternal', 'hornpipe', 'unlimited', 'vertebrae', 'scatter', 'Upharsin', 'Archipelagoes', 'Jimmini', 'phrases', 'frontispiece', 'busts', 'fenced', 'azimuth', 'held', 'triply', 'bridal', 'hunts', 'wanderings', 'hintings', 'circle', 'parchingly', 'quarto', 'implicated', 'plaguey', 'spoken', 'moreover', 'Elephanta', 'Seldom', 'Delight', 'women', 'tearlessness', 'tragedy', 'fours', 'OCTAVO', 'apprised', 'opens', 'panellings', 'cycloid', 'record', 'strenuous', 'childlessness', 'DARWIN', 'whirls', 'Swain', 'materials', 'adventure', 'exclude', 'Corlaer', 'REV', 'frail', 'settee', 'remainder', 'allaying', 'pictorial', 'regale', 'expectantly', 'records', 'Strike', 'commenced', 'undressed', 'towers', 'sickle', 'puzzled', 'soap', 'Nightgown', 'nervous', 'content', 'ranks', 'tarts', 'shouted', 'regular', 'incident', 'centres', 'ANGLO', 'constituents', 'test', 'committing', 'waiting', 'hickory', 'Saul', '(', 'brother', 'list', 'snoring', 'curdling', 'tunnel', 'shortly', 'Cave', 'superfluousness', 'disport', 'Cut', 'believe', 'enjoins', 'Columbus', 'blank', 'Beach', 'quenchless', 'tame', 'rustles', 'dense', 'hospitalities', 'Salisbury', 'Hackluyt', 'toadstools', 'canonicals', 'retraced', 'grand', 'blazes', 'collaring', 'power', 'longitude', 'truth', 'abbreviate', 'Ports', 'Spermaceti', 'bulwarks', 'accept', 'entreaty', 'surpass', 'annihilated', 'mysterious', 'Gifted', 'scraping', '---\"', 'impersonated', 'scalp', 'excludes', 'hurler', 'Yea', 'kitten', 'countryman', 'after', 'cheer', 'particle', 'hooded', 'philanthropists', 'deep', 'sash', 'carlines', 'officered', 'Missouri', 'stowaways', 'capture', 'glancing', 'rogues', 'details', 'Beale', 'couldst', 'breeding', 'rays', 'vest', 'withhold', 'THAT', 'geese', 'clinched', 'avocation', 'Trumpet', 'balloon', 'starry', 'oaks', 'droves', 'tougher', 'depicted', 'Expedition', 'mystifications', 'Philopater', 'wailings', 'devotees', 'Gospel', 'wedder', 'knives', 'couldn', 'Sure', 'strays', 'genealogies', 'out', 'Gnawed', 'Harvard', 'undeveloped', 'strainings', 'discretion', 'succession', 'increase', 'lazily', 'schoolmaster', 'scant', 'Ka', 'prouder', 'oversight', 'columns', 'ROUND', 'burned', 'lover', 'pauses', 'ork', 'roundness', 'dey', 'totality', 'subdivisions', 'Bildad', 'judging', 'senseless', 'narration', 'racing', 'Folio', 'liberal', 'escapes', 'Steering', 'measurer', 'sincerity', 'Heeva', 'uprising', 'roof', 'lifetime', 'clumsy', 'soulless', 'shading', 'prematurely', 'cruet', 'Ireland', 'Untried', 'lump', 'unappeasedly', 'to', 'guide', 'reeved', 'jointed', 'peasant', 'predictions', 'candidates', 'fain', 'instantly', 'omniscient', 'stripped', 'eat', 'uncontaminated', 'buckets', 'downwards', 'as', 'branch', 'commodores', 'illustrate', 'verdigris', 'Blood', 'roots', 'Whenever', 'deficiency', 'incorporated', 'heterogeneous', 'orphan', 'impairs', 'augment', 'levers', 'FIRST', 'sinner', 'bivouacks', 'mass', 'engulphed', 'onward', 'acts', 'Furl', 'extinguishing', 'leading', 'exultation', 'universal', '19', 'Mote', 'eventuated', 'barbaric', 'Lively', 'Bengal', 'trail', 'fencer', 'Bishop', 'en', 'pagans', 'makest', 'barrel', 'Gone', 'invaded', 'murdered', 'brittle', 'hungry', 'ethereal', 'constellation', 'plungings', 'uncomfortableness', 'spare', 'asylum', 'Where', 'Indeed', 'christened', '118', 'ringleader', 'imagine', 'Capting', 'apricot', 'preferred', '62', 'week', 'flaming', 'sciences', 'unavoidable', 'dashed', 'keenest', 'Lacepede', 'portions', 'tongueless', 'SPOUTINGS', 'Valparaiso', 'credited', 'opened', 'glacier', 'hospitals', 'grief', 'heinousness', 'wrangling', 'South', 'amusing', 'overlording', 'grunted', 'fiddler', 'vivaciously', 'Cassock', 'hang', 'despised', 'pleasant', 'stacks', 'demoniac', 'lieutenants', 'Verdes', 'patronising', 'Doesn', 'Frighted', 'dogger', 'derive', 'primeval', 'gouge', 'harmony', 'pulsations', 'projected', 'Start', 'subterraneousness', 'musically', 'joined', 'savageness', 'amount', 'Leeward', 'doubt', 'slept', 'acquiesce', 'heliotrope', 'Pressing', 'associates', 'succor', 'miles', 'certainty', 'greyhound', 'persist', 'volcanoes', 'quoted', 'rally', 'plunged', 'enchanting', 'endangered', 'sagaciously', 'Reckon', 'breaks', 'necessity', 'unwinding', 'featuring', 'crosslights', 'suspecting', 'unearthed', 'harpooning', 'field', 'salad', 'SPERMACETI', 'comprises', 'leaded', 'Death', 'Thank', 'Greek', 'ejaculated', 'phrase', 'piercing', 'magnetism', 'accurately', 'lily', 'earth', 'spicy', 'sorter', 'timberheads', 'will', 'rebels', 'explained', 'chariot', 'Tumbled', 'slowness', 'remained', 'advanced', 'melodious', 'presuming', 'cogent', 'supernatural', 'paled', 'army', 'HVAL', 'NAT', 'filial', 'brawn', 'Instantly', 'bystanders', 'legend', 'dropt', 'heedless', 'Vanity', 'fidelities', 'befogged', 'sacrificial', 'duelled', 'life', 'scoot', 'hasty', 'rapping', 'uncheered', 'wheels', 'ruffled', 'insinuates', 'yarn', 'corresponds', 'fire', 'ISOLATOES', 'migrations', 'rioting', 'passes', 'scrutinizing', 'reclines', 'Seat', 'swallow', '1776', 'summons', 'instinct', 'Fool', 'PREBLE', 'roses', 'dismissed', 'disinterested', 'obstructed', 'income', 'served', 'rayther', 'turned', 'spell', 'hallucination', 'thundering', 'chip', 'lightness', 'seductive', 'spiral', 'nest', 'VOYAGES', 'mill', 'Dover', 'uncracked', 'Berkshire', 'tinker', 'spoutings', 'protection', 'Beneath', 'tabernacles', 'consider', 'nourished', 'Russian', 'Javan', 'Thrusted', 'horribles', 'Quakerism', 'barometer', 'untrackably', 'dissembling', 'survived', 'narrating', 'strokes', 'sprinklings', 'ripening', 'pitching', 'lustily', 'Nat', 'possibilities', 'Gentlemen', 'hunt', 'abide', 'executor', 'scented', 'unmolested', 'denominated', 'esteemed', 'Burke', 'upbraidings', 'wane', 'tumultuous', 'inches', 'landing', 'health', 'Threading', 'slumbers', 'Yet', 'Congo', 'pairs', 'Bolivia', 'anyone', 'feels', 'wreck', 'Java', 'Arethusa', 'ATTITUDES', 'ledge', 'almighty', 'shamble', 'chiefs', 'recollect', 'technicals', 'Constable', 'turkeys', 'Britons', 'pay', 'emerge', 'statement', 'begets', 'bursting', 'ungraspable', 'lit', 'arrange', 'Toes', 'vocabulary', 'boldest', 'talk', 'oddly', 'porter', 'equipped', 'Pardon', 'resolutely', 'Thirty', 'Stop', 'noteworthy', 'surveying', 'clergyman', 'bearings', 'watchmen', 'idolatrous', 'delivery', 'putting', 'coarse', 'Startled', 'reputed', 'perisheth', 'pecked', 'substance', 'contour', 'Turks', 'affrights', 'afloat', 'Tarshish', 'pilfering', 'presumption', 'hen', 'being', 'death', 'shad', 'Monsieurs', 'heels', 'therefore', 'brief', 'cries', 'Tongatobooarrs', 'elastic', 'yawned', 'OH', 'lowered', 'jollity', 'demijohn', 'met', 'Coffin', 'Linnaeus', ')--', 'crunched', 'evilly', 'peopling', 'reminiscence', 'paw', 'emotions', 'performing', 'heartless', 'OPEN', 'conjured', 'fellow', 'erect', 'hailing', 'governor', 'contrary', 'jingle', 'keenly', 'vivid', 'slipt', 'soak', '!--\"', 'fountains', 'crackest', 'canakin', 'shriek', 'intelligence', 'shan', 'time', 'forking', 'protested', 'breasts', 'younger', 'TELL', 'reputation', 'sympathies', 'bitter', 'resident', 'wish', 'dragons', 'Manx', 'wander', 'cathedral', 'fidelity', 'breath', '135', 'Receiving', 'middle', 'brush', 'flexible', 'Obed', 'uplifted', 'outnumber', 'retired', 'flesh', 'Puritans', 'fibrous', 'gaff', 'machines', 'correspondence', 'imbibing', 'descry', 'complexioned', 'wrap', \"'-\", 'skill', 'controlling', 'arrant', 'MATES', 'jackal', 'Companies', 'Often', 'orchard', 'apprehensions', 'mermaid', 'beaked', 'shaft', 'cup', 'throttle', 'COWLEY', 'published', 'Grin', 'interest', 'upholding', 'greybeards', 'serpentines', 'rejoined', 'preluding', 'ancient', 'reminds', 'hint', 'accounts', 'tarred', 'encamp', 'tails', 'our', 'optically', 'process', 'Split', 'ballasted', 'signers', 'gladness', 'fattest', 'dictionary', 'FAERIE', 'exception', 'hamper', 'sleepless', 'coincidings', 'loweringly', 'church', 'curls', 'contrive', 'industry', 'clashing', 'dimmed', 'LANTERNS', 'sharpened', 'spying', 'retarding', 'National', 'keeps', 'awoke', 'waggish', 'intervening', 'dismantled', 'bless', 'musty', 'hatband', 'verifications', 'engendered', 'ergo', 'retiring', 'bait', 'apex', 'Aquarius', 'eating', 'exhaust', 'coronations', 'tearless', 'thrashing', 'woodland', 'combing', 'hoot', 'jars', 'swamping', 'slatternly', 'flasks', 'archbishopric', 'Dardanelles', 'rapid', 'naturally', 'this', 'offensively', 'Frankfort', 'charitable', 'Muster', 'spied', 'marling', 'Pope', 'basketed', 'essence', 'noder', 'gentle', 'pry', 'prehensile', 'bladed', 'More', 'four', 'juggler', 'jackasses', 'mutter', 'admirable', 'undeterred', 'leering', 'spiralizes', 'unthinking', 'baby', 'profession', 'print', 'seals', 'methinks', 'ledgers', 'political', 'pork', 'repetition', 'Island', 'drown', 'centaurs', 'WALLEN', 'nowise', 'conspire', 'expiring', 'Narragansett', 'expressly', 'Gor', 'Emir', 'bayonets', 'steeds', 'cetacea', 'brutal', 'enterprises', 'roly', 'gorgeous', 'unshunned', 'eh', 'IN', 'denominate', 'furrowed', 'Matter', 'Feegeeans', 'ON', 'restore', 'Whalebone', 'popularize', 'fault', 'likenesses', 'habergeon', 'trio', 'learn', 'blooded', 'prediction', 'offensive', 'Scorpion', 'respite', 'plaintiveness', 'intensest', 'figures', 'coach', 'interlude', 'trimming', 'suspicious', 'consciously', 'CEASE', 'touchest', 'Zogranda', 'running', 'rapacious', 'docks', 'impotent', 'capacity', 'honesty', 'kinds', 'MOUTH', 'splashed', 'Nature', 'Maceys', 'signed', 'spin', 'Bennett', 'triumph', 'sulks', 'wester', 'squatting', 'ashes', 'temper', 'numbed', 'impulse', 'tracts', 'illustrative', 'unalterable', 'Mills', 'jealous', 'complimented', 'Some', 'threatening', 'overclouded', 'founded', 'tongs', 'ridge', 'degree', 'blindfold', 'dedication', 'breathless', 'impelling', 'averages', 'Netherlands', 'frequendy', 'convalescing', 'sultanism', 'proprietors', 'collared', 'miserably', 'corpusants', 'predecessors', 'Squid', 'Short', 'hypocrisies', 'Huge', 'shoulders', 'popularly', 'RAIMOND', 'enthrone', 'freely', 'plumbs', 'occurs', 'spies', 'disgust', 'folder', 'spoons', 'clingest', 'Paracelsan', 'bat', 'blended', 'snort', 'faculties', 'eyelids', 'mightier', 'vapoury', 'warp', 'FOLLOWING', 'absolutely', 'betake', 'ineffably', 'softness', 'Morquan', 'Henry', 'opinions', 'scarce', 'injury', 'mystical', 'uneasy', 'Smeerenberg', 'insinuating', '1690', 'sentimentalist', 'cellars', 'rags', 'BY', 'doorway', 'marking', 'emblazoned', 'headers', 'Washington', 'coins', 'fowl', 'repenting', 'domestic', 'resembling', 'skewers', 'fruition', 'outlet', 'deduction', 'every', 'PURPOSE', 'crushing', 'corkscrew', 'tested', 'FINALLY', 'clumsiest', 'dissimilar', 'Hence', 'proceedings', 'advised', 'besieged', 'construction', 'elephants', 'flexion', 'favoured', 'items', 'Shirt', 'estimate', 'muffled', 'benevolence', 'oust', 'RAZOR', 'accompanied', 'Fisheries', 'howls', 'barques', 'mutinying', 'together', 'smackin', 'lordly', 'volumes', 'Rafters', 'Rains', 'citadel', 'receive', '37', 'defiance', 'animosity', 'gunpowder', 'straddling', 'momentarily', 'contain', 'Midwifery', 'agrarian', 'Air', 'winces', 'Manhatto', 'Plunge', 'panting', 'piety', 'especially', 'papers', 'stubbornly', 'abbreviation', 'plumage', 'beech', 'shown', 'utterly', 'invokingly', 'Heading', 'returns', 'mistress', 'northwards', 'Yonder', 'failed', 'chargers', 'hillock', 'artificialness', 'eschewed', 'flung', 'graduates', 'sentences', 'Fish', 'taking', 'fourteen', 'icefield', 'shearing', 'Pig', 'savor', 'land', 'tablecloth', 'ruffed', 'STICK', 'span', 'pugilists', 'contract', 'or', 'elaborately', 'vivacious', 'motto', '...', 'inshore', 'maccaroni', 'conjectures', 'players', 'poniards', 'mislead', 'feelings', 'razeed', 'sultry', 'tall', 'bristles', 'visibly', 'delightfully', 'barbarian', 'extinction', 'loop', 'fore', 'amorous', 'furlongs', 'accosted', 'ANY', 'repeated', 'margin', 'destroying', 'irresistibleness', 'Arter', 'heaviness', 'binding', 'corroborated', 'sleeping', 'mounted', 'tropical', 'desks', 'inferentially', 'sleeplessness', 'yelling', 'bilocular', 'leech', 'inexpressible', 'tensing', 'placeless', 'roofs', 'gobern', 'ignition', 'vum', 'airley', 'flannel', 'Hoods', 'serpents', 'ropeyarn', 'salt', 'GRAND', 'loathed', 'Joy', 'vastly', '!)\"', 'admire', 'harpstring', 'inlander', 'drifts', 'justice', 'calculate', 'View', 'misgrown', 'revelled', 'functions', 'offing', 'inmates', 'JOHN', 'yells', 'Turkey', 'fickleness', 'tree', 'MSS', 'East', 'separate', 'lined', 'curbstone', 'flurry', 'Penetrating', 'celled', 'travellers', 'quohogs', 'horse', 'wrenching', 'veracious', 'seize', 'knaves', 'problematical', 'away', 'Struck', 'Burkes', 'soils', 'controllable', 'directions', 'stormed', 'recentest', 'hearts', 'em', '51', '21', 'thimbleful', 'mysteries', 'envelopes', 'Tied', 'Prairies', 'liest', 'hater', 'dumps', 'mock', 'brown', 'profundity', 'surgeon', 'universe', '?--', 'possibly', 'leaner', 'tassels', 'strongest', 'appellative', 'upcast', 'scared', 'irresolution', 'fifteen', 'vacancies', 'Face', 'Boats', 'marines', 'ought', 'outworks', 'cathedrals', 'chaps', 'poet', 'dismember', 'mariner', 'recede', 'paradise', 'scoria', 'methought', 'swoop', 'manufactured', 'making', 'march', 'leach', 'Marchant', 'firmest', 'about', 'hearthstone', 'fogs', 'gasping', 'pecking', 'Alive', 'rivals', 'evanescence', 'baulks', 'millionth', 'anchors', 'eleven', 'jamming', 'points', 'truce', 'cedar', 'brine', 'strives', 'determined', 'discount', 'pulling', 'whither', 'wriggling', 'unsaid', 'impediments', 'Apply', 'remonstrated', 'Leviathan', 'formidable', ',\"--', 'loosely', 'annihilating', 'knocks', 'grieve', 'appointed', 'tendon', 'cheerfulness', 'Are', 'oblique', 'ribs', 'supposing', 'wharf', 'valor', 'thunderings', 'entangling', 'exploded', 'Pontoppodan', 'Seneca', 'lookouts', 'nick', 'pyramidical', 'disobeying', 'unsuffusing', 'assurance', 'packed', 'Vengeance', 'polar', 'trampling', 'mails', 'based', 'exclusive', 'bells', 'introduced', 'freshness', 'incontestable', 'twitching', 'scrapings', 'THY', 'lumbered', 'palsied', 'manner', 'wheresoe', 'petticoat', 'naturae', 'exhaling', 'XXXIX', 'attest', 'berth', 'flitted', 'luck', 'delineate', ';--\"', 'lurching', 'crazed', 'oblong', 'rods', 'basement', 'enrolled', 'dams', 'died', 'zag', 'alow', 'generous', 'obsolete', 'stabs', 'tidiest', 'grapple', 'presume', 'comprehensively', 'astern', 'whirling', 'liked', 'monomania', 'set', 'individualizing', 'Hark', 'crews', 'preacher', 'mastheads', 'inflexibility', 'lingers', 'Canal', 'smites', 'crotchets', 'delight', 'huzza', 'Dutch', 'moor', 'occupant', 'freckled', 'shingled', 'hovers', 'vestige', 'interval', '9', 'crystals', 'amaze', 'outlets', 'SOCIAL', 'several', 'daintiness', '!\\'\"', 'fritters', 'tepid', 'savagery', 'REMAINING', 'accursed', 'who', 'arches', 'winding', 'obituary', 'soberly', 'preside', 'Lakeman', 'anybody', 'SICILIAN', 'islands', 'loam', 'HARPOONEERS', 'say', 'fluking', 'mind', 'protesting', 'accuracy', 'gradual', 'Scenes', 'wires', 'tiller', 'quality', 'prisoner', '72', 'scolds', 'seeks', 'verbally', 'MONTGOMERY', 'heed', 'districts', 'channels', 'substantial', 'Belshazzar', 'eternity', 'Just', 'marchant', 'jerked', 'Starboard', 'Therefore', 'merely', 'coronation', 'yon', 'bagged', 'simultaneously', 'splintering', 'privation', 'complacent', 'ascendency', 'graces', 'nothingness', 'unmentionable', 'days', 'gnaw', 'weariness', 'testified', 'snore', 'topic', 'sixteenth', 'affixed', 'artful', 'plum', 'indite', 'occupying', 'chest', 'turnstile', 'Biographical', 'edging', 'deferential', 'PHIL', 'WHICH', 'concerning', 'snuff', 'loving', 'foamingly', 'faded', 'oozed', 'sneezing', 'expression', 'fissure', 'invunerable', 'subsequent', 'buoy', 'Greenlanders', 'trodden', 'digressively', 'unextinguished', 'tows', 'virtue', 'thousand', 'Talk', 'robbers', 'bluntly', 'unfair', 'sighed', 'colonial', 'star', 'trifling', 'soothed', 'friend', 'texture', 'Grief', 'examine', 'trees', 'shrunk', 'bucks', 'whaled', 'Thundering', 'flight', 'minor', 'flints', 'folding', 'anchor', 'interluding', 'amputating', 'pulpy', 'browsing', 'Belated', 'dam', 'tumble', 'Legs', 'resolving', 'hated', 'retained', 'aspect', 'kannakin', 'sulphurous', 'lines', 'lawless', 'o', 'actually', 'satins', 'heap', 'swooped', 'depended', 'blasphemy', 'complement', 'order', 'rough', 'Year', 'PARLIAMENT', 'Abjectus', 'LENGTHWISE', 'hawser', 'clothes', 'saddle', 'ALIVE', 'prodigies', 'sweeping', 'appellations', 'quaintness', 'raced', 'sceptre', 'waterproof', 'incarnation', 'Purchas', 'doubloon', 'single', 'escaped', 'Bungle', 'wetter', 'stoopingly', 'have', 'maddening', 'bud', 'dissolve', 'inn', 'myrrh', 'Virginia', 'marge', 'spiracle', 'woollen', 'pursuits', 'peaceable', 'distinct', 'solitary', 'Push', 'Tartar', 'De', 'partial', 'wink', 'lasting', 'TALBOT', 'philosophical', 'rainbow', '&', 'adds', 'border', 'minute', 'similar', 'conciliating', 'while', 'stones', 'malignantly', 'unaided', 'bout', 'ENSUING', 'puddingers', 'honours', 'too', 'Tumble', 'purge', 'labyrinth', 'peeling', 'impeding', 'outbellying', 'uncapturable', 'interrupt', 'evinces', 'wide', 'tindering', 'sprawling', 'news', 'cheeked', 'drivers', 'Magnanimous', 'severed', 'evinced', 'doesn', 'bunched', 'sail', 'BETWEEN', 'precise', 'yawingly', 'flint', 'glowed', 'Stone', 'Until', 'creamed', 'Dragged', 'fond', 'proper', 'immense', 'seal', 'frost', 'unrustlingly', 'Typhoons', 'function', '1695', 'Whether', 'contended', 'basin', 'barreler', 'application', 'deliciousness', 'sided', 'Ashantee', 'Five', 'dere', 'guided', 'rabble', 'problems', 'originate', 'Cabaco', 'Sphinx', 'phospher', 'WHOEL', 'isolation', 'spite', 'unilluminated', 'tones', 'eternally', 'Sons', 'scorched', 'families', 'instead', 'winsome', 'requires', 'beside', 'glassy', 'quiescence', 'humor', 'bison', 'ale', 'wiping', 'programme', 'hands', 'pedlars', 'pistoles', 'simplicity', 'glass', 'fathom', 'cargoes', 'locker', '--', 'spangling', 'ordering', 'bombazine', 'Greeks', 'her', 'puissant', 'STUBB', 'Swerve', 'Myself', 'sooth', 'commentator', 'madest', 'g', 'jacks', 'histories', 'mortemizing', 'rest', 'previously', 'allies', 'easily', 'crystal', 'trope', 'WILLIS', 'spheres', 'flitting', 'sight', 'vacuum', 'Commanders', 'Bone', 'central', 'towns', 'credulous', 'softener', 'ruminating', 'excluded', 'tendrils', 'hush', 'Mysticetus', 'smoothed', 'satisfaction', '1851', 'fang', 'Venetianly', 'compress', 'inkling', 'aye', 'anyways', 'deviations', 'perfectly', 'cooled', 'boxing', 'sizes', 'perplexity', 'flights', 'fairy', 'heard', 'dictator', 'sank', 'bigotry', 'passively', 'messmates', 'Cousin', 'propulsion', 'thinkings', 'conflict', 'doomed', 'terra', 'patience', 'extremely', 'sit', 'growl', 'systematizer', 'pumps', 'exists', 'family', 'lay', 'cited', 'German', 'menace', 'baleful', 'nigh', 'avenues', 'Burtons', 'vacantly', 'unchanged', 'title', 'hummingly', 'obliquity', 'evince', 'perfumed', '80', 'purse', 'DISSECTION', 'glarings', 'Neskyeuna', 'caravans', 'lot', 'postponing', 'devices', 'vents', 'dollars', 'jumping', 'reaping', 'startled', 'along', ',)', 'ape', 'y', 'furred', 'overlooking', 'arrow', 'abed', 'Quadrant', 'consistence', 'actions', 'liability', 's', 'unmitigated', 'successively', 'incuriously', 'caressed', 'unconsciousness', 'humane', 'preservers', 'altitude', 'eastward', 'SIXTH', 'withdrew', 'Macy', 'shrinking', 'observable', 'studies', 'stampings', 'hip', 'collectively', 'defined', 'comprising', 'voicelessly', 'shirts', 'farewell', 'sailors', 'holier', 'pony', 'gastric', 'foreshortened', 'suicide', 'Foolish', 'inclining', '22', 'treble', 'unparticipated', 'scimetars', 'Eternities', 'orchestra', 'Tempered', 'undue', 'voluntarily', 'caravan', 'victory', 'manners', 'deciphered', 'sways', 'Yes', 'callings', 'starts', 'frisky', 'wished', 'Brandreth', 'Bays', 'pupils', 'tongues', 'header', 'obtains', 'grandmother', 'hair', 'mincer', 'SOMETHING', 'monomaniac', 'resounds', 'negatively', 'reached', '440', 'spawned', 'hose', 'um', 'blue', 'readiness', 'misanthropic', 'velvet', 'accidental', 'Lamp', 'makings', 'heron', 'cooling', 'Herculaneum', 'sparks', 'courage', '5', 'sailer', 'doored', 'sped', 'chancery', 'Rhyme', 'BEING', 'Old', 'footmanism', 'Saratoga', 'transfixed', 'curvetting', 'substitute', 'enters', 'exiled', 'collecting', 'observe', 'burnt', 'highwaymen', 'dive', 'standers', 'kneepans', 'contortions', 'VISIT', 'detect', 'About', 'ESCAPED', 'ramblings', 'defiles', 'albatrosses', 'oily', 'defendants', 'intersecting', 'ISLAND', 'medicament', 'disentangling', 'Voyage', 'surly', 'pertinacious', 'word', 'tosses', 'promenade', 'lives', 'Scales', 'invader', 'Diaz', 'president', 'mongering', 'bought', 'nonce', 'ascertaining', 'He', 'black', 'crockery', 'adjoining', 'Frenchman', 'jury', 'become', 'disbelief', 'ebony', 'formally', 'dripping', 'unerringly', 'pinnings', 'bloodshot', 'ham', 'wrote', 'suffusing', 'submarine', 'sorts', 'port', 'notice', 'fagged', 'bonnet', 'dock', 'sternly', 'comets', 'coercing', 'obtain', 'tell', 'theme', 'SORTS', 'navigator', 'railing', 'hat', 'adroop', 'scuffling', 'supine', 'marketless', 'V', 'federated', 'comet', 'chair', 'kiss', 'insult', 'kinsmen', 'Hadst', 'headland', 'cloistered', 'mission', 'float', 'peasants', 'portable', 'displayed', 'corruption', 'unconsumed', 'coaches', 'girdle', 'Reality', 'potency', 'tufted', 'god', 'oilpainting', 'began', 'COILS', 'baptised', 'visitors', 'nuptial', 'fear', 'club', 'indispensable', 'mounting', 'rig', 'hieroglyphical', 'involved', 'endure', 'gallantly', 'emblazoning', 'rear', 'OVER', 'wall', 'acted', 'prosecuted', 'flexions', 'portrait', 'transcendent', 'circumnavigating', 'deepeningly', 'unknown', 'Says', 'invariability', 'BE', 'museum', 'chivalrous', 'darted', 'gloomily', 'MYSTERIOUS', 'Olmstead', 'hell', 'heavy', 'hobbling', 'images', 'dispute', 'working', 'compliment', 'blanched', 'flounders', 'integral', 'chronicles', 'thrown', 'speak', 'palm', 'Descending', 'TYERMAN', 'opera', 'criminal', '8', 'self', 'mimicking', 'BATTLE', 'Tartarian', 'rejection', 'perfumery', 'gathered', 'hermaphroditical', 'nodded', 'times', 'FLOOD', 'dial', 'Societies', 'semicircle', 'Cologne', 'incense', 'importance', 'snap', 'elected', 'fixture', 'hails', 'Cooks', 'swarthy', 'awaiting', 'tap', 'blacksmiths', 'distension', ',--\"', 'ubiquitous', 'unworshipping', 'antiquity', 'brawniness', 'pleased', 'F', 'discoveries', 'canonized', 'ample', 'stoutly', 'unscrupulous', 'dancing', 'brigness', 'swathed', 'respect', 'yielding', 'systematization', 'humming', 'yarns', 'Denderah', 'backstays', 'tow', 'tumult', 'undone', 'subterraneous', 'folio', 'alleged', 'sleeper', 'untraceable', 'intangible', 'Golconda', 'blackish', 'sense', 'lunar', 'drifted', 'interweave', 'mongrel', 'weeping', 'chronically', 'amputation', 'vertu', 'instant', 'cascading', 'malicious', 'consternation', 'hootings', 'quadrupeds', 'patrolled', 'bartered', 'abate', 'Ages', 'majestical', 'fashioned', 'gone', 'medallion', 'indistinctness', 'castaway', 'healthily', 'found', 'COMSTOCK', 'exertions', 'butterless', 'unconditional', 'unicorn', 'casually', 'frowned', 'undertaken', 'philosophically', 'ideal', 'Ye', 'dispenses', 'baronial', 'desperation', 'quickening', 'swamped', 'supervision', 'matches', 'hymn', 'eave', 'compendious', 'vertebra', 'Gesner', 'morrow', 'oak', 'stepped', 'ornament', 'injunctions', 'Whereupon', 'juncture', 'customary', 'shuts', 'Flying', 'hoar', 'chapter', 'Genesis', 'prominence', 'Head', 'levels', 'truths', 'nosed', '130', 'profuse', 'cite', 'unmistakably', 'calendar', 'announces', 'beer', 'used', 'pitiable', 'Leo', 'rescue', 'vein', 'Jews', 'muffins', 'ruefully', 'quaff', 'wilt', 'authorized', 'Inserting', 'longest', 'wandered', 'approximate', 'slower', 'waterspout', 'Rights', 'touched', 'Mountains', 'six', 'Pirates', 'moccasined', 'Hardicanutes', 'accountable', 'Zealand', 'fry', 'Holding', 'nurse', 'refill', 'acridness', 'fatalities', 'carried', 'discharge', 'lilies', 'knows', 'Landlord', 'surface', 'Stick', 'flogged', 'ibis', 'beneath', 'stay', 'watery', 'shrine', 'administering', 'sleepy', 'farmers', 'contrast', 'spars', 'suspects', 'alluded', 'satisfy', 'laughed', 'paper', 'statutory', 'theirs', 'imagining', 'grey', 'wonders', 'bounding', 'Hiding', 'adopt', 'nappishness', 'Fear', 'sea', '106', 'hoary', 'uncommonly', 'wedge', 'stumbled', 'heedful', 'deeds', 'tenement', 'crescentic', 'marine', 'narrower', 'beheld', 'front', 'any', 'pointless', 'bark', 'inflexibly', 'tiled', 'spine', 'joiner', 'vigor', 'geological', 'posture', 'attempt', 'superlative', 'saw', 'Dodge', 'flour', 'policemen', 'TAHITAN', 'leeward', 'meat', 'climb', 'wallet', 'retreated', 'destroys', 'thistle', 'clothing', 'similitude', 'magic', 'instinctively', 'scowl', 'prevalent', 'attenuated', 'arguing', 'sheets', 'Cetacea', 'impunity', 'Lent', 'hitting', 'albatross', 'sylphs', 'chipping', 'contemptible', 'providing', 'inquired', 'let', 'silenced', 'scout', 'prayers', 'insomuch', 'portentous', 'Backs', 'jails', 'flags', 'licensed', 'indulging', 'embarking', 'thirds', 'Mammoth', 'ends', 'behold', 'orbs', 'Answer', 'ober', 'puffed', 'BIT', 'lead', 'humility', 'dry', 'unsullied', 'subdivided', 'exultingly', 'Caryatid', 'mathematics', 'cape', 'beams', 'Fa', 'cenotaphs', '116', 'tent', 'wholesome', 'clusters', 'toes', 'amputations', 'Church', 'embraced', '\"--', 'hideousness', 'Sail', 'although', 'orthodox', 'prints', 'vent', 'Want', 'Sunset', 'Fashioned', 'blunted', 'ITS', 'dust', 'reiterated', '1807', 'tee', 'WHALING', 'YOURS', 'bottling', 'turnpike', 'Gay', 'natures', 'decent', 'During', 'Maachah', 'headed', 'obligations', 'fewer', 'moral', 'oiled', 'hypothetically', 'assented', 'docked', 'brimful', 'unsleeping', 'stringy', 'Oh', 'anointed', 'etherial', 'retires', 'animation', 'raal', 'quivers', 'candidate', '104', 'wad', 'read', 'ague', '.--', 'Juba', 'telescope', 'benefit', 'unique', 'northern', 'allow', 'girdled', 'No', 'blindly', 'coffee', 'headway', 'Gallipagos', 'tons', 'throes', 'NANTUCKET', 'Elephants', 'tobacco', 'invitingly', 'True', 'unyielding', 'greatly', 'thoughtlessness', 'housewives', 'fatality', 'movements', 'muskets', 'knockers', 'graveyards', 'confirmation', 'inert', 'transpire', 'abaft', 'is', 'Rock', 'hides', 'odor', 'howdah', 'bounced', 'trophy', 'lounge', 'expedition', 'Schools', 'recluseness', 'infliction', 'vacating', 'replenish', 'tedious', 'insensible', 'sewing', 'soever', 'mealy', 'sou', 'fun', 'Stammering', 'promises', 'clinking', 'Perseus', 'fastener', 'Depend', 'ridden', 'unmethodically', 'invests', 'loads', 'curing', 'dispirits', 'overshoes', 'coves', 'prove', 'conflicts', 'indomitableness', 'occupants', 'grotesque', 'browed', 'choked', 'bidden', 'Irish', 'insider', 'brevet', 'softest', 'lassitude', 'Literally', 'Water', 'given', 'assisting', 'belongest', 'speculations', 'lake', 'here', 'speedy', 'Snap', 'Gold', 'humorousness', 'sorrows', 'exemplary', 'Shall', 'little', 'murmur', 'hypo', 'completing', 'oakum', 'inattention', 'Spurn', '000', 'strangers', 'RETAKING', 'dissatisfaction', 'padlocks', 'bedside', 'whooping', 'Low', 'furthermore', 'stubbing', 'curves', 'lipped', 'everywhere', 'shine', 'perturbation', 'ten', 'lieu', 'Himmalehan', 'inward', 'frogs', 'leans', 'suffused', 'diluted', 'thunderous', 'mostly', 'waned', 'compose', 'ignorance', 'eight', 'fan', 'gladly', 'Fejee', 'shipyards', 'glory', 'tapering', '87', 'recent', 'none', 'revenge', 'small', 'bulkhead', 'reefs', 'protrusion', 'wound', 'illumined', 'wanted', 'capitals', 'palest', 'stilly', 'hitching', 'Rockaway', 'ideas', 'Your', 'atmospheres', 'deposed', 'Junk', 'weazel', 'communion', 'Overhearing', 'temperature', 'indisputable', 'agonies', 'Therein', 'sterned', 'overleap', 'fifties', 'Outside', 'swap', 'referring', 'nation', 'SETH', 'watchmakers', 'cotton', 'endlessness', 'trinity', 'engrossing', 'dedicated', 'plunge', 'Hard', 'sauntering', 'fainter', 'flowering', 'unloitering', 'cant', 'larger', 'pantomime', 'hardness', 'Tom', 'admit', 'continuous', 'mortal', 'earthquake', 'hall', 'rightly', 'approaches', 'consciences', 'yeast', 'mistrust', 'game', 'excuse', 'yet', 'Son', 'tales', 'weakling', '14', 'unwieldy', 'dictating', 'cleaving', 'Mistress', 'happily', 'memorable', 'oriental', 'uniformly', 'ascribe', 'subtly', 'LATIN', 'HE', 'unbutton', 'masoned', 'superstitiously', 'czar', 'oats', 'tantamount', 'juggling', 'sacrilegious', 'comprehensive', 'auction', 'bamboozingly', 'solicitude', 'periodicalness', 'whispering', 'CRUIZE', 'Port', 'creditors', 'aright', ':--\"', 'marriage', 'wraps', 'placed', 'DIGNITY', 'General', 'adroitly', 'excessively', 'unneeded', 'reading', 'mountainous', 'weariest', 'affirms', 'Bay', 'odorless', 'crawling', 'hammers', 'hairy', 'ceremonies', 'remarkable', 'Wish', 'battery', 'baptism', 'duellist', 'Canadian', 'England', 'ago', 'consent', 'paved', 'lanyard', 'Ahasuerus', 'citations', 'marshy', 'stalk', 'phenomenon', 'lumber', 'snortings', 'OCTHER', 'GRIMLY', 'Becket', 'guineas', 'unremoved', 'regina', 'omen', 'nimble', 'methodical', 'necessities', 'steadfastly', 'scenery', 'treacherously', 'bloom', 'attain', 'violate', 'discoursing', 'kidnap', 'shared', 'shinbones', 'camel', 'misanthrope', 'Aye', 'goney', 'chicha', 'Shove', 'Jenny', 'Steelkilt', 'valves', 'befall', 'lowers', 'merrier', 'Bowditch', 'Europe', 'icebergs', 'stock', 'SPERMA', '3D', 'bodies', 'immortality', 'swelling', 'admirals', 'Forced', 'valiantly', 'freshet', 'caged', 'sanctuary', 'shrivelled', 'immaculate', 'betokening', 'Tho', 'vat', 'cover', 'wrecks', 'pagan', 'GANGWAY', 'Arkansas', 'waded', 'Arkite', 'imperilled', 'disinterred', 'pelvis', 'noting', 'Nearly', 'talks', 'averse', 'eyeless', 'Off', 'crop', 'operate', 'fiendish', 'comely', 'propose', 'whereupon', 'razors', 'sobbing', 'divides', 'arises', 'leash', 'swarmed', 'Dericks', 'Mrs', 'silk', 'tempest', 'thawed', 'occupation', 'governed', 'hot', 'Vineyarder', 'elaboration', 'corpses', '83', 'piteous', 'necessary', 'radiating', 'writhing', 'usual', 'frames', 'wretchedly', 'hoist', 'stalls', 'FALCONER', 'squitchy', '81', 'everybody', 'rustlings', 'oars', 'depicting', 'YOU', 'communicating', 'greener', 'Massa', 'extend', 'passionate', 'icicles', 'rubbed', 'scrupulous', 'uninjured', 'masterless', 'faithful', 'elucidated', 'awls', 'miserly', 'massacre', 'claims', 'frigate', 'bounce', 'trust', 'whalesmen', 'grew', 'peeped', 'Albatross', 'WHITE', 'cognisable', 'Morrel', 'walnut', 'revealed', 'Senor', 'clipped', 'involve', 'objections', 'boobies', 'Morning', 'saluted', 'PREFACE', 'griffins', 'accompaniments', 'counteracted', '1828', 'headless', 'captains', 'urgent', 'Bibliographical', 'Assume', 'patriot', 'piercer', 'bequeathed', 'witted', 'counter', 'maze', 'curving', 'unearthly', 'architecture', 'ADVENTURES', 'rascals', 'colder', 'appallingly', 'wonderfully', 'oftenest', 'blazed', 'manipulated', 'LIFE', 'followed', 'Flat', 'goadings', 'Seems', 'playfully', 'Scripture', 'conceals', 'sweeps', 'Few', 'fishers', 'eternities', 'airth', 'dazed', 'stared', 'confess', 'Islanders', 'interfering', 'entreaties', 'sogger', 'grows', 'varieties', 'symptom', 'apart', 'imbedded', 'slacking', 'specially', 'sharkish', 'keener', 'impregnably', 'decidedly', 'reticule', 'overstocked', 'premium', 'imperial', 'BEWARE', 'concernments', 'inhabitant', 'diving', 'gropes', 'mate', 'threads', 'Heidelburgh', 'public', 'stander', 'roughly', 'Porpoises', 'cord', 'peninsula', 'infinite', 'Dorchester', 'kill', 'Letter', 'really', 'Vitus', 'irascible', 'beam', 'Fife', 'residing', 'rivet', 'residuary', 'foie', 'Philologically', 'ARCTIC', 'Ingin', 'HARD', 'bed', 'incumbrance', 'methodic', 'assumes', 'reeled', 'maziness', 'behind', 'burghers', 'repast', 'historians', 'Smeer', 'upon', 'individual', 'enemy', 'LONDON', 'Harmattans', 'cruise', 'BEFORE', 'echoes', 'successful', 'simple', 'upliftings', 'prevail', 'thro', 'lifts', 'Dr', 'monuments', 'Mastodon', 'living', 'casks', 'allude', 'Buoy', 'outblown', '890', 'Bridge', 'lad', 'seemingly', 'firmaments', 'Helena', 'locking', 'sprains', 'planetarily', 'fro', 'earthly', 'seed', 'eddyings', 'friar', 'receiving', 'Carson', 'stunning', 'unanswerable', 'classic', 'dedicates', 'pulse', 'childish', 'doom', 'tufts', 'pencil', 'bushy', '63', 'Betty', 'perish', 'wantest', 'alluring', 'expanse', 'mocked', 'chaplain', 'lady', 'entrapped', 'La', 'sabbee', 'crutch', 'Macrocephalus', 'cannibalistically', 'rivallingly', 'clock', 'cruisers', 'unhorse', 'dared', 'wrought', 'frock', 'mists', 'AUGUST', 'rejoice', 'pronounced', 'seldom', 'thoroughly', 'Lucky', 'drench', 'Pisces', 'conveys', 'furious', 'ICELAND', 'bits', 'unblinkingly', 'havens', 'reappearance', 'July', 'indigenous', 'history', 'HVALT', 'Sal', 'exactitude', 'pressed', 'compliments', 'codfish', 'friendliness', 'Plain', 'antichronical', 'feel', 'incarnated', 'effeminacy', 'development', 'grasp', 'tableau', 'such', 'drowsiness', 'Hudson', 'situation', 'affectionate', 'adventurous', 'undecipherable', 'hoofs', 'leakage', 'villanous', 'waive', 'conceive', 'cullest', 'Norse', 'Fair', 'remunerative', 'burnish', 'unpoetical', 'abroad', 'blurred', 'humored', 'Measurement', 'assure', 'unhaunted', 'tenth', 'aside', 'digestion', 'Jumped', 'amid', 'tribes', 'besooted', 'Heated', 'nibbling', 'STEPS', 'blossoms', 'pale', 'struggles', 'selling', 'dents', 'Republican', 'imagines', 'steep', 'chain', 'fondly', 'flies', 'plain', 'frigates', 'sworn', 'declares', 'his', 'outbranching', 'turfed', 'anaconda', 'soundest', 'merman', 'conceded', 'cherry', 'Rig', 'tailed', 'lotions', 'sister', 'heterogeneously', 'allay', 'ordaining', 'fatalistic', 'thou', 'miscellaneous', 'senior', 'GOES', 'persuading', 'discourseth', 'beats', '126', 'philosophy', 'vial', 'resistance', 'VIIIth', 'random', 'vine', 'lashing', 'reaped', '23', 'clergy', 'billiard', 'MOUTHED', 'FORWARD', 'neighbor', 'different', 'license', 'fluid', 'impertinent', 'presence', 'spavined', 'unrighteous', 'imported', 'Aries', 'Lake', 'caudam', '69', 'scraps', 'Saxon', 'abhorrent', 'ponchos', 'pall', 'carpenter', 'unsealed', 'Swackhammer', 'rid', 'commonplaces', 'recklessly', 'handsome', 'favour', 'festoons', 'muffledness', 'heat', 'engines', 'digest', 'tropics', 'weakly', 'Anyhow', 'perceiving', 'cipher', 'apoplexy', 'lips', 'tusked', 've', 'horizontally', 'cranes', 'pounds', 'investment', 'Pudding', 'Abel', 'splash', 'stretched', 'heave', 'Achilles', 'Having', 'foreknew', 'premised', 'Rising', 'breathes', 'led', 'tusks', 'wildly', 'mazy', 'pot', 'sullen', 'blindest', 'tackles', 'snugness', 'Cape', 'badge', 'Doom', 'circulation', 'cartloads', 'assault', 'embellishments', 'sentiment', 'pounded', 'hear', 'disgorge', 'strings', 'Hoe', 'disasters', 'panel', 'pays', 'interlacing', 'priority', 'spoutholes', 'Austrian', 'keen', 'VERBAL', 'peaking', 'latter', 'government', 'considering', 'meritoque', 'sweat', 'least', 'thunders', 'decently', 'elderly', 'phase', 'hydrants', '30', 'literal', 'Tis', 'improving', 'm', 'CONTINUES', 'Many', 'respectable', 'unprepared', 'strained', 'gainst', 'noiselessly', 'chalking', 'CANNY', 'professors', 'appellation', 'shaping', 'amuck', 'scattered', 'substantiated', 'driven', '94', 'lava', 'relapses', 'rend', 'gaffs', 'vault', 'medals', 'crackers', 'mizentop', 'pennies', 'resplendent', 'innumerable', 'flowers', 'hairs', 'perseverance', 'vane', 'jewellers', 'piggledy', 'bedarned', 'festoon', 'joke', 'cook', 'foaled', 'midday', 'exposing', 'craters', 'daylight', 'tub', 'Khan', 'Consider', 'staving', 'schooner', 'forge', 'dost', 'adhesiveness', 'notched', 'acre', 'bowling', 'aspects', 'reciprocal', 'imperceptibly', 'undetached', 'saws', 'selves', 'weaker', 'expected', 'warehouse', 'elves', 'moderate', 'sheaves', 'convictions', 'irksome', 'STARBUCK', 'prelusive', 'forms', 'conveyance', 'leviathan', 'hospitality', 'MEN', 'sending', 'Secretary', 'semiweekly', 'Assuredly', '1671', 'enumerated', 'falsified', 'Very', 'landed', 'everythings', 'maid', 'clear', 'articles', 'coupled', 'mute', 'method', 'mildness', 'sneak', 'procured', 'warped', 'breast', 'lizard', 'VICE', 'loo', 'parmacetty', 'Dost', 'soul', 'spiritually', 'Not', 'rendered', 'whitewashed', 'Australian', 'sign', 'luxuriant', 'membranes', 'indomitable', 'SIR', 'endurance', 'Vedas', 'surprising', 'remnants', 'keel', 'hemp', 'deputation', 'prefix', 'stronger', 'overgrowth', 'unusually', 'gasped', 'Erskine', 'naturalists', 'mortar', 'Rhodes', 'presentations', 'pike', 'MAT', 'Atlantics', 'sake', 'reinforced', 'spout', 'raised', 'grasped', 'upstairs', 'medallions', 'retarded', 'rug', 'wreak', 'crotch', 'irrespective', 'creditor', 'mistaken', 'marbled', 'spoils', 'depression', 'frugal', 'liken', 'W', 'shines', 'yoke', 'swinging', 'that', 'perverse', 'blameworthy', 'reckon', 'overhung', 'prudent', 'drove', 'staunch', 'establish', 'Painter', 'SHIPMATES', 'learnedly', 'Heads', 'offering', 'wrench', 'signals', 'Equatorial', 'floundered', 'propelled', 'Bonneterre', 'attic', 'Gases', 'jelly', 'remembered', 'superficially', 'tortoise', 'ragged', 'empire', 'Spencer', 'Met', 'complicated', 'Advocate', 'ungrateful', 'happen', 'repairing', 'uninhabited', 'race', 'preventer', 'sleep', 'incarcerated', 'abasement', 'chose', 'nt', 'skies', 'sheepfold', 'sixpence', 'banquet', 'deceived', 'animate', 'inwreathing', 'livelong', '1778', 'pole', 'BOOK', 'dawning', 'exerted', 'unmanufactured', 'holders', 'parenthesize', 'fever', '132', 'minced', 'pint', 'halloa', 'Brahmins', 'hallowed', 'exotic', 'contains', 'yawing', 'holdest', 'beckoning', 'hish', 'FOR', 'withdrawal', 'monkey', 'Dead', 'Ellenborough', 'sway', 'stuck', 'QUIETLY', 'loves', 'sog', 'material', 'paternity', 'Cato', 'spy', 'size', 'Steel', 'infirmity', 'THEE', 'helmsman', 'ride', '1839', 'persisted', 'affirmative', 'gem', 'Blanket', 'Swallow', 'preparatives', 'redeeming', 'curse', 'excellence', 'feed', 'capsize', 'paddle', 'joyousness', 'Pushing', 'invoking', 'engraved', 'sported', 'hare', 'allowances', 'traps', 'eber', 'comprehended', 'cargo', 'farings', 'FLAMES', 'tracings', 'generations', 'jeopardy', 'pangs', 'waistband', 'craven', 'partnership', 'detestation', 'Potters', 'repressed', 'Excuse', 'kelpy', 'architects', 'drawlingly', 'Also', 'scale', 'declaring', 'rascal', 'SPITZBERGEN', 'blanket', 'reelman', 'applies', 'compact', 'unpleasing', 'flavor', 'food', 'spending', 'SHRINKING', 'wailing', 'they', 'Wife', 'lo', 'funeral', \"?'--'\", 'creation', 'create', 'Touching', 'towing', 'priest', 'narwhale', 'interested', 'thrusts', 'dash', 'Baltimore', 'ridiculous', 'Only', 'English', 'suppress', 'Duodecimo', 'tapped', 'cleets', 'mown', 'majestically', 'condensed', 'Tartarean', 'jesty', 'Herr', 'overcome', 'acquaintances', 'patentees', 'appalled', 'Radney', 'Halloa', 'distilled', 'volatile', 'extinguished', 'emoluments', 'dusty', 'swiftest', 'Israelites', 'outermost', 'dyspepsias', 'vitiated', 'oneself', 'tugging', 'census', 'Paradise', 'fable', 'poverty', 'DANCE', 'crackled', 'slave', 'divine', 'engrossed', 'echoed', 'FLAME', 'flail', 'Seed', 'insure', 'arranged', 'thanked', 'wise', 'designates', 'relate', 'harness', 'peremptory', 'unconcluded', 'deny', 'unbent', 'fists', 'rust', 'Alleghanian', 'Platonian', 'Swedes', 'gods', 'height', 'enveloped', 'strides', 'fades', 'grains', 'proprietor', 'IV', 'crouch', 'clattering', 'early', 'mob', 'mythologies', 'Summer', 'constitutional', 'Palace', 'eye', 'falsely', 'habitude', 'hurry', 'represents', 'Kick', 'girth', 'chickens', 'Crotch', 'wherewith', 'legatee', 'Strangest', 'confounding', 'torments', 'revellers', 'Acushnet', 'protected', 'idiotic', 'indolent', 'Grub', 'Ground', 'quit', 'bolt', 'vow', 'religions', 'continent', 'desist', 'clasp', 'stranded', 'cannot', 'adrift', 'respiration', 'monster', 'kennel', 'kettles', 'tool', 'casualty', 'salamed', 'UNPUBLISHED', 'Pooh', 'Pulling', '1750', 'state', 'getting', 'toad', 'Chowder', 'prairies', 'infiltrated', 'Power', 'entrenched', ';--', 'inclosed', 'Hemp', 'flee', 'bidding', 'influences', 'outs', 'wet', 'rumors', 'surpasses', 'thoughtless', 'STRAPS', 'detached', 'usefulness', '12', 'old', 'ho', 'easy', 'judicious', 'officer', 'freezing', 'Humph', 'ghastly', 'multiplicity', 'ARE', 'wear', 'widows', 'mightest', 'mittened', 'pounce', 'Highland', 'flambeaux', 'crested', 'aimlessly', 'received', 'TAMBOURINE', 'jostle', 'unskilful', 'slits', 'nervousness', 'placing', 'blasted', 'WAVING', 'Barrens', 'lucifers', 'unchanging', 'Eternity', 'axe', 'moot', 'sanely', 'straits', 'hardest', 'petrified', 'stream', 'mildly', 'goest', 'swindle', 'often', 'TAKEN', 'pervades', 'Ombay', 'Smithfield', 'imprecate', 'boldly', 'benediction', 'Abednego', 'Throughout', 'HAILS', 'Lieutenant', 'cost', 'civilly', 'Sailing', 'tormenting', 'earliest', 'bond', 'rosy', 'lean', 'freedom', 'cleansing', 'looker', 'proof', 'flow', 'FOLLOW', 'meagre', 'islets', 'cutting', 'grab', 'Roll', 'wheezing', 'Wooden', 'inserting', 'IVORY', 'impudence', 'built', 'resort', 'Boy', 'mist', 'capable', 'materially', 'nondescripts', 'repaired', 'moodily', 'conduits', 'flattering', 'recrossing', 'split', 'retains', 'glutinous', 'killer', 'obstinate', 'ascriptions', 'sitteth', 'cannon', 'statistically', 'unvitiated', 'curses', 'proportioned', 'asunder', 'cocks', 'encasing', 'BREACH', 'catastrophe', 'bedfellow', 'stings', 'orgies', 'Sometimes', 'respective', 'Base', 'Bargain', 'painted', 'slain', 'despair', 'preposterous', 'gravestone', 'ASPECT', 'woody', 'mossy', 'newly', 'parade', 'profane', 'not', 'shady', 'pretending', 'Pipe', 'songs', 'passant', 'stifle', 'reflection', 'dismissal', 'destination', 'gourmand', 'meridian', 'mightily', 'facing', 'Hearkening', 'stout', 'century', 'transpired', 'disclosed', 'kindness', 'transfer', 'urn', 'huff', 'profit', 'nets', 'Evangelists', 'plainest', 'assuaging', 'professions', 'Tit', 'condemned', 'interruption', 'population', 'waxed', 'gentleness', 'label', 'firkins', 'advance', 'examination', 'Deity', 'complain', 'include', 'mantle', 'ascending', 'sofa', 'waif', 'hurrying', 'delay', 'spaciousness', 'Cherries', 'require', 'typifies', 'champed', 'recrossed', 'betokened', 'paler', 'viol', 'depend', 'Muezzin', 'Petrified', 'letter', 'mowers', 'fits', 'statistics', 'bankrupt', 'Babylonian', 'Praetorians', 'plaudits', 'elasticity', 'Israel', 'ask', 'eatable', 'faintness', 'sportsman', 'gleaming', 'acres', 'triangularly', 'harlot', 'mottled', 'ducat', 'Squires', 'Kraken', 'Texas', 'hued', 'satin', 'Savesoul', 'roosting', 'Natural', 'gown', 'utterance', 'Devil', 'dewy', 'trooped', 'halving', 'Cod', 'writer', 'extended', 'lost', 'pyres', 'lack', 'WINDOWS', 'surrenderest', 'fancying', 'balmy', 'vicinity', 'temples', 'universally', 'palace', 'worshipped', 'sufferable', 'incarnations', 'hast', 'glitters', 'organized', 'DISCOVERS', 'vulture', 'bountifully', 'Castle', 'wery', 'PROFANE', 'hay', 'Is', 'false', 'Perchance', \"',--\", 'noise', 'indissoluble', 'Among', 'trim', 'PASSING', 'forcibly', 'rustle', 'gasps', 'fevers', 'collect', 'hurl', 'smoky', 'community', 'intents', 'queerest', 'grizzly', 'sufficient', 'intercept', 'descent', 'comfortableness', 'mutters', 'Mad', 'vows', 'bull', 'expressing', 'snapped', 'oaths', 'stump', 'polishing', 'juvenile', 'Whosoever', 'Inquisition', 'section', 'uncleanliness', 'jar', 'dejected', 'tops', 'delights', 'royalty', 'sundry', 'guarantee', 'Boomer', 'incommoding', 'toder', 'demanding', 'probationary', 'Merrily', 'Terra', 'ugliest', 'puzzling', 'contented', 'muteness', 'salutes', 'yielded', 'tenderness', 'Helm', 'crucifixion', 'Lavater', 'suckling', 'zoned', 'shortness', 'consist', 'thrilling', 'Albert', 'having', 'totally', 'clearness', 'fetor', 'squares', 'whispers', 'county', 'anacondas', 'Sailors', 'Oft', 'inspectingly', 'ditto', 'insured', 'standest', 'tigers', 'slide', 'servants', 'Rib', 'attacks', 'toughness', 'quicksand', 'collapsed', 'accelerating', 'fish', 'Rattle', 'peering', 'revolve', 'killed', 'Huggins', 'carrion', 'unostentatious', 'momentous', 'repentance', 'semi', 'gurgling', 'think', 'IS', 'accordingly', 'waterward', 'calabash', 'irresolute', 'Czar', 'touches', 'Butchers', '1819', 'stuff', 'post', 'happenest', 'progression', 'PURCHAS', 'chances', 'thoughtfulness', 'churches', 'impulsive', 'overboard', 'honeycomb', 'plumed', 'coppers', 'silken', 'forgetful', 'Soon', 'voids', 'vivacity', 'gallant', 'antlered', 'boisterously', 'Another', 'queens', 'watching', 'murder', 'shame', 'blistered', 'imponderable', 'slopes', 'testily', 'breezy', 'banded', 'supernaturalness', 'Pacific', 'deceits', 'lunges', 'SAIL', 'structural', 'woraciousness', 'lactantem', 'recall', 'tumults', 'scientific', 'dance', 'worryings', 'Ten', 'salute', 'august', 'attack', 'approval', 'ropes', 'muzzle', 'massive', 'fitfully', 'Guernsey', 'adequately', 'shipkeepers', 'exceeds', 'secret', 'EXCHANGE', 'lung', 'pill', 'forerunning', 'scuttle', 'remarks', 'slapping', 'comparable', 'openly', 'horrifying', 'speechless', 'resurrections', 'quarrelsomely', 'toilings', 'flailings', 'stacking', 'anvil', 'yourselves', '1775', 'boast', 'perennial', 'Issuing', 'cheeseries', 'merchant', 'hundred', 'productive', 'kings', 'exceedingly', '79', 'spindled', 'efficient', 'Small', 'parcelling', 'contemplations', 'eternal', 'Ganders', 'pell', 'New', 'tricks', 'Dough', 'Virgin', 'kelson', 'hits', 'rumbled', 'shrewdness', 'groans', 'mentioning', 'Must', 'thinned', 'sarmon', 'storm', 'relation', 'Gate', 'fornication', 'symbolize', 'Monsieur', 'immersed', 'Von', 'allures', 'splendors', 'Suspended', 'interlinked', 'czarship', 'RICHARD', 'more', 'instigation', 'cradled', 'starved', 'Knight', 'presumable', '29', 'disks', 'crimson', 'hundreds', 'there', 'retrace', 'maples', 'contemplation', 'potencies', 'devouring', 'calls', 'groves', 'While', 'Hull', 'actest', 'careens', 'gestures', 'Frobisher', 'negroes', 'flame', 'heeling', 'widening', 'loneliness', 'foothold', 'muffling', 'severs', 'alarms', 'lunacy', 'marksmen', 'bandaged', 'drop', 'Grenadier', 'dishes', 'wholly', 'quoin', 'Parisians', 'plough', 'grinding', 'disembowelled', 'dallied', 'ramming', 'bundles', 'Whitsuntide', 'Loaded', 'Levanter', 'sculpture', 'leave', 'loomed', 'rails', 'tombstones', 'pardon', 'nondescript', 'backstay', 'DEBELL', 'tracing', 'bleeding', 'UNWINDING', 'leaky', 'maintained', 'adolescence', 'me', 'hemmed', 'precautionary', 'yes', 'trap', 'maddened', 'appendage', 'traits', 'dentists', 'terrible', 'whaleship', 'Strello', 'TOOKE', 'cowhide', 'foster', 'heeding', 'promptitude', 'morning', 'bounder', 'holds', 'supported', 'dad', 'altitudes', '99', 'indignant', 'stage', 'saline', 'Guinea', 'tried', 'meanest', 'slats', 'reverential', 'invincible', 'fiercer', 'discoverer', 'pointed', 'gorge', 'smaller', 'Gulf', 'mixed', 'consisted', 'mankind', 'underived', 'lowermost', 'YOUR', 'aimed', 'sturgeon', 'Immediately', 'Africans', 'considerably', 'named', 'plantation', 'equal', 'absurd', 'whaleships', 'tastefully', 'mathematically', 'lancers', 'flowered', 'Sphynx', 'languages', 'intestines', 'indeed', 'accommodate', 'artificially', 'shells', 'II', 'Rose', 'jumbled', 'satisfied', 'Manxman', 'chaste', 'remoter', 'mournful', 'copying', 'maidens', 'date', 'kingdom', 'adorned', 'Quakerish', 'silently', 'it', 'pound', 'foolishly', 'changeless', 'blown', 'summers', 'Glacier', 'toasting', 'had', 'decided', '!', 'phrenological', 'exertion', 'conical', 'tellin', 'elegant', 'insultest', 'cradle', 'omnipresent', 'panic', 'obedience', 'piously', 'Oars', 'seething', 'ignominious', 'Meanwhile', 'glazed', 'prisoners', 'warming', 'keeper', 'render', 'inwards', 'clotting', 'Find', 'incorruptible', 'WINDLASS', 'fur', 'ye', 'hugging', 'butchering', 'milk', 'disorderliness', 'Genius', 'casualties', 'carve', 'endued', 'respectively', 'prescriptive', '1825', 'restricted', 'TRUCKS', 'unfaltering', ');', 'safely', 'seekest', 'cage', 'phosphorescence', 'dangerous', 'cob', 'coals', 't', 'rise', 'temporarily', 'tolerably', 'Farewell', 'drowsy', 'coats', 'Noah', 'noticing', 'near', 'Broadway', 'shagginess', 'ISLANDS', 'diagonal', 'carved', 'doctor', 'fairly', 'reliance', 'Io', 'broadly', 'rivers', 'speeding', 'bridegrooms', 'SAILOR', 'granting', 'intimate', 'buoyantly', 'whalers', 'unfold', 'wrists', 'Back', 'resume', 'capstan', 'snow', 'inhabitiveness', 'vowed', 'girl', 'bunch', 'investigation', 'vaguely', 'yours', 'SAILORS', '1772', 'reverentially', 'populous', 'cadence', 'United', 'wid', 'SINGING', 'festival', 'fled', '55', 'fullest', 'Count', 'riding', 'Grisly', 'Tistig', 'hem', 'unmixed', 'hid', 'macassar', 'buckling', 'donkey', 'speediest', 'conscious', 'unaccustomed', 'unfurling', 'young', 'circlings', 'Stowing', 'nearing', 'MORALS', 'discover', 'javelin', 'keepers', 'diffused', 'terraces', 'tossed', 'present', 'even', 'pump', 'engraving', 'path', 'lbs', 'insert', 'FIN', 'World', 'We', 'housekeeping', 'holies', 'expending', 'Retreating', 'limpid', 'strangest', 'confederate', 'loon', 'Mt', 'untoward', 'Asiatics', 'shrouded', 'allurements', 'lock', 'AZORE', 'murderous', 'await', 'Fogo', 'LASCAR', 'grunt', 'alternately', 'taunts', 'crash', 'vapour', 'magnification', 'parading', 'provoked', 'mint', 'apprehensiveness', 'hour', 'associated', 'ear', 'lining', 'ambition', 'sovereignest', 'enshrined', 'combination', 'Garnery', 'Jig', 'SCUTTLE', 'pouring', 'initials', 'irrevocably', 'heathen', 'herding', 'bled', 'forbade', 'swayings', 'narrated', 'muffle', 'spiritual', 'fascinated', 'claws', 'uncommon', 'sparkling', 'strands', 'prick', 'ebonness', 'laden', 'whips', 'SEAMS', 'treats', 'lightest', 'comfortably', 'plan', 'ring', 'gift', 'obtained', 'Thine', 'unfortunate', 'bepatched', 'ne', 'exhibiting', 'libraries', 'SNEEZES', 'prating', 'whatever', 'permitted', 'intolerableness', 'boxes', 'smithies', 'tattooing', 'resemblance', 'Mark', 'distracted', 'prows', 'rifle', 'Whereas', 'Giver', 'cisterns', 'vaults', 'profile', 'sets', 'sheep', 'mayhap', 'bulbous', 'tasting', 'contradictory', 'collateral', 'abounding', 'vintages', 'impressions', 'muttering', 'wrest', 'galls', 'ceti', 'cutlass', 'ginger', 'assailing', 'peace', 'bury', 'Saint', 'summit', 'Whole', 'buckler', 'friends', 'proclaimed', 'sneaking', 'CIRCUMNAVIGATION', 'devious', 'unquiet', 'sinned', 'commentators', 'dotings', 'LIE', 'probably', 'circumspect', 'chess', 'delicate', 'gallantry', 'sword', 'functionary', 'bears', 'snatch', 'sharply', 'According', 'togs', 'subserve', 'Immemorial', 'batteries', 'HELM', 'mouts', 'reveal', 'dairy', 'extorting', 'Top', 'flames', 'greenhorn', 'NO', 'pursed', 'watch', 'bandied', 'raising', 'mechanically', 'boyhood', 'clams', 'SMALL', 'waifed', 'skirts', 'befriended', 'picturesqueness', 'parsley', 'starvation', 'sore', 'Eastern', 'Its', 'likely', 'magnanimous', 'fiends', 'Povelson', 'aglow', 'significance', 'invoked', 'gaseous', 'squilgee', 'KING', 'visitants', 'forlornly', 'Volcano', 'comprise', 'peddling', '46', 'terribleness', 'devote', 'foulness', 'tied', '1820', 'gabled', 'freight', 'waning', 'Witt', 'awfulness', 'comber', 'bewitched', 'mould', 'unrifled', 'adieu', 'dribbles', 'terms', 'gigantic', 'paunch', 'repair', 'Glancing', 'Peleg', 'balancing', 'designs', 'fork', 'circumstanced', 'nautical', 'surroundingly', 'Northman', 'promissory', 'put', 'carelessly', 'owing', 'descend', 'whang', 'relied', 'soundings', 'shadow', '119', 'ejaculation', 'analogous', 'where', 'division', 'phrenologists', 'clearings', 'Too', 'buoys', 'predicted', 'design', 'coming', 'Corrupt', 'Silence', 'inserted', 'Adam', 'proas', 'scrutiny', 'involving', 'wife', 'muscle', 'banished', 'informed', 'punctured', 'perfected', 'extravaganzas', 'dish', 'delectable', 'BENCH', 'handles', 'depressed', 'hatchway', 'decision', 'hath', 'decree', 'Chase', 'pushed', 'rose', 'gentleman', 'Miserable', 'Jonas', 'tuns', 'generously', 'physiognomically', 'cumbrous', 'corridors', 'characteristics', 'could', 'Levelling', 'evolved', 'misty', 'pryed', 'STERN', 'fangs', 'dome', 'Once', 'colonnades', 'drugged', 'broods', 'anatomical', 'Figuera', 'Judges', 'slit', 'arched', 'suffered', 'boldness', 'Goney', 'investigated', 'SHIP', 'seat', 'bloodthirsty', 'damning', 'Verily', 'ISOLATO', 'Over', 'superb', 'borrowing', 'file', 'direction', 'aback', 'LAY', '75', 'trembling', 'barges', 'suspend', 'glittered', 'inspection', 'unto', 'separable', 'fatally', 'extracts', 'tantalizing', '107', 'ungracious', 'seeking', 'LAYS', 'hues', 'THEY', 'unbelief', 'transplanted', 'yellowish', 'genteel', 'riveted', 'cyphers', 'consecutive', 'overstrained', 'beliefs', 'influenced', 'brewery', 'Woods', 'compounded', 'Gemini', 'powerful', 'unawed', 'devoutly', 'bowing', 'item', 'passionlessness', 'County', 'holding', 'milkiness', 'maintain', 'springy', 'Less', ';*', 'exposes', 'anxiety', 'Julys', 'whatsoever', 'presides', 'Friesland', 'Even', 'gallied', 'worm', 'colourless', 'undressing', 'special', 'crucifix', 'visiting', 'clan', 'confined', 'NARWHALE', 'heathens', 'mosses', 'ashore', 'sod', 'purporting', 'reckoned', 'dreamy', 'ALONE', 'unlighted', 'sound', 'Deep', 'Nantucket', 'Remote', 'usage', 'throw', 'Hindostan', 'Drop', 'Sodom', 'mariners', 'walls', 'dressing', 'plausible', 'staid', 'dauntless', 'transformed', 'Arched', 'Tarquin', 'hissed', 'Connecticut', 'flaxen', 'retentive', 'inhuman', 'industrious', 'lobes', 'ONE', 'uncharted', 'Leuwenhoeck', 'walruses', 'powerless', 'brit', 'rounding', 'wake', 'repels', 'chestnuts', 'Rinaldo', 'Bombay', 'hulls', 'goberned', 'SLEET', 'Hope', 'Commodore', 'realizing', 'companies', 'blending', 'brilliant', 'promising', 'organizations', 'assembly', 'speaking', 'eddied', 'philosophies', 'wealthiest', 'frightful', 'odious', 'consulting', 'kentledge', 'REPUBLICA', 'knees', 'one', 'maliciously', 'Bunger', 'canonic', 'wonderments', 'swords', 'paintings', 'rib', 'boozy', 'latitude', 'arrayed', 'oblongs', 'ireful', 'patches', 'concerned', 'showing', 'bowie', 'Brisson', 'reconciled', 'Diminish', 'whencesoe', 'FOLIO', 'suggestions', 'seaman', 'copied', 'strikes', 'hammock', 'Prodromus', 'Scoresby', 'supplants', 'gore', 'repeating', 'summer', 'entrails', 'comforting', 'acerbities', 'cable', 'Fain', 'worse', 'misgiving', 'drink', 'lovers', 'princely', 'ee', 'Crockett', 'forgotten', 'mend', 'Philippe', 'Jesus', 'BRIT', 'discourse', 'exposure', 'gradually', 'cavaliers', 'treat', 'constrainings', 'regardings', 'valour', 'hope', 'deploy', 'supernaturalism', 'Afterwards', 'constant', 'professional', 'indication', 'kidnapped', 'facilitate', 'perils', 'lone', 'bending', 'bolted', 'harbor', 'livelihood', 'differs', 'beards', 'larceny', 'priests', 'Forward', 'cindered', 'mutually', 'submitted', 'feastest', 'antidote', 'loaded', 'doer', 'called', 'accidents', 'jack', 'diameter', 'torsoes', 'triumphal', 'Conjuror', 'hatchings', 'Nevertheless', 'contusions', 'produced', 'claimed', 'invocation', 'bumpers', 'curled', 'baggage', 'bestow', 'revived', 'proving', 'die', 'unspeakable', 'elapsed', 'interminable', 'tainted', 'fumbling', '):', 'sulky', '70', 'accomplish', 'pray', 'punishment', 'defray', 'slackened', 'skrimshander', '4TH', 'fortune', 'headsman', 'obscuring', 'shell', 'ETCHINGS', 'Tarsus', 'spearings', 'mace', 'unless', 'towards', 'AGAINST', 'art', 'Turn', 'abruptly', 'prodigy', 'average', 'Lose', 'heart', 'Gulfweed', 'considerable', 'planing', 'sunshine', 'remembering', 'ant', 'respects', 'everlasting', 'thews', 'Advancement', 'taste', 'reef', 'claps', 'revenue', 'unsignifying', 'LEAPS', 'bosoms', 'BOSOM', 'limbs', 'Bellies', 'Whence', '50', 'stripping', 'Ramadans', '44', 'steals', 'trample', 'rescued', 'warrior', 'desk', 'bestreaked', 'tightened', 'grandeur', 'layer', 'Platonist', 'recover', 'admonitory', 'Academy', 'fattening', 'adoption', 'LEANING', 'tinder', 'elephant', 'visage', 'redolent', 'PREVIOUS', 'swooping', 'exegetists', 'various', 'deadening', 'labors', 'semblance', 'ignore', 'bandbox', 'agree', 'surprised', 'charter', 'modes', 'slaughter', 'tints', 'inhabitable', 'expands', 'nourishing', 'tranquillity', 'muscular', 'geologist', 'furnishing', 'thin', 'bids', 'LASHINGS', 'controls', '49', 'observest', 'lint', 'Jove', 'Horatii', 'only', 'atheistical', 'WHEN', 'liv', 'charcoal', 'granite', 'L1', 'honourably', 'green', 'crosswise', 'brigs', 'Jack', 'honourableness', 'mow', 'budge', 'perchance', 'Vehemently', 'quaint', 'hooked', 'furnished', 'incrustations', 'shoal', 'torrents', 'Ahoy', 'seignories', 'strutting', 'dispersed', 'ABOUT', 'globe', 'lends', 'unhinted', 'monstrous', 'Phrenologist', 'rub', 'powers', 'backwards', 'theatre', 'dislocation', 'chains', 'privileges', 'opulent', 'vowing', 'HERE', 'religionists', 'molten', 'puffing', 'dalliance', 'mildewed', 'gas', 'cunningly', 'Brit', 'alewives', 'observations', 'birch', 'overruns', 'Canada', 'irregularly', 'rubies', 'picture', 'locality', 'unread', 'tattooed', 'spelling', 'Mississippi', 'accident', 'Walks', 'cooks', 'attending', 'tornado', 'tents', 'CAPTAIN', 'Cannibal', 'Deuteronomy', 'unimpressed', 'inducing', 'Willoughby', 'books', 'unheeded', 'Square', 'UP', 'peaked', 'warmth', 'Salem', 'Decapitation', 'unsubduable', 'FIRMLY', 'prophets', 'embrace', 'entrenchments', 'until', 'believers', 'catarrhs', 'Corkscrew', 'Tranquilly', 'paints', 'envelope', 'faced', 'bare', 'necks', 'Point', 'Sherry', 'migrating', 'intertwistings', 'basso', 'effect', 'Bosom', 'included', 'webbed', 'OUT', 'gin', 'loggerhead', 'Born', 'malice', 'maketh', 'vultures', 'commanders', 'Innocents', 'tat', 'moulded', 'revivified', 'Pan', 'incomputable', 'bake', 'TRUE', 'deadly', 'kidnapping', 'retreating', 'despairing', 'Dugongs', 'inferred', 'attacked', 'expatiate', 'overhanging', 'give', 'anoint', 'bend', 'DEATH', 'oceans', 'bespeak', 'unnamable', 'inlayings', 'sereneness', 'virtuous', 'Bibles', 'unreasonably', 'shall', 'pampered', 'marchings', 'balanced', 'shades', 'mystery', 'replaced', 'Polynesian', 'equatorial', 'scaled', 'thy', 'madness', 'motion', 'crest', 'private', 'jambs', 'peacefulness', 'premises', 'cheerless', 'officio', 'instance', 'busy', 'dictatorship', 'liquor', 'handy', 'exhaustion', 'Concerning', 'defyingly', 'cooking', 'remorseless', 'descended', 'Gabriel', 'pewter', 'fireside', 'Unicorn', 'Seen', 'mathematical', 'PEQUOD', 'Constantine', 'daresn', 'draught', 'meal', 'halt', 'Romish', 'SINGS', 'nursing', 'distressed', 'unclad', 'criticism', 'Edward', 'Persia', 'patron', 'Twenty', 'sideboard', 'inconclusive', 'implements', 'Surgeon', 'BURKE', 'barriers', 'rapture', 'loungingly', 'slices', 'imperfectly', 'quarrel', 'THEN', 'blinds', 'dumpling', 'Olassen', 'invention', 'divings', 'ungarnished', 'strangely', 'shalt', 'deck', 'tubes', 'Spurzheim', 'jungle', 'Fearing', 'breeds', 'bit', 'accounted', 'presentment', 'Paris', 'hogs', 'Fleece', 'weeks', 'boomed', 'prairie', 'dull', 'idolator', 'presided', 'drumsticks', 'mahogany', 'afternoon', 'Shifting', 'Jump', 'puddings', 'inexhaustible', 'contracting', 'castors', 'inadequately', 'Miles', 'Rarmai', 'buttered', 'hags', 'discoloured', 'Star', '400', 'POKE', 'pages', 'Our', 'possessing', 'soliloquizer', 'brack', 'Giving', 'forthing', 'PORTUGUESE', 'carpenters', 'cracking', 'Puritanic', 'interflow', 'best', 'shake', 'stiffen', 'gain', 'deliberated', 'delicacy', 'prefecture', 'identical', 'liveliness', 'sleight', 'housings', 'Ethiopian', 'gallon', 'pie', 'snapping', 'yaw', 'inexorable', 'hoping', 'Dunkirk', 'unpleasant', 'Away', 'took', 'Buffalo', 'lid', 'Alexanders', 'Witness', 'Inward', 'obscurely', 'racket', 'Monongahela', 'outstretching', 'heaven', 'vintage', 'globules', 'thigh', 'whites', 'foolish', 'Fast', 'iceberg', 'squaw', 'namely', 'drinking', 'lonesomely', 'invest', 'resolves', 'subalterns', 'unseasonable', 'gush', 'dreaminess', 'nape', 'slunk', 'mighty', 'affluent', 'went', 'NUDGING', 'Massachusetts', 'skittishly', 'vicariously', 'dyspepsia', 'dilating', 'presaged', 'farthing', 'Museum', 'disobedience', 'capping', 'monsters', 'cautiously', 'sold', 'honing', 'brook', 'packet', 'Holofernes', 'dug', 'againe', 'deliriums', 'fervent', 'forewarned', 'FEGEE', 'foes', 'pallid', 'scupper', 'Danish', 'lividly', 'wast', 'hideously', 'calamity', 'issued', 'girds', 'fields', 'diamond', 'ironical', 'bottled', 'Dog', 'remains', 'disrated', 'golden', 'injured', 'abstraction', 'troubledly', 'cried', 'GRAMPUS', 'quickest', 'unlacing', 'preaching', 'harm', 'depends', 'innocence', 'depth', 'tapping', 'superseded', 'comprehensiveness', 'arising', 'verse', 'thrills', 'postman', 'ay', 'olfactories', 'reservoirs', 'believer', 'diversion', 'upper', 'hug', 'Parallel', 'cobbling', 'highness', 'liabilities', 'mixes', 'coasting', 'conquest', 'traditional', 'warring', 'hoard', 'confining', 'invented', 'cherish', 'indigestion', 'speechlessly', 'snugly', 'accommodation', '64', 'bannisters', 'regions', 'overdone', 'fair', 'mouse', 'murderer', 'lancer', 'screaming', 'Hindoo', 'consideration', 'occurrence', 'bleaching', 'Charity', 'versa', 'OCTAVOES', 'Bench', 'Shut', 'unwinking', 'singular', 'capital', 'towed', \";--'\", 'AFTER', 'begat', 'flea', 'rituals', 'hilted', 'fathomless', 'goes', 'horseman', 'boasts', '88', 'becomes', 'overswarm', 'purposes', 'thee', 'OR', 'retaining', 'choking', 'pepper', 'grizzled', 'sufficiently', 'diver', 'operas', 'porches', 'unfearing', 'lasso', 'worshipper', 'Tolland', 'resulting', 'wrapall', 'collar', 'jogs', 'waiving', 'concreted', 'tug', 'determine', 'stammer', 'couch', 'result', 'acquiescence', 'broiling', 'denying', 'shaking', 'aptitudes', 'completion', 'scooped', 'Ay', 'canoe', 'pantaloons', 'Sikoke', 'thorough', 'circulates', 'weld', 'EMBONPOINT', 'throne', 'Inasmuch', 'adamite', 'contradiction', 'Mate', 'prying', 'prey', 'swift', 'castaways', 'sensibly', 'Outward', 'LOUNGING', 'unscientific', 'darkey', 'lightning', '1779', 'sulkies', 'Americas', 'Swaine', 'disagreeable', 'NATURALIST', 'fetching', 'eagle', 'fishermen', 'morsel', 'Beyond', 'sleights', 'WHALES', 'summits', 'Pray', 'Interweaving', 'studious', 'helter', 'Entering', 'noways', 'Windsor', 'labor', 'Specksioneer', 'grated', 'pop', 'infantileness', 'transcribe', 'Carrol', 'buoyancy', 'clam', 'sought', 'cheeks', 'dragged', 'COOK', 'bountiful', 'capstans', 'summoning', 'shudderings', 'paralysed', 'emprise', 'cane', 'manhood', 'abided', 'Zeuglodon', 'squattings', 'intricacies', 'obstinacy', 'attaching', 'liturgies', 'uninterrupted', 'inmost', 'conspicuous', 'Works', 'questioned', 'hamlets', 'forthwith', 'serving', 'cronies', 'tears', 'shrines', 'gurglings', 'long', 'scanned', 'herd', 'eloquent', 'grooves', 'jub', 'romantic', 'mizzen', 'begotten', 'afterwards', 'cavern', 'prepares', 'Dome', 'Hospital', 'JOURNAL', 'attendance', 'veracity', 'discipline', 'unsuppressable', 'residue', 'DUODECIMOES', 'SCHOUTEN', 'rebelled', 'apportioned', 'Whose', 'year', 'vindictively', 'boom', 'immediate', 'foundling', 'subsided', 'PRESSED', 'cockpits', 'hauling', 'ours', 'hereby', 'speculative', 'spectacles', 'piggin', 'Luff', 'sneaks', 'manoeuvres', 'sharpen', 'charnel', 'dew', 'Wet', 'check', 'horrified', 'serve', 'silly', 'Unfitness', 'tumultuously', 'uncorking', 'approaching', 'Up', 'Disdain', 'tossings', 'treatise', 'CONTESTED', 'sustenance', 'protuberance', 'loiters', 'retaken', 'remark', 'paused', 'fullers', 'Stubb', 'Folding', 'command', 'bubblingly', 'streets', 'hey', 'securely', 'worst', '66', 'jets', '\"', 'managing', 'what', 'tend', 'Through', 'squid', 'shed', 'redundant', 'paced', 'beware', 'strove', 'uncertain', 'favourites', 'lovely', 'aboriginally', 'standing', 'genteelly', 'somewhere', \":--'\", 'blanketing', 'appals', 'suppressed', 'opine', 'blaze', 'Flask', 'substantiate', 'sheath', 'son', 'TWICE', 'seated', 'secreted', 'foregoing', 'choose', 'directed', 'Railroads', 'singing', 'concert', 'meditative', 'infatuation', 'Greece', 'slightly', 'Invisible', 'attainable', 'gallopingly', 'laid', 'agent', 'playing', 'Corinthians', 'Bendigoes', 'spake', 'improvement', 'upheld', 'HAWTHORNE', 'vale', 'tin', 'Sovereign', 'cocoanut', 'GOETHE', 'transactions', 'straightway', 'fist', 'Lama', 'warfare', 'precaution', 'dispensed', 'Edmund', 'exasperating', 'reproach', 'tasseled', 'office', 'voyages', 'equalled', 'ranging', 'inflexible', 'stems', 'investing', 'creative', 'presiding', 'grandissimus', 'unwithdrawn', 'attuned', 'pursuers', 'warehouses', 'represent', 'wings', 'opposed', 'stand', 'unborrowed', 'accessible', 'Relieved', 'Bare', 'ANNALS', 'them', 'boasting', 'fantasy', 'contending', 'cavity', 'unsettled', 'visions', 'war', 'severe', 'Capes', 'maybe', 'Alone', 'planting', 'alike', 'deficiencies', 'estimation', 'vigorous', 'moles', 'mayst', 'systematically', 'clubs', 'intelligent', 'whetstone', 'groups', 'Abraham', 'possesses', 'preach', 'masculine', 'Earl', 'wafted', 'coasts', 'waste', 'Truly', 'fragmentary', 'multitudes', 'crumb', 'druggs', 'feeders', 'MANX', 'cordon', 'ate', 'forbearance', 'DARKENS', 'tradition', 'They', 'conducted', 'pennoned', 'responded', 'relations', 'knitted', 'draft', 'Froissart', 'walk', 'arrive', 'Slave', 'glorious', 'subsequently', 'bilious', 'glen', 'launch', 'livid', 'entailed', 'stamping', 'cow', 'needful', 'dividends', 'Fate', 'chase', 'remorse', 'barrow', 'permitting', 'page', 'spermy', 'stopped', 'Tails', 'ruins', 'Bedford', 'litigated', 'JEFFERSON', 'unexhausted', 'isolate', '1788', 'rejecting', 'Dart', 'bowels', 'explanatory', 'reverberations', 'ungentlemanly', 'experience', 'risen', 'alien', 'Trafalgar', 'enlarge', 'action', 'ceasing', 'relics', 'monotonously', 'Powers', 'exclaiming', 'overmanned', 'infinity', 'mummeries', 'Sahara', 'fronts', 'tickle', 'Heart', 'blemish', 'flask', 'walks', 'postpone', 'esteem', 'tower', 'sack', 'between', 'puts', 'spokes', 'obtruding', 'This', 'blackest', 'particles', 'flash', 'lustrous', 'repulses', 'borne', 'fleet', 'desperadoes', 'unobservant', 'coyings', 'befriending', 'much', 'Setting', 'Dash', 'Clootz', 'partaking', 'profitably', 'vitality', 'nourishment', 'CHAPTERS', 'paddling', 'hag', 'riots', 'impenetrable', 'daring', 'battering', 'slink', 'economically', 'Guido', 'madman', 'Passed', 'contributes', 'cash', 'quaffed', 'married', 'wrapped', 'Rome', 'raiment', 'steed', 'marched', 'Buckets', 'oscillates', 'waiter', 'punctual', 'forged', 'viciously', 'damped', 'bruise', '86', 'ton', 'secrets', 'limber', 'foe', 'bruised', 'Kremlin', 'magnifying', 'shoulder', 'chaos', 'Asia', 'cheering', 'colt', 'sharks', 'shank', 'lifted', 'fundamentals', 'backwardly', 'calomel', 'Mealy', 'showest', 'pre', 'requirest', 'scorch', 'militant', 'poisonous', 'Handling', 'provocation', 'rag', 'rain', 'cough', 'Englander', 'willing', 'utilities', 'outright', 'respectfully', 'jerkingly', 'disadvantage', 'sinning', 'maintains', 'Lank', 'children', 'sprung', 'turmoil', 'Spin', 'begrimed', 'drinks', 'scrabble', 'planets', 'gulping', 'Spaniards', 'coincident', 'acquired', 'Lord', 'verily', 'extremest', 'thankless', 'oversee', 'Lapland', 'Monsoons', 'Alexander', 'LAID', 'poop', 'scrupulously', 'tapers', 'lege', 'vultureism', 'knots', 'sum', 'MENDING', 'mouldings', 'Rondeletius', 'Bernard', 'queer', 'citron', 'cherrying', 'rarely', 'conveniences', 'uppermost', 'leader', 'purposely', 'designated', 'hardy', 'furnace', 'slight', 'inboard', 'Moving', 'thereabouts', 'halyards', 'Saladin', 'Boat', 'Earls', 'Something', 'allegory', 'guinea', 'superior', 'KEDGER', 'resuming', 'attract', 'drift', 'intensity', 'tack', 'afraid', 'lick', 'unset', 'Snatch', 'Birmah', 'peels', 'ungodly', 'bitts', 'funny', 'grub', 'cove', 'Nay', 'inflated', '36', 'hermits', 'pensive', 'pertinaciously', 'bore', 'crier', 'level', 'array', 'marvels', 'trances', 'trivial', 'immeasurable', 'reprehensible', 'Historically', 'Dry', 'Talus', 'suffering', 'Placing', 'Schoolmasters', 'feats', 'weary', 'ancientest', 'answered', 'caught', 'momentary', 'profitable', 'confluent', 'repeat', 'circus', 'penalties', 'outwardly', 'animating', 'pavement', 'figure', 'satiety', 'weave', 'Shadrach', 'Epitome', 'merging', 'autumn', 'wasps', 'off', 'reward', 'dames', 'venture', 'proudly', 'motive', 'abstinence', 'neutral', 'Greenland', 'multiply', 'certainly', 'SULPHUR', 'transit', 'Vermont', 'dazzlingly', 'libertines', 'petition', 'CHIEF', 'urging', 'bold', 'Table', 'punch', 'hardihood', 'shudder', 'twisk', 'Since', 'guilt', 'beholdest', 'feeble', 'subaltern', 'imagination', 'sadly', 'shark', 'pottery', 'bleakness', 'Quarter', 'petulance', 'flushed', 'ECKERMANN', 'tendinous', 'drew', 'utter', 'religious', 'stumped', 'poised', 'Nineveh', 'Flip', 'unsolicited', 'wheeling', 'whittling', 'Philippine', 'pomp', 'Massacre', 'league', 'trace', 'fated', 'helping', 'habituation', 'Virgo', 'refreshing', 'Victory', 'either', 'Cleopatra', 'Floundered', 'ensconced', 'transom', 'Brazil', 'forests', 'abiding', 'temptation', 'sed', 'mermaids', 'entirely', 'ramparts', 'opposing', 'blacks', 'THRUSTS', 'then', 'hardly', 'Step', 'thoughted', 'garter', 'withdraws', 'fingers', 'rulers', 'dusting', 'revelation', 'curve', 'occupies', 'leviathanic', 'overlap', 'cramped', 'nakedness', 'MIRABILIS', 'comedies', 'robe', 'infidelities', 'Navis', 'personified', 'Isthmus', 'pleasuring', 'infernally', 'disjointedly', 'block', 'unrecking', 'rifled', 'ticks', 'arrah', 'habitudes', 'bough', 'impatient', 'goose', 'Sebastian', 'growlingly', 'plane', 'entangle', 'leewardings', 'slacked', 'bayonet', 'overspread', 'battalions', 'deprecatory', 'controversies', 'lecherous', 'cohorts', 'undertake', 'breastband', 'Society', 'stirred', 'newspaper', 'character', 'know', 'sixth', 'Innkeeper', 'Arsacidean', 'nothing', 'admonitions', 'Hartz', 'mockingly', 'dropping', 'omens', 'handed', 'expanses', 'parted', 'buttoning', 'shoved', 'engineering', 'dispirited', 'Running', '105', 'SIZED', 'screen', 'grazing', 'unduly', 'keels', 'monsieurs', 'produces', 'represented', 'Grant', 'propellers', 'drizzly', 'apeak', 'herein', 'sage', 'conceit', 'indicated', 'bullets', 'conjoined', 'Funeral', 'wading', 'quarts', 'invisibly', 'kingdoms', 'unintermitted', 'quaked', 'Protestant', 'Madness', 'follow', 'Italian', 'anticipated', 'powders', 'grudge', 'Quohog', 'begun', 'suckled', 'Jeremy', 'sickness', 'protect', 'glanced', 'soldiers', 'lime', 'Commend', 'wildest', 'gifts', 'anathemas', 'bulk', 'Angels', 'corrupted', 'paralysis', 'premeditated', 'HORIZONTAL', 'Rousseau', 'we', 'SLEEP', 'Goethe', 'drat', 'SHE', 'aspirations', 'legged', 'fasten', 'blasphemous', 'manmaker', 'parched', 'elbow', 'examining', 'pit', 'yawed', 'secretly', 'particularly', 'rugged', 'fastidious', 'unfriendly', 'overture', 'Guernseyman', 'mobbing', 'languor', 'experienced', 'Securing', 'grazed', 'hypothesis', 'sapling', 'Egypt', 'aught', 'peremptorily', 'con', 'eddy', 'Run', 'latent', 'sideway', 'aggrieved', 'gun', 'boasted', 'poising', 'uninjurable', 'alive', 'BLOWS', 'REVENGE', 'abominate', 'expanded', 'woe', 'swum', 'him', 'trip', 'inaudible', 'riotously', 'fortifications', 'Fuego', 'breakfast', 'Three', 'hies', 'kneel', 'jocularly', 'painters', 'Cash', 'arriving', 'Enveloped', 'maltreated', 'length', 'Truth', 'expandingly', 'thought', 'necessitates', 'TEN', 'Dunfermline', 'Ocean', 'baptismal', 'facilitating', 'decorated', 'suspicion', 'legendary', 'appointments', 'Dutchman', 'clutches', 'dissolved', 'outlandish', 'astrological', 'northward', 'pregnant', 'crazy', 'manifestation', 'Syracuse', 'butterflies', 'Annawon', 'Crowding', 'unalloyed', 'bucklers', 'vacant', 'baboon', 'Providence', 'rimmed', 'spring', 'intellect', 'does', 'comrades', 'motionlessly', 'calms', 'snug', 'rival', 'EYES', 'raked', 'perceive', '1st', 'debtor', 'resolved', 'furniture', 'delusions', 'unfavourable', 'consequent', 'Spain', 'SMITH', 'bodiless', 'unretracing', 'befallen', 'wisdom', 'impregnable', 'scheming', 'chiselled', 'Daboll', 'Speak', 'subordinates', 'presents', 'wearisome', 'IT', 'whisperingly', 'serpent', 'TRIUMPH', 'repetitions', 'locks', 'road', 'Pale', 'Improving', 'entertaining', 'connection', 'results', 'dismasted', 'Yorkshire', 'nervously', 'at', 'indifference', 'Tomahawk', 'Attached', 'Spring', 'abundant', 'disdain', 'ME', 'Arrived', 'cupbearers', 'clapped', 'double', 'wigwams', 'turning', 'detract', 'wallowing', 'deceive', 'remembrances', 'display', 'adding', 'exhausted', 'committed', 'crookedly', 'force', 'spades', 'Oceanica', 'mothers', 'forecastles', 'wills', 'city', 'flailing', 'slashing', 'eludes', 'Uppermost', 'frosts', 'unmindful', 'rows', 'glim', 'embattled', 'Tut', 'strongly', 'machinery', 'select', 'overdoing', 'aghast', 'perishing', 'measure', 'Adverse', 'twinkling', '1791', 'declare', 'DICTIONARY', 'Hampshire', 'willed', 'enjoyments', 'baton', 'brought', 'centipede', 'untold', 'dat', 'unresting', 'Monstrous', 'Pegu', 'interflowing', 'consequently', 'pity', 'simplest', 'AS', 'Amsterdam', 'spectrally', 'Cruppered', 'toiled', 'forth', 'proportion', 'yokes', 'provinces', 'excavating', 'emerged', 'warping', 'suburban', 'securities', 'bleed', 'VEIN', 'sconces', 'signifying', 'mallet', 'ugly', 'reaches', 'saint', 'transferringly', 'Postscript', 'timidity', 'thickets', 'authority', 'waited', 'stem', 'Essex', 'swashing', 'twigging', 'combed', 'consecrated', 'anticipative', 'magnificence', 'marked', 'Del', 'ebb', 'obsequious', 'triumphs', 'stick', 'Good', 'Canterbury', 'unsightly', 'us', 'slipped', 'hemlock', 'Hurriedly', 'screws', 'yelled', 'Friar', 'lord', 'Sabbath', 'III', 'HAND', 'chewing', 'Lowering', 'greeted', 'strawberries', 'intellects', 'combat', 'envoy', 'fitness', 'prophesies', 'madden', 'passports', 'Tish', 'limits', 'BELOW', 'PARADISE', 'presentiments', 'fins', 'withdrawals', 'deal', 'riddles', 'dares', 'Bless', 'righted', 'signing', 'treacheries', 'Rensselaers', 'unassailable', 'advent', 'meditation', 'run', 'leaping', 'halters', 'withstand', 'drawled', 'loveliness', 'dress', 'solicitously', 'Coleman', 'enraged', 'branches', 'senses', 'crape', 'certainties', 'Anvil', 'intact', 'go', 'gesture', 'Sheffield', 'meads', 'information', 'entitle', 'Espying', 'pursuit', 'room', 'stockinged', 'meanwhile', 'Rocky', 'reelingly', 'Shakers', 'mastership', 'regulating', 'kicks', 'Wondrous', 'LARGE', 'extension', 'brigger', 'veneration', 'hastening', 'Clam', 'sinecure', 'cabins', 'monied', 'ruminated', 'lights', 'concluded', 'contributed', 'clutching', 'spontaneous', 'jogged', 'aesthetically', 'direst', 'diddled', 'undergraduate', 'dazzling', 'Sing', 'spoil', 'Possibly', 'weathers', 'solitaries', 'Persian', 'alcoves', 'vanquished', 'thwack', 'leopard', '1850', 'dabs', 'churning', 'magnetic', 'Hat', 'serfs', 'wondering', 'coffin', 'scenes', 'cope', 'compass', 'PILGRIM', 'bamboo', 'preserve', 'Tying', 'blame', 'flexibility', 'neck', 'Herschel', 'listening', 'wrapper', 'APPROACHING', 'sportively', 'innocent', 'Perhaps', 'Aside', 'THOMAS', 'mindedness', 'philosophers', 'irons', 'Dismal', 'bath', 'faithfulness', 'gaunt', 'Englishmen', 'pistol', 'handedly', 'clamped', 'carpets', 'spice', 'fatherless', 'lengthen', 'incline', 'mat', 'weight', 'mountaineers', 'magnets', 'securing', 'outfit', 'mended', 'nearest', 'hurt', 'woven', 'badger', 'SPLICE', '133', 'seven', 'starred', 'ripple', 'socket', 'hints', 'ball', 'symmetry', 'edged', 'Adios', 'lest', 'weapons', 'clothed', 'mirrors', 'inveteracy', 'Fellow', 'progress', 'appeals', 'abundantly', 'charges', 'broke', 'ROLL', 'greenness', 'boil', 'predestinating', 'shuddered', 'service', 'unlimbed', 'symbolizings', 'adequate', 'wild', 'establishment', 'sin', 'measured', 'pate', 'ghost', 'glistened', 'hilarious', 'establishing', 'key', 'now', 'fortunately', 'jagged', 'well', 'trunk', 'irrational', 'scarry', 'spade', 'furls', 'goggling', 'Lima', 'plucked', 'desolateness', 'highest', 'Gods', 'chuckled', 'dealers', 'DAVENANT', 'detestable', 'pegging', '5TH', 'swells', 'dignity', 'sweetest', 'yoking', 'fleece', 'radiant', 'outskirts', 'correspond', 'Other', 'dangling', 'wondrousness', 'Blind', 'Humane', 'Log', 'enlivened', 'creeps', 'subtle', 'mourning', 'Canaris', ':', 'acuteness', 'precedes', 'plums', 'mumblings', 'smackingly', 'schoolboys', 'tranquil', 'previous', 'extant', 'trenchers', 'underlings', 'was', 'cultured', 'familiar', 'Johnny', 'ponderous', 'evoke', 'clanking', 'Cetology', 'darker', 'jammed', 'feverish', 'cascade', 'molesting', 'fetched', 'paregoric', 'kept', 'freed', 'genera', 'ventured', 'today', 'lashless', 'steal', 'mightiest', 'Gam', 'unsourced', 'Orion', 'perilously', 'silent', '180', 'Silently', 'untattooed', 'swept', 'alights', 'needing', 'Gaining', 'thrusting', 'credulities', 'deadliness', 'concentrations', 'WAS', 'Campagna', 'incapacitated', 'caves', 'calculation', 'unaccountable', 'impregnated', 'HEARS', 'celebration', 'cat', 'changed', 'distinctions', 'admiral', 'drenching', 'reasonableness', 'overlooked', 'hurtling', 'archiepiscopacy', 'invocations', 'venison', 'felt', 'group', 'recovers', 'spacious', 'squall', 'fray', '125', '.*', 'piratical', 'circulating', 'Azores', 'AFRICA', 'ensue', 'Isles', 'worships', 'prison', 'Michigan', 'spliced', 'maine', 'dearest', 'pinioned', 'Indiamen', 'Brighggians', 'Fishiest', 'jeopardized', 'inducements', 'loosening', 'females', 'modified', 'draw', 'Try', 'representing', 'uncontinented', 'limestone', 'department', 'respires', 'fetches', 'Hyena', 'dan', 'hawsers', 'Loom', 'indignations', 'enduring', 'Aloft', 'Voyages', 'harvesting', 'disputing', 'rickety', 'assured', 'canals', 'tierce', 'brewed', 'Negro', 'Caught', 'Loomings', 'distrusted', 'eventual', 'candelabra', 'twist', 'Inferable', 'eloquently', 'Easy', '144', 'impetuousness', 'depths', 'risks', \"!--'\", 'Fiercely', 'fishes', 'than', 'translation', 'meetings', 'humph', 'SURVIVORS', 'crimsoned', 'butcher', 'Authors', 'fabulous', 'Andrew', 'blocks', 'heavers', 'premonitory', 'tearingly', 'foal', 'property', 'manhandle', 'omnivorous', 'saving', 'caking', 'nipper', 'victor', 'inuendoes', 'grandest', 'rebelling', 'torn', 'MALTESE', 'sidelong', 'grimly', 'emphasis', 'unwarrantably', 'choice', 'Scriptural', 'contradict', 'reg', 'DANCING', 'chimney', 'cavities', 'glances', 'practices', 'difficulty', 'amazingly', 'forlorn', 'For', 'purposeless', 'demand', 'Northern', 'respectful', 'distortions', 'dandy', 'uneasiness', 'chick', 'devotee', 'verdure', 'exploit', 'sordid', 'cowards', 'eels', 'unstaked', 'external', 'courageous', 'cutlets', 'burly', 'INTO', 'wolfish', 'tink', 'beef', 'adoration', 'vision', 'entitled', 'face', 'underling', 'planted', 'ministry', 'slobgollion', 'spectralness', 'punches', 'cousin', 'Mat', 'unprincipled', 'aboard', 'desired', 'wavingly', 'unnecessary', 'Versailles', 'nature', 'gashed', 'suspense', 'pallor', 'second', 'WHALE', 'ELECTION', 'Koo', 'contemporary', 'swear', 'cholera', 'crushed', 'rider', 'decipher', 'caddy', 'exclamation', 'clothe', 'Opposite', 'CLOSES', 'luckily', 'patris', 'appetites', 'mingling', 'SOMEWHERE', '43', 'analyse', 'howling', 'mulberries', 'numbness', 'Nun', 'east', 'Peace', 'conducting', 'snake', 'notoriety', '91', 'Gibraltar', 'unfrequently', 'bejuggled', 'Blue', 'edition', 'Congregational', 'easterly', 'Poland', 'creating', 'wondered', 'bung', 'Lais', 'talking', 'fiddle', 'invested', 'smacks', 'dreaded', 'shyness', 'mortalities', 'enormous', 'topple', 'patted', 'mateship', 'giving', 'thanks', 'foundering', 'valise', 'vernacular', 'chronicled', 'flipped', 'air', 'BELFAST', 'pluck', 'DAGGOO', 'dexterities', 'naval', 'dungeoned', 'fading', 'idle', 'freshly', 'devilish', 'lucky', 'cringing', 'Fedallah', 'arts', 'pertained', 'backs', 'queen', 'harder', 'selecting', 'omnipresence', 'noses', 'sudden', 'unmeasured', 'commence', 'scuppers', 'colour', 'firmness', 'picked', 'states', 'plaything', 'hiding', 'ere', 'Geneva', 'Sag', 'amphibious', 'fixedly', 'spires', 'Winding', 'canvas', 'chalices', 'warbled', 'slate', 'bouncing', 'thriving', 'lounging', 'foremast', 'incredulous', 'fought', 'sunniest', 'preparation', 'Phaedon', 'Erroneous', 'Vishnu', 'clanged', 'blinded', 'Cloud', 'Before', 'Webster', 'writers', 'Bashee', 'PROGRESS', 'reddish', 'gloating', 'monitions', 'cabled', 'knobbed', 'past', 'tier', 'serves', 'bites', 'kick', 'auspices', 'insist', 'My', 'bitterest', 'clap', 'tea', 'Woebegone', 'integrity', 'refuge', 'apparently', 'eider', 'fitful', 'thither', 'nill', 'fringing', 'Banks', 'requiring', 'metaphysical', 'fossiliferous', 'Think', 'cowardly', 'glimpses', 'gentlemanlike', 'feud', 'sings', 'brood', 'Upper', 'message', 'submits', 'workmanlike', 'Lesson', 'intemperately', 'judgment', 'sweep', 'pitchpoling', 'flag', 'Woe', 'RICHARDSON', 'intervene', 'Flounders', 'unbiased', 'trebly', 'cellar', 'praying', 'poem', 'sinker', 'separating', 'CHEERLY', 'leap', 'wary', 'stupor', 'left', 'On', 'cabalistics', 'Bite', 'surplus', 'flourish', 'XVI', 'heightens', 'skip', 'WALTER', 'abominated', 'systematic', 'deemed', 'fanning', 'Boston', 'Horn', 'deserving', 'SWEDISH', 'Titanism', 'persisting', 'merchants', 'perched', 'anon', 'unmanifested', 'placid', 'reflected', '131', 'jingling', 'surcoat', 'sailmakers', 'subjected', 'wager', 'lanterns', 'social', 'SOUTH', 'speckled', 'Bremen', 'lettered', 'gloomy', 'cobweb', 'instantaneously', 'uttermost', 'STATES', 'preternaturalness', 'mixing', 'remarking', 'bully', 'styled', 'identity', 'divineness', 'Traitors', 'desire', 'twenty', 'Sleeping', 'yellow', 'narrations', 'expertness', 'Asphaltites', 'vagrant', 'objectionable', 'sheeted', 'Town', 'bulks', 'goods', 'impelled', 'Socratic', 'daintiest', 'sheet', 'hovered', 'Himmalehs', 'awarded', 'African', 'planet', 'continuously', 'refrained', 'placidly', 'wandering', 'unsafe', 'whether', 'feelingly', 'mercifully', 'poets', 'Forty', 'Sleet', 'sayest', 'perpetuated', 'somewhat', 'haply', 'has', 'distinguish', 'ancestry', 'Hail', 'composing', 'finish', 'maw', 'fright', 'speed', 'Into', 'warriors', 'Am', 'jugglers', 'coffins', 'Isolatoes', 'throbbings', 'ignite', 'typhoon', 'shivers', 'slewed', 'gases', 'brushwood', 'desperado', 'dreamt', 'souls', 'villainous', 'wooded', 'drag', 'skrimmage', 'leaks', 'Hill', 'discharges', 'looming', 'fishing', 'Harry', 'Fishes', 'authenticated', 'arrested', 'peculiar', 'lurches', 'Manhattoes', 'evaporates', 'immortal', 'Strength', 'repartees', 'tenderly', 'pens', 'DO', 'compiled', 'Hydrus', 'claw', 'parallel', 'fort', '82', 'plummet', 'LEG', 'advances', 'Ledyard', 'HACKLUYT', 'looking', 'economic', 'detail', 'snatched', 'constantly', 'instantaneous', 'Stars', 'exhaustive', 'assailed', 'class', 'Samson', 'beggar', 'humped', 'Peterson', 'pleasantly', 'noblemen', 'imports', 'sinister', 'silences', 'spike', 'Ere', 'warmly', 'widest', 'medicine', 'Bull', 'jubilations', 'waters', 'Befooled', 'notorious', 'exhibit', 'latest', 'kine', 'fuss', 'flap', '.\\'\"', 'Crack', 'Antiochus', 'unchristian', 'mouthfuls', 'spreading', 'Pizarro', 'heaving', 'recoil', 'shut', 'worthy', 'tutored', 'forbid', 'Thirdly', 'harpoons', 'dowers', 'jav', 'regularity', 'birds', 'antiquities', 'turns', 'recorded', 'Picture', 'Don', 'Kings', 'grow', 'GO', 'multitudinous', 'warn', 'fatness', 'another', 'skirted', 'circumnavigated', 'satisfactory', 'necklace', 'inventor', 'meadow', 'ages', 'cosy', 'Paean', 'Mysteriously', 'floats', 'wash', 'Ark', 'hole', 'May', 'swelled', 'discernment', 'LETTER', 'BREAKERS', 'strangeness', 'wearing', 'structures', 'bearing', 'sun', 'treacherous', 'havoc', 'Inlanders', 'joosy', 'mainmast', 'jellied', 'assistance', 'Scorning', 'cards', 'blusterer', 'scratches', 'ablutions', 'restrain', 'majority', 'circumventing', 'Crammer', 'Simoon', 'gamming', 'jobs', 'induce', 'line', 'poncho', '--\"', 'rank', 'spar', 'ditchers', 'rushing', 'dreamiest', 'tragedies', 'hopeless', 'planisphere', 'aloof', 'pitchers', 'sweepers', 'leaned', 'clearly', 'antagonistic', 'ingenious', 'ultimate', 'bone', 'poles', 'untainted', 'unofficially', 'MOVES', 'peaks', 'oftentimes', 'isles', 'cursorily', 'gulf', 'brave', 'phantom', 'coerced', 'Can', 'tipped', 'Octavo', 'ob', 'tendons', 'sailings', 'flooded', 'broom', 'cluster', 'dandies', 'bawling', 'Ixion', 'Cinque', 'shilling', 'rouses', 'needlessly', 'birth', 'extraordinary', 'dwells', 'sheer', 'UNO', 'coating', 'commanded', 'Commonwealth', 'horrors', 'battles', 'November', 'Red', 'mastery', 'jurisprudence', 'arbours', 'brokenly', 'GOOD', 'stirrings', 'gulped', 'ah', 'entering', 'plainly', '!\"', 'scrutinized', 'Hitherto', 'overwrapped', 'concentred', 'Plowdon', 'Chilian', 'ordered', 'buttons', 'detained', 'forewarnings', 'muttered', 'generic', 'reap', 'quarantine', 'fill', 'bipeds', 'enter', 'achieved', 'bad', 'feathering', 'bolting', 'frustrate', 'MEMORY', 'interesting', 'poked', 'unexempt', 'courtesy', 'dig', 'streamed', 'windlass', 'backward', 'Musket', 'soladoes', 'exceeded', 'atom', 'show', 'turtles', 'wheeled', 'dissociated', 'thereby', 'himself', 'tinge', 'seems', 'sequential', 'wavings', 'ravening', 'collegians', 'authentic', 'docile', 'legitimately', 'Clearing', 'eagerly', 'Nose', 'unentered', 'Callao', 'Gothic', 'companionway', 'trunks', 'conceptions', 'spose', 'dismasting', 'Dinting', 'countries', 'Blocksburg', 'houseless', 'regularly', 'boarding', 'unwedded', 'AND', 'prior', 'unforseen', 'reefed', 'angrily', 'enhance', 'Ram', 'Better', 'larboard', 'wrapt', 'swarming', 'piles', 'besides', 'suitable', 'bashful', 'laceration', 'lend', 'unscrew', 'anger', 'fears', 'ply', 'unwittingly', 'coolness', 'ploughing', 'travel', 'unprofessional', 'insane', 'swordsman', 'homewardbound', 'Imprimis', 'assigns', 'leavings', '97', 'TOOLS', 'denizens', 'exasperate', 'danced', 'forks', 'digesting', 'SENTENCE', 'beverage', 'hawk', 'curious', 'fortress', 'CLEAN', 'peg', 'pillar', 'SKRIMSHANDER', 'Delightful', 'Subtilize', 'threat', 'masted', 'sharing', 'remonstrances', 'ulcerous', 'Caesarian', '?--\"', 'routed', 'poring', 'determination', 'Equator', 'mammis', 'tools', 'join', 'reproachfully', 'slighter', 'pipes', 'uncle', 'uttons', 'chased', 'DEVIL', 'lulls', 'breeching', 'herself', 'Icy', 'storms', 'emigrant', 'justification', 'DON', 'Prairie', 'incidentally', 'wallows', 'beckoned', 'contents', 'vigilant', 'unrivalled', 'twilights', 'memory', 'kills', 'privateers', 'batten', 'Blanche', 'gaudiest', 'thinnest', 'jabbering', 'immaterial', 'Aboard', 'Sword', 'couriers', 'bargain', 'frighten', 'owner', 'whoop', 'Germain', 'GATHERED', 'archangelic', 'caved', 'natured', 'incorruption', 'galley', 'deaf', 'murky', 'adapted', 'Maelstrom', 'flourishings', 'sir', 'suspicions', 'species', 'sliding', 'frequently', 'exploding', 'steered', 'silvery', 'unpanelled', 'protruded', 'turtle', 'germs', 'skeletons', 'Thanks', 'crab', 'Surely', 'CHORUS', 'Solander', 'hats', 'feared', 'Didst', 'nooses', 'liver', 'communities', 'muscles', 'wails', 'task', 'Pitferren', 'interlacings', 'ploughed', 'climates', 'AMERICA', 'recurred', 'lament', 'RISES', 'barbacued', 'diademed', 'appreciative', 'These', 'plenty', 'stir', 'foetal', 'Oriental', 'feathers', 'slice', 'athirst', 'scroll', 'change', 'gor', 'Tekel', 'doors', 'intervened', 'crowd', 'rights', 'ark', 'giddily', 'rattling', 'formless', 'emblazonings', 'countenance', 'still', 'L150', 'skeleton', 'feebler', 'Hither', 'Straits', 'wretched', 'overburdening', 'mystically', 'imperceptible', 'Judith', 'whitenesses', 'hesitatingly', 'pert', 'tatters', 'clanging', 'burnished', 'pierce', 'rummaged', 'degrees', 'household', 'subdued', 'recently', 'tumbled', 'counsellors', 'Colossus', 'Testament', 'whereof', 'corners', 'indecorous', 'Fernandes', 'CAULKING', 'doctored', 'remote', 'theology', 'ajar', 'candies', 'hasn', 'Astronomy', 'age', 'cetology', 'pain', 'welded', 'largely', 'weighed', 'Steed', 'trending', 'landscape', 'audacious', 'useless', 'scarcity', 'Ha', 'gam', 'lately', 'recovered', 'prolonged', 'concurred', 'scraped', 'Out', 'Life', 'NUEE', 'fowls', 'threadbare', 'lengthened', 'specimen', 'planned', 'boughs', 'holiday', 'icicle', 'focus', 'Champagne', 'Ahabs', 'breezing', 'biscuit', 'sports', 'maternal', 'Throttling', 'Titanic', 'casked', 'reliably', 'glazier', 'fettered', 'unbroken', 'drunkard', 'handful', 'cabinets', 'tidiness', 'dotted', 'ache', 'Erie', 'demonstrable', 'undecayed', 'leathern', 'questionably', 'punish', 'Mixed', 'termination', 'spurrings', 'particular', 'shocks', 'alas', 'pin', 'injustice', 'eavesdroppers', 'oughts', 'cherishing', 'sublimer', 'hempen', 'Turkish', 'spherical', 'metaphysically', 'recovery', 'possessed', 'NARRATIVE', 'riggers', 'ails', 'wrung', 'troops', 'untouchable', 'cougar', 'affectionately', 'occurred', 'doxology', 'aggregate', 'experiences', 'dimly', 'extent', 'critters', 'unstaggering', 'THRASHER', 'bay', 'unreliable', 'grating', 'daybreak', 'Manillas', 'elevations', 'invited', 'travels', 'Comparing', 'nine', 'southwards', 'invasion', 'muskiness', 'manes', 'laudanum', 'Mr', 'sounds', 'publisher', 'churchyard', 'count', 'Fine', 'poniard', 'reversing', 'samphire', 'sadder', 'bedfellows', 'ventricles', 'exercise', 'Lost', 'resemble', 'Tahiti', 'manifest', 'conclude', 'substituting', 'pestiferously', 'Abominable', 'ain', 'unharmed', 'proverbially', 'Signs', 'shy', 'impartial', 'determinate', 'finer', 'unflinching', 'illustrates', 'thrill', 'deposited', 'drops', 'inquiringly', 'nonsense', 'smack', 'fiend', 'RECLINING', 'stumble', 'eats', 'goats', 'scepticism', 'MISSIONARY', 'demonisms', 'whit', 'Andes', 'blister', 'dignified', 'voided', 'LIGHTNING', 'musical', 'Any', 'guilty', 'GREENLAND', 'Ever', 'disdained', 'vain', 'Hecla', 'Tamerlane', 'porpoises', 'masonry', 'Bourbons', 'obedient', 'cushioned', 'flower', 'cozening', 'narwhales', 'exclaimed', 'Armada', 'buries', 'chested', 'follows', 'Kant', 'crisis', 'demonstrations', 'proclamation', 'everlastingly', 'spotted', 'plaintively', 'purplish', 'Dish', 'Gomorrah', 'fanatics', 'stained', 'aged', 'provincial', 'ensigns', 'encompassed', 'bar', 'breathest', 'bench', 'castor', 'skulking', 'were', 'warmed', 'possession', 'I', 'incorrigible', 'insanity', 'tigress', 'counterfeit', 'lens', 'rakes', 'Were', 'tilted', 'cartridge', 'knobs', 'HIM', 'confines', 'universality', 'conclusion', 'India', 'damp', 'compassion', 'DAM', 'modelled', 'deftly', 'shortest', 'refusing', 'swagger', 'accordance', 'transcendental', 'kindly', 'fee', 'hugely', 'despite', 'dreary', 'chin', 'indispensableness', 'missing', 'weaving', 'inns', 'God', 'factories', 'magnified', 'swimmer', 'tambourine', 'understandings', 'pieces', 'Cain', 'sentry', 'mounts', 'overtakes', 'appear', 'Deer', 'always', '38', 'uninterpenetratingly', 'Next', 'pilgrims', 'MINISTER', 'rat', 'scolloped', 'pained', 'refuses', 'volition', 'organs', 'tying', 'irresponsible', 'disquietude', 'survive', 'Blacksmith', 'tetering', 'tempering', 'welding', 'gesticulated', 'belly', 'but', 'dried', 'cleat', '-', 'thinness', 'rheumatic', 'segment', 'valuable', 'unintegral', 'braver', 'ge', 'bandages', 'M', 'carted', 'researches', 'blasts', 'UPON', 'vomited', 'reprimand', 'fin', 'jewelled', 'soliloquizing', 'bade', 'MOVING', 'warm', 'desirous', 'required', 'seeing', 'saucers', 'reach', 'prostration', 'BEALE', 'convinced', 'paid', 'inculcating', 'extremes', 'warrantry', 'lusty', 'liars', 'embarrassed', 'WILLIAM', 'Carthage', 'shouldering', 'serpentine', 'Anatomist', 'arisen', 'closer', 'dexterity', 'tarpaulins', 'Vineyard', 'expansiveness', 'corroborative', 'commenting', 'papered', 'fusee', 'Conversation', 'Cross', 'Pass', 'minded', 'flaked', 'FILING', 'insulting', 'You', 'endlessly', 'embellished', 'shot', 'FROCK', 'Gently', 'superadd', 'wearer', 'numerous', 'corroded', 'Requiem', 'primary', 'employed', 'menaced', 'shrieks', 'apparel', '41', 'spirits', 'spermaceti', 'Abashed', 'Jonah', 'FLASHES', 'decoction', 'Lay', 'Jungfrau', 'consume', 'glens', 'Niagara', 'sticks', 'nonplussed', 'pedestrian', 'Tyre', 'unsay', 'students', 'tideless', 'circles', 'mutineers', 'artists', 'Middle', 'lotion', 'soft', 'holiness', 'lulled', 'shutters', 'tissues', 'morass', 'abating', 'marvellous', 'disease', 'purely', 'curiosity', 'ravines', 'leaves', 'fail', 'clime', 'provident', 'southerly', 'replenished', 'antediluvian', 'internationally', 'ambergris', 'Falsehood', 'offices', 'Whisper', 'flanked', 'saddest', 'partiality', 'Harto', 'Feegee', 'hollow', 'departments', 'male', 'Pompey', 'densely', 'ended', 'imperiously', 'plains', 'pillars', 'communicated', 'hoop', 'contrived', 'somnambulistic', 'landlady', 'bloodshed', 'dislocated', 'owns', 'subtlest', 'performance', 'tarpaulin', 'signification', 'pitcher', 'dramatist', 'footstep', 'miseries', 'HENRY', 'confused', 'OTHER', 'riotous', 'CROW', 'Scroll', 'vainly', 'hearties', 'deliverance', 'STATE', 'Emperor', 'Almanack', 'curtains', 'tension', 'Amittai', 'ISHMAEL', 'undulates', 'commissioned', 'pallidness', 'folly', 'sounded', 'gazes', 'foam', 'desiring', 'Work', 'deliriously', 'rearing', 'elongated', 'Marking', 'sprinkled', 'drank', 'insufferable', 'knit', 'destruction', 'minutes', 'pedlar', 'jackets', 'point', 'heedfulness', 'heading', 'love', 'upheaving', 'BANKS', 'knightly', 'fresh', '77', 'sharp', 'transfix', 'night', 'imps', 'Park', 'improbable', 'overgrowing', 'Tun', 'Finally', 'add', 'accustomed', 'Mogul', 'abhorrence', 'slappin', 'sect', 'incognita', 'ambiguous', 'cabalistically', 'holy', 'rafts', 'pea', 'headsmen', 'slouching', 'Floating', 'Labor', 'tumbling', 'comparative', 'ghastliness', 'untimely', 'plant', 'adult', 'hunks', 'examined', 'archaeological', 'pains', 'trustworthy', 'Cockatoo', 'pout', 'hostile', 'methodization', 'cupidity', 'executed', 'comb', 'unsuspected', 'bisons', 'senate', 'abandoned', 'Hang', 'CHARLES', 'tinkerings', 'Jebb', 'Ferdinando', 'pyramids', 'supremacy', 'shakes', 'outset', 'disparagement', 'passage', 'Anne', 'summoned', 'Mind', 'THEM', 'soonest', 'fat', 'clews', 'crush', 'MCCULLOCH', 'cloves', 'sometimes', 'chastisements', 'seethe', 'MORE', 'stark', 'ren', 'Real', 'nursery', 'nurtured', 'metropolis', 'exacted', 'Fata', 'Cetacean', 'concussion', 'forbidden', 'attaining', 'mouths', 'Sibbald', 'joins', 'Carey', 'ostentatiously', 'Kedron', 'scrolled', 'planed', 'clout', 'sentinelled', 'snatches', 'deed', 'procession', 'WALW', 'glows', 'infatuated', 'mean', 'Ohio', 'Men', 'youthful', 'sighted', 'circling', 'citation', 'savory', 'minus', 'break', 'pitted', 'Roar', 'joker', 'dint', 'fetch', 'ONLY', 'Akin', 'contraband', 'naturalist', 'Herein', 'legislative', 'Swimming', 'plump', 'demon', 'basis', 'expound', 'Erromanggoans', 'skull', 'embalmed', 'ungainly', 'trysail', 'DESTROYED', 'AHAB', 'utilitarian', 'creeds', 'shifted', 'felonious', 'mangrove', 'grateful', 'flowed', 'Wrinkled', 'demselves', 'differences', 'wrestling', 'habitatory', 'wail', 'blandishments', 'grove', 'pondered', 'done', 'fiftieth', 'schooners', 'BOTTOM', 'smitten', 'plaited', 'linear', 'hung', 'vortex', 'whipped', 'Romans', 'court', 'cloudy', 'mutely', 'SACRED', 'cells', 'directly', 'sofas', 'Leicester', 'MAINMAST', 'incompetency', 'intelligently', 'Sam', 'decanters', 'sunset', 'reefing', 'cheerful', 'unbegotten', 'bantam', 'skulls', 'sheathing', 'lighthouse', 'Faintly', 'inequality', 'glories', 'fast', 'scrubbed', 'sooty', 'specific', 'HORRID', 'Spinoza', 'sulphur', 'awful', 'Two', 'unrigged', 'auxiliary', 'confession', 'continue', 'bathe', 'nasty', 'armed', 'draughts', 'glasses', 'EDMUND', 'concernment', 'gag', 'vestibule', 'Shiver', 'Dinner', 'pledge', '26', 'frequency', 'William', 'hemisphere', 'joists', 'bent', 'Rodmond', 'Seeing', 'blunder', 'bubbles', 'descending', 'prevent', 'balmed', 'moment', 'imaginary', 'heaps', 'swore', 'pear', 'the', 'impious', 'uneventfulness', 'Trumpa', 'Canals', 'Least', '--\\'\"', 'enveloping', 'familiarly', 'departed', 'smoke', 'enabled', 'unsheathes', 'ewer', 'Sachem', 'justly', 'WAL', 'erring', 'mummies', 'impairing', 'slew', 'excellent', 'ruin', 'prophecy', 'downward', 'Instances', 'stooped', 'thinking', 'overwhelming', 'WEBSTER', 'frontiers', 'crammed', 'Yarman', 'Desecrated', 'forecast', 'tomorrow', 'plate', 'strictest', 'inactive', 'disable', 'MARBLE', 'disposing', 'pods', 'lowly', 'sinful', 'dearly', 'Slope', 'BOAT', 'vicar', 'colours', 'jeopardize', 'clouds', 'At', 'immitigable', 'Wild', 'heaped', 'IAN', 'renown', 'companionable', 'recognition', 'awaken', 'SULKY', 'fragrance', 'convince', 'Seek', 'poetic', 'nightfall', 'swim', 'adieux', 'ants', 'aorta', 'lantern', 'sown', 'Hereby', 'commanding', 'curvicues', 'promised', 'egress', 'overhead', 'Strictly', 'SHOALS', 'picturesquely', 'hammering', 'evaporate', 'idealized', 'unsubstantial', 'learnt', 'grindstone', 'LUCIAN', 'unsuspecting', 'Chili', 'marching', 'Pip', '35', 'truthfully', 'abatement', 'springing', 'Form', 'quadruped', 'resolution', 'underground', 'shunning', 'crown', 'taken', 'noble', 'abeam', 'succeed', 'case', '65', 'additional', 'nobly', 'eluded', 'cake', 'spirit', 'oarsman', 'shaggy', 'reason', 'Cruelty', 'scolding', 'explored', 'COMES', 'united', 'looks', 'onset', 'heads', 'dived', 'overtaking', 'probed', 'hunting', 'foible', 'buckskin', 'Merchant', 'dimensioned', 'chips', 'your', 'lift', 'babies', 'pirates', 'preciousness', 'unspeakably', 'blast', 'crags', 'thickens', 'succourless', 'serried', 'rumpled', 'Burst', 'importing', 'specimens', 'smacking', 'Physeter', '1842', 'Frederick', 'halting', 'light', 'acquiesced', 'evolutions', 'jaw', 'connect', 'unflattering', 'sharper', 'bravadoes', 'ROSS', 'HEAD', 'Tail', 'canting', 'longings', 'Pandects', 'availle', 'Either', 'innermost', 'searching', 'personal', 'sleepiest', 'menial', '112', 'passages', 'side', 'unhealing', 'casting', 'PADS', 'seek', 'counterpane', 'Wretched', 'deformities', 'te', 'angels', 'geometry', 'monstrousest', 'Do', 'pills', 'MUTINEER', 'SUMMER', 'spiralling', 'cuttle', 'lurking', 'Lying', 'seas', 'episode', 'authorities', 'coiling', 'deaths', 'Commons', 'Tunnels', 'Marine', 'unprofitable', 'heedlessly', 'Antony', 'likewise', 'feather', 'reasonable', 'lungless', 'lightens', 'tolerable', 'sunlight', 'compacted', 'employs', 'Lionel', 'clingings', 'Hebrew', 'sensations', 'systemized', 'investiture', 'threshold', 'snarls', 'survival', 'Jerk', 'sill', 'numbers', 'sawed', 'topmaul', 'halibut', 'Teneriffe', 'experimental', 'Priest', 'society', 'geographical', 'mocks', 'boilers', 'distress', 'promiscuously', 'ASCENDING', 'procuring', 'unprecedented', 'fall', 'Jesu', 'moments', 'occupied', 'she', 'denotes', 'fireplaces', 'heartlessness', 'crew', 'Nor', 'stress', 'compare', 'N', 'letting', 'alpacas', 'contentedly', 'Posted', 'frosted', 'unexhilarated', 'becalmed', 'beak', 'PACIFIC', 'n', 'denunciations', 'are', 'Seychelle', 'superfluous', 'rowlocks', 'Keel', 'burns', 'picturesque', 'Mend', 'exhale', 'rotund', 'assumption', '4', 'corkscrewed', 'congregated', 'companions', 'dorsal', '3', 'praises', 'setting', 'Folios', 'kin', 'Shipped', '93', 'uttering', 'bullocks', 'pocketing', 'mistifying', 'analogy', 'approvingly', \"'\", 'moss', 'resumed', 'slumberers', 'baptized', 'indiscriminately', 'dramatically', 'military', 'Vaticans', 'sandpaper', 'Snodhead', 'pins', 'fisherman', 'inside', 'stories', 'headlong', 'disengaged', 'describing', 'roared', 'Paul', 'toying', 'Stripped', 'Far', 'acknowledges', 'Ochotsh', 'brig', 'Joppa', 'timid', 'seminal', 'shovels', 'Zodiac', 'sally', 'gayer', 'States', 'Reckoning', 'nomenclature', 'skelter', 'Human', 'deserved', 'Lad', 'ornamented', 'ineffable', 'outyell', 'clue', 'Angel', 'attends', 'Anomalous', 'wilderness', 'Because', 'damply', 'modern', 'vagabond', 'uncomfortable', 'savage', 'autumnal', 'borders', 'oblige', 'cleft', 'props', 'context', 'no', 'scan', 'opportunities', 'Exception', 'same', 'tendency', 'teats', 'uncatastrophied', 'bawl', 'renegades', \",--'\", 'Nathan', 'down', 'encamped', 'perceptibility', 'non', 'shapes', 'There', 'laugh', 'beaching', 'exhilarating', 'sweethearts', 'Nescio', 'flukes', 'profoundest', 'ruggedness', 'gangs', 'dexterously', 'convulsively', 'GAM', 'part', 'poltroon', 'Way', 'partly', 'recurring', 'Thomas', 'reasonably', 'ferocious', 'Lo', 'FISH', 'occult', 'rechurned', 'imperfect', 'quoins', 'Christmas', 'unsophisticated', 'Of', 'toils', 'unwelcome', 'grandfather', 'consulted', 'blows', 'STRAFFORD', 'NEST', 'shrouds', 'disabled', 'involuntarily', 'custom', 'Hook', 'rooted', 'handicrafts', 'wakeful', 'teak', 'luffs', 'DUTCH', 'afflictions', 'climate', 'rhyme', 'Stern', 'exist', 'Brute', 'decks', 'developed', 'scene', 'emblematical', 'resolve', 'sang', 'undiscriminating', 'related', 'laws', 'track', 'fabric', 'coat', 'That', 'blackened', 'allowed', 'before', 'lexicographer', 'squared', 'Bower', 'Santa', 'dismembered', 'curiously', 'inscription', 'unbodied', 'glade', 'discriminating', 'solecism', 'feathery', 'painful', 'log', 'reminded', 'train', 'compensated', 'oders', 'borrow', 'archangelical', 'cones', 'rolling', 'Laws', 'Yojo', 'twelfth', 'gums', 'distantly', 'pod', 'congeal', 'Astir', 'agreed', 'multitude', 'treasure', 'Affected', 'daughters', 'punctilious', 'Main', 'infinitely', 'Plains', 'hereditarily', 'draughtsmen', 'palisades', 'table', 'immortals', 'tender', 'brimstone', 'villa', 'solicited', 'traces', 'harp', 'Seas', 'Fore', 'workers', 'CABINET', 'glued', 'heeded', 'essay', 'Evil', 'Hanoverian', 'birthmark', 'engaging', 'magistrate', 'bedevilling', 'unrecorded', 'scheme', 'Cursed', 'cross', 'Scragg', 'collectedness', 'pricking', 'prices', 'jeweller', 'forwards', 'tribute', 'scream', 'hone', 'Krusenstern', 'bill', 'remaining', 'mule', 'demigorgon', 'sacredness', 'Cutter', 'reaching', 'aboriginal', 'counteracting', 'flock', 'mockery', 'miller', 'cabinet', 'arboring', 'Isaiah', 'sadness', 'thoughtful', 'unnearable', 'RED', 'recollection', 'craziness', 'consolatory', 'precede', 'twisting', 'quarter', 'suck', 'TOP', 'benevolent', 'shirt', 'twitched', 'symmetrical', 'HOMEWARD', 'HIS', 'assignment', 'Iceland', 'scoured', 'Hallo', 'knitting', 'harmless', 'Littleton', 'AUTHOR', 'carking', 'loom', 'SENATE', 'exchange', 'spread', 'quiver', 'corporeally', 'whiteness', 'hows', 'dissertations', 'unfallen', 'tray', 'developing', 'feeling', 'lain', '108', 'mystic', 'vacated', 'repent', 'pikes', 'bible', 'vases', 'jib', 'scratched', 'fishery', 'thump', 'untidy', 'salmon', 'struggling', 'skirra', 'powdered', 'accessory', 'piers', 'nosegays', 'tingles', 'Then', 'inestimable', 'harems', 'meet', 'chums', 'wilful', 'vague', 'smite', 'avail', 'overseeing', 'June', 'posted', 'asses', 'assailants', 'unoutgrown', 'engendering', 'slightest', 'billed', \",'\", 'pitchpoled', 'watered', 'observation', 'mustering', 'aslant', 'whales', 'rotation', 'artisan', 'roofed', 'careful', 'lee', 'paves', 'muster', 'torso', 'Crappo', 'qualified', 'swiftly', 'ultimately', 'support', 'princess', 'wharves', 'definition', 'brightest', 'tastes', 'recur', 'stretching', '57', 'asleep', 'nap', 'sugary', 'calmness', 'Brace', 'mustn', 'bridges', 'cultivated', 'ECUADOR', 'whichever', 'athletic', 'Davy', 'whaleboat', 'Get', 'outreaching', 'signal', 'Righteousness', 'reigneth', 'rebellion', 'text', 'imposingly', '89', 'thickening', 'Propontis', 'spoke', 'recklessness', 'Physiognomist', 'stubbs', 'disinfecting', 'foamin', 'irresistibly', 'shelves', 'entablatures', 'scrouge', 'bullied', 'banterings', 'damsels', 'Oahu', 'roused', 'whizzings', 'unwarped', 'psalmody', 'blueness', 'cemeteries', 'quits', 'fertilely', 'tanned', 'baker', 'notabilities', 'trotting', 'tumblers', 'Excepting', '16', 'discharging', 'difficulties', 'Admirals', 'extermination', 'forked', 'BALEINE', 'squeezing', 'cranium', 'suddenly', 'Chart', 'smooth', 'flickering', 'Roanoke', 'deformed', 'surgeons', 'Teeth', 'captain', 'boy', 'clefts', 'nostril', 'Office', 'indefinite', 'insect', 'reminding', 'critically', 'pursued', 'circuit', 'pleasure', 'secured', 'wonst', 'encircling', 'unstranded', 'essentially', 'southward', 'crashing', 'lexicon', 'viceroy', 'scrambled', 'pricked', 'lacks', 'swaying', 'declining', 'regiments', 'dented', 'permanent', 'unconquering', 'topsail', 'famishing', 'catches', 'guise', 'hems', 'twists', 'chap', 'fadest', 'soon', 'duff', 'Commanded', 'Going', 'Whaling', 'Softly', 'howlings', 'woman', 'startling', 'Nantuckois', 'treated', 'spiralise', 'agreeable', 'INN', 'SCATTER', 'poetical', 'warned', 'Zoned', 'momentum', 'inextricable', 'barrels', 'purest', 'Grace', 'spices', 'series', 'Dance', 'midway', 'precious', 'enchanter', 'crying', 'hermit', 'see', 'sequel', 'ominous', 'Immense', 'intrepid', 'cuffs', 'drought', 'remarkably', 'heavenly', 'cities', 'respected', 'soles', 'rum', 'bustle', 'Late', 'spill', 'winter', 'mittens', 'afar', 'Mother', '74', 'Hold', 'suffice', 'hitherto', 'consuming', 'depart', 'Spread', 'SEEN', 'leak', 'Passion', 'clinging', 'manikin', 'domineering', 'FOLIOS', 'weapon', 'Begone', 'incompetent', 'nosegay', 'rumbles', 'backwoods', 'deformity', 'yell', 'Wisdom', 'Strange', 'essayed', 'renouncing', 'Louisiana', 'satirizing', 'hieroglyphics', 'Locks', 'underwent', 'Terrors', 'cheered', 'parlors', 'slap', 'strange', 'heavily', 'Her', 'lobtailing', 'colossal', 'miraculous', 'palmed', 'mud', 'quietude', ':--', 'receives', 'bowed', 'producing', 'marlingspike', 'launchest', 'gains', 'bowls', 'untraditionally', 'straw', 'mortality', 'grim', 'deserve', 'sheepishly', 'tie', '2000', 'wisest', 'SCORESBY', 'Warden', 'Sciences', 'landsman', 'cure', 'indignity', 'wakened', 'flashing', 'glossy', 'buried', 'sulk', 'dawn', 'noiselessness', 'grandiloquent', 'cashier', 'tablets', 'Forge', 'fallen', 'Applied', 'Dante', 'wayward', 'DID', 'breathlessly', 'pruning', 'Hell', 'unfolding', 'gizzard', 'forbearing', 'snowy', 'heroes', 'cosmopolite', 'mug', 'patient', 'domineerings', 'coined', 'maker', 'stating', 'bodices', 'leisurely', 'tackle', 'hoo', 'nailed', 'confounds', 'strive', 'weasel', 'warningly', 'consisting', 'shoreless', 'weathering', 'tripod', 'Wind', 'precisely', 'vividness', 'cursing', 'hereafters', 'bushel', 'Sow', 'ducking', 'taller', 'anticipatingly', 'lamentable', 'presumed', 'plans', 'Anyway', 'Stealing', 'facetiousness', 'casement', 'revels', 'Persians', 'searchingly', 'tho', 'Whales', 'Mene', 'Alabama', 'comforter', 'punctures', 'Et', 'drenched', 'soliloquizes', 'allusions', 'Patagonian', 'starboard', 'management', 'subtile', 'Hearing', 'dog', 'beings', 'Dropping', 'possess', 'unusable', 'cautiousness', 'Hist', 'some', 'carriages', 'promptly', 'pore', 'unquestionable', 'divinest', 'uniformity', 'landless', 'buttress', 'Blinding', 'horribly', 'ANIMAL', 'expensive', 'fighting', 'scrape', 'awhile', 'Woo', 'excitedly', 'Scarcely', 'brothers', 'marvelled', 'Till', 'bower', 'justify', 'Slid', 'reptile', 'meridians', 'Marmora', 'junior', 'quest', 'happens', 'screams', 'reydan', 'grapes', 'providential', 'Cervantes', 'maty', 'runs', 'angle', 'jail', 'savannas', 'Zoroaster', 'anchored', 'aleak', 'inventive', 'advantages', 'hypos', 'streamers', 'Browne', 'isolated', 'retention', 'Still', 'Thee', 'mysteriously', 'Langsdorff', 'pronged', 'Temple', 'afresh', 'Daggoo', 'gilt', 'thickly', 'submission', 'enfoldings', 'opium', 'motley', 'forswears', 'rampart', '78', 'deliberating', 'winking', 'royals', 'storied', 'Assuming', 'healthy', 'overmuch', 'seats', 'seaward', 'streaks', 'end', 'Rokovoko', 'bye', 'Joe', 'Jollies', 'bodied', 'able', 'bethink', 'Affidavit', 'Midships', 'persecutor', 'Know', 'Belisarius', 'visual', 'insects', 'shored', 'recommended', 'Baden', 'cock', 'obvious', 'Watch', 'Soloma', 'wintry', 'lullaby', '58', 'Hussey', 'Quick', 'smiling', 'stubbornest', 'dogs', 'bellies', 'omnisciently', 'drags', 'write', 'frayed', 'also', 'meaning', 'carcase', 'Poor', 'slumbering', 'bolder', 'ascribable', 'divers', 'rob', 'known', 'hurled', 'comfortable', 'aliens', 'famed', 'suggested', 'embracing', 'courteous', 'reign', 'Usually', 'shrubs', 'whistle', 'piloted', 'bag', 'numberless', 'napkins', 'otherwise', 'scamp', 'Below', 'perpendicularly', 'ushered', 'emigrants', 'Pillar', 'handspikes', 'Limeese', 'strict', 'builder', 'column', 'thine', 'Camel', 'lies', 'exactly', 'forlornness', 'Forming', 'incoherently', 'uncouth', 'Clear', 'Gilder', 'adjacent', 'solely', 'dumbest', 'survives', 'positive', 'strife', 'veritable', 'constituting', 'springs', 'OPENING', 'distinction', 'soggy', 'gauntleted', 'home', 'surrender', 'hooks', 'incommodiously', 'quarried', 'shrill', 'return', 'endless', 'incurable', 'moods', 'Pedestrians', 'sanctified', 'flush', 'Pole', 'snaky', 'continuation', 'tusk', 'rude', 'spreads', 'wilted', 'dedicating', 'lacquered', 'bulge', 'gudgeons', 'Possession', 'Observatory', 'Continents', 'TUBS', 'conceivable', 'commentaries', 'vibrate', 'laced', 'glue', 'responses', 'LORD', 'bottomed', 'JAGO', '1821', 'proved', \"?'\", 'hail', 'Hind', 'grasping', 'By', 'deception', 'letters', 'plying', 'Plum', 'heaviest', 'kissed', 'how', 'veal', 'Mohawk', 'hanging', 'stare', 'impossible', 'companied', 'horns', 'presentiment', 'ADDITIONAL', 'intensifying', 'onsets', 'Gliding', 'asphaltic', 'Boys', 'TIMES', 'gloom', 'inaccessible', 'plunder', 'COLL', 'rafters', 'scalloped', 'Again', 'joyful', 'Arch', 'incompatible', 'Globe', 'bask', 'gibbering', 'Tropic', 'suspect', 'characteristic', 'peculiarly', 'malignant', 'Watts', 'quicker', 'weaver', 'filed', 'gouty', 'infants', 'downright', 'skilful', 'glow', 'education', 'pitiless', 'Pott', 'sat', 'incorrect', 'ineffectual', 'feeds', 'empty', 'slaves', 'communications', 'savages', 'alms', 'thank', 'tread', 'Did', 'condemning', 'dismal', 'Nippers', 'AFFGHANISTAN', 'haze', 'firma', 'phenomena', 'unseen', 'WHALESHIPS', 'connexion', 'disaster', 'brass', 'press', 'Seeva', 'shoeless', 'gaping', 'COMMODORE', 'geometrical', 'haunts', 'magniloquent', 'these', 'struggle', 'means', 'eve', 'deliberately', 'perfidious', 'Led', 'via', 'valleys', 'career', 'Judgment', 'enlist', 'falls', 'event', 'In', 'sire', 'wages', 'Tisbury', 'crystalline', 'Philistine', 'Lit', 'baptizo', 'Sharks', 'symmetrically', 'proportions', 'exactness', 'conquered', 'sanctum', 'sky', 'drooping', 'brawlers', 'balena', 'Nicholas', 'bitterly', 'envied', 'profundities', 'windward', 'NEWSPAPER', 'deceiving', 'Byward', 'pang', 'gamesome', '56', 'belong', 'confidential', 'rockets', 'strips', 'gaffman', 'mugs', 'philosopher', 'SPEECH', 'lighten', 'tyrant', 'unrolling', 'sentinels', 'pours', 'rod', 'knights', 'afoul', 'comforts', 'evermore', 'promontory', 'maiming', 'swing', 'invade', 'gave', 'attentively', 'Muffled', '32', 'THESE', 'baffle', 'keep', 'BUSILY', 'cruised', 'continuing', 'Englishman', 'throbs', 'Rue', 'secludedness', 'OAKUM', 'cassock', 'drawing', 'reminiscences', 'candle', 'marquee', 'exordium', 'Polynesia', 'drawbacks', 'Bible', 'REPORT', 'in', 'nestling', 'destroyed', 'downcast', 'MEETING', 'mood', 'sorrow', 'bridals', 'pyramid', 'undefiled', 'bell', 'braining', 'settlers', 'ascribed', 'VARIOUS', \"--'\", 'questionings', 'indiscreet', 'anus', 'Arrayed', 'nestle', 'meant', 'unfamiliar', 'salted', 'Rattler', 'contest', 'nearly', 'prophecies', 'groove', 'preeminence', 'Mesopotamian', 'Such', 'ensuing', 'jerking', 'bumped', 'beamed', 'search', 'marks', 'dramatic', 'big', 'tangle', 'returned', 'idly', 'Besides', 'behead', 'express', 'signs', 'waked', 'chamber', 'butchers', 'Glen', 'moulder', 'sketching', 'awry', 'TEENTH', 'steeple', 'BREAKWATER', 'decrees', '?\"', 'sluggishly', 'maul', 'disordered', 'morally', 'events', 'BLACK', 'How', 'wonderment', 'tilbury', 'idolators', 'risked', 'tokens', 'youngest', 'scarfing', 'dollar', 'notwithstanding', 'insupportable', 'sucked', 'coal', 'bestirred', 'CRUISE', 'Icelandic', 'Aldrovandus', 'undisputed', 'measures', 'mediocrity', 'branding', 'language', 'soused', 'stubbornness', 'complied', 'GENESIS', 'Partners', 'lessons', 'territories', 'scales', 'account', 'thrust', 'pauselessly', 'insertion', 'wedded', 'grant', 'Twas', 'reined', 'jawed', 'higher', 'purchased', 'Elsewhere', 'undignified', 'foretell', 'husks', 'commandment', 'encounter', 'seeming', 'armies', 'gullies', 'illustration', 'station', 'dun', 'shook', 'fictitious', 'literally', '.*--', 'cracked', 'circumnavigations', 'incites', 'swayed', 'quay', 'Vision', 'narrative', 'bowsmen', 'moidores', 'underwriter', 'indirect', 'graves', 'proud', 'Magian', 'worn', 'large', 'replacing', 'ornaments', 'unsetting', 'marvelling', 'exasperations', 'Simeon', 'prompts', 'Lifted', 'attraction', 'whimsiness', 'bricks', 'inhospitable', 'Grammar', 'seamen', 'conversant', 'friendly', 'brows', 'LOCK', 'flying', 'obeying', 'Vesuvius', 'preserving', 'want', 'neither', 'Welding', 'PALEY', 'denote', 'Barbary', 'wakefulness', 'aunts', 'aloud', 'rehearse', 'insulated', 'tenpin', 'Titans', 'rex', '33', 'inventors', 'knowest', 'scornful', 'currents', 'swart', 'steers', 'buffalo', 'switching', 'rules', 'E', 'please', 'pine', 'moaning', 'subtilty', 'hissing', 'box', 'direful', 'probability', 'Pusie', 'l', 'secure', 'Duck', 'seventeenth', 'COMMERCIAL', 'poorest', 'ruptured', 'sprat', 'Mogulship', 'Roman', 'Circumambulate', 'denizen', 'spirally', '134', 'execute', '1726', 'painfulness', 'seaport', 'erudition', 'sup', 'viewing', 'twiske', 'comparison', 'lent', 'sorely', 'penetrating', 'watchman', 'Gracious', 'descrying', 'foaming', 'forehead', 'beaver', 'cajoling', 'crabs', 'lingo', 'dislike', 'rounded', 'vice', 'Coppered', 'YORK', 'Ebony', 'detects', 'diaboli', 'monumental', 'embayed', 'repellingly', 'instinctive', 'holes', 'changeful', 'reposes', 'thistles', 'exciting', 'blandness', 'lotus', 'Thereby', 'prow', 'exhausting', 'Africa', 'gloss', 'cherished', 'broken', 'padlock', 'braces', 'pointest', 'crescent', 'butts', 'darkling', 'places', 'Thorkill', 'GREEK', 'statements', 'ringbolts', 'grease', 'Line', 'grasshopper', 'roundingly', 'Stir', 'bleak', 'SIBBALD', 'LAMB', 'quicksilver', 'gills', 'interpreted', 'bevy', 'slewing', 'Dagon', 'controverted', 'pervading', 'desolate', 'pistols', 'suns', 'disconnected', 'warnings', 'stature', 'provides', 'unachieved', 'casts', 'diligently', 'under', 'Plata', 'exceeding', 'critical', 'poled', 'discomforts', 'convex', 'farthingale', 'cares', 'elevating', 'Fill', 'J', 'Gather', 'listlessness', 'chewed', 'Timor', 'distinctive', 'Immortal', 'poor', 'molest', 'ether', 'brooding', 'freer', 'granted', 'unexpectedly', 'masks', 'OFF', 'contrivances', 'impresses', 'lurid', 'ninetieth', 'instructions', 'impenitent', 'likes', 'Baliene', '53', 'LETTERS', 'insulted', 'clutch', 'enfeebled', 'CABIN', 'invaders', 'bring', 'mortally', 'grapnels', 'spiralized', 'tomahawk', 'plugged', 'da', 'inherent', 'WISE', 'men', 'supplemental', 'permit', 'emetic', 'MONTAIGNE', 'error', 'rigging', 'grievances', 'pouch', 'Benjamin', 'according', 'determining', 'addressing', 'braced', 'rats', 'FISHERMAN', 'disorderly', 'abounded', 'available', 'monotonous', 'trappers', 'vermillion', 'spinal', 'busks', 'sorcery', 'TAKING', '39', 'desisted', 'linen', 'dimensions', 'regardful', ',', 'unthinkingly', 'guiltiness', 'finally', 'godly', 'shipping', 'axles', 'Pupella', 'straps', 'Morgana', 'handspike', 'Drat', 'counties', 'loading', 'deceptive', 'Pious', 'bordering', 'Grand', 'Bear', 'pausing', 'abstemious', 'consecrating', 'garden', 'presented', 'colic', 'mustered', 'dwelling', 'Tigris', 'melancholy', 'humpbacked', 'capsizing', 'closet', 'Wellington', 'celestial', 'dining', 'males', 'Mayhew', 'penetrate', 'jettest', 'morbid', 'bony', 'glee', 'indifferently', 'blanks', 'conjure', 'cut', 'melting', 'shinbone', 'whaling', 'grooved', 'Quog', 'interpenetrate', 'bunting', 'easiest', 'IMPOSING', 'warning', 'disturb', 'infancy', 'cinnamon', 'sustaining', 'biting', 'ourselves', 'mess', 'Please', 'moderately', 'casements', 'taffrail', 'daily', 'caused', 'Behold', 'thirteen', 'Thy', 'principles', 'fare', 'japonicas', 'meadows', 'Yoke', 'trifles', 'totalities', 'curved', 'receding', 'ELIZA', 'operated', 'scud', 'continual', 'Wood', 'Xerxes', 'progenitors', 'bloodiest', 'happened', 'Dusk', 'moored', 'rascally', 'incantation', 'navies', 'Sammy', 'bubbling', 'hind', 'cloak', 'Doctor', 'kiln', 'staggers', 'assuring', 'monarch', 'squadrons', 'relieved', 'decapitating', 'call', 'nobler', 'trouble', 'rises', 'adornment', 'coloured', 'duskier', 'outrageous', 'Darkness', 'pawn', 'strength', 'bigot', 'site', 'chinks', 'winds', 'relatively', 'advice', 'wherefore', 'fully', 'floors', 'Mapple', 'thinkest', 'YARD', 'perdition', 'match', '1846', 'added', 'foggy', 'lonely', 'disappearance', 'satirical', 'tragically', 'gambol', 'stigma', 'bunk', 'lasses', 'conquering', 'Pots', 'Serious', 'robbed', 'arrows', 'relish', 'volunteered', 'Gurry', 'quarters', 'surround', 'vital', 'canes', 'dogged', 'sober', 'Euclid', 'rich', 'Emperors', 'ruddy', 'jeering', 'smoothe', 'deacon', 'burial', 'gripe', 'tawny', 'rallies', 'agile', 'fights', 'assigned', 'arctic', 'SEBOND', 'cubic', 'unsays', 'Ghent', 'octavo', 'litter', 'teach', 'crannies', 'hummed', 'unborn', 'frights', 'bathed', 'throws', 'Contrasted', 'advocate', 'straightened', 'acute', 'Den', 'belonged', 'fastened', 'occur', 'locksmith', 'Jimimi', 'remonstrance', 'premature', 'receptive', 'oath', 'symbols', 'uniform', 'amend', 'reclining', 'shuttle', 'footpath', 'spigot', 'essences', 'Aladdin', 'elsewhere', 'plungingly', 'Heed', 'graze', 'engine', 'expressions', 'wilds', 'lingered', 'voyagings', 'trump', 'crowning', 'did', 'thyself', 'destined', 'grieved', 'clove', 'comest', 'ferociousness', 'tides', 'seizure', 'perch', 'Give', 'started', 'broiled', 'slim', 'windbound', 'mountain', 'chorus', 'elevate', 'bedwards', 'Maker', 'dilated', 'reviewed', 'undigested', 'scorchingly', 'Supper', 'flirted', 'money', 'stop', 'tinkering', 'actuated', 'OAKES', 'corals', 'tomb', 'declared', 'turbaned', 'howl', 'mishaps', 'confidently', 'leagues', 'wonderfulness', 'Help', 'recondite', 'radiates', 'locked', 'ancestors', 'barnacle', 'kicked', 'stroll', 'Forthwith', 'omit', 'frothed', 'communicates', 'grasses', 'chirography', 'thighs', 'lording', 'unmanned', 'circumnavigation', 'thenceforth', 'pallet', 'Savage', 'transparently', 'clogged', 'murderers', 'masked', 'grip', 'presenting', 'fired', 'Logan', 'knocking', 'posse', 'button', 'pennant', 'Thunder', 'departure', 'astronomers', 'bumping', 'judge', 'interrupted', 'dention', 'measuring', 'unctuous', 'Kentucky', 'involves', 'constrained', 'discoverers', 'churned', 'forgets', 'unspotted', 'cheapest', 'staying', 'pretty', 'practically', 'seaweed', 'wore', 'Cistern', 'care', 'substantive', 'characterizing', 'bespattering', 'Deacon', 'operation', 'accomplishment', 'deliberate', 'darkness', 'reporting', '100', 'vices', 'posterity', 'unendurable', 'Prodigies', 'cheap', 'perilous', 'spoiling', 'mornings', 'natur', 'abandonedly', 'healed', 'moved', 'colonies', 'tracks', 'forborne', 'saplings', 'Gall', 'answers', 'ringing', 'stalking', 'reinforcement', 'connected', 'undulated', 'Pactolus', 'lace', 'wouldn', 'unprovided', 'icebound', 'Hake', 'ISAIAH', 'Dar', 'elevated', 'keeling', 'oozy', 'canal', 'straining', 'response', 'lastly', 'stealing', 'lances', 'Pirohitee', 'oh', 'soot', 'Alps', 'cheers', 'BARON', 'renewed', 'verity', 'cooked', 'hull', 'heartedness', 'knockings', 'sheaths', 'vales', 'passiveness', 'Thermes', 'metallic', 'Patience', 'desolation', 'seemly', 'socially', 'affrighted', 'Saw', 'Philip', 'hurling', 'confidentially', 'flows', 'beach', 'sallies', 'Tunnel', 'UNITED', 'alluringly', 'Hotel', 'towering', 'NEW', 'negative', 'feat', 'VISITS', 'value', 'gloriously', 'restored', 'reciprocating', 'suggest', 'congregation', 'worker', 'humps', 'blisteringly', 'dauntlessness', 'Anak', 'story', 'patched', 'requisition', 'pastiles', 'inland', 'Towards', 'Martin', 'body', 'lovings', 'diverting', 'swamp', 'absorbed', 'fluttering', 'APOLOGY', 'breezelessness', 'togged', 'horizons', 'SHAKING', 'capricious', 'smile', 'reservation', 'lirra', 'treating', 'Sell', 'Hah', 'bigamist', 'cream', 'dined', 'applied', 'sheathed', 'predestinated', 'hearers', 'pastures', 'upbubble', 'commonly', 'interpret', '54', 'luggers', 'voted', 'horn', 'unsocial', 'awkwardness', 'quietly', 'clay', 'vernal', 'PRESIDENCY', 'fragments', 'bet', 'canticle', 'steadying', 'muddled', '!)', 'whistling', 'attains', 'annuitants', 'Crossing', 'generally', 'HISTORY', 'connexions', 'mumbled', 'inspire', 'moderns', 'Feel', 'remembrance', 'accounting', 'Nile', 'waxes', 'boatmen', 'loved', 'agrees', 'battle', 'Civitas', 'duck', 'notes', 'gull', 'prepare', 'pearl', 'jalap', 'banqueter', 'police', 'vile', 'August', 'brilliance', 'Lackaday', 'villain', 'misnamed', 'supreme', 'cling', 'Indolence', 'settled', 'resembled', 'scars', 'joint', 'incongruity', 'gulp', 'wasting', 'commotions', 'scalding', 'bowsman', 'neared', 'maned', 'helmeted', 'Advance', 'sittin', 'End', 'unrolled', 'procedures', 'miserable', 'axis', 'rowing', 'loud', 'Fat', 'HUNTER', 'explanation', 'delightful', 'Alfred', 'labelled', 'ineffaceable', 'siding', 'prime', 'whosoever', 'Shan', 'intermixture', 'identically', 'familyless', 'primers', 'When', 'godhead', 'insufficient', 'systematized', 'unsupplied', 'bees', 'stolen', 'unastonished', 'general', 'challenge', 'rests', 'emboldened', 'Wherefore', 'pebbles', 'slantingly', 'But', 'Silly', 'beloved', 'official', 'whistlingly', 'daughter', 'climax', 'reports', 'wool', 'Memory', 'hoky', 'joy', 'naught', 'swings', 'verbal', 'mayest', 'worshippers', 'inexperienced', 'enemies', 'knot', 'circular', 'stagger', 'Heaven', 'lighter', 'Canst', 'watergate', 'vengeance', 'pertains', 'Ophites', 'heeds', 'suspending', 'stateliest', 'hills', 'squaring', 'tribe', 'ocean', 'Patagonia', 'swaths', 'greenish', 'survey', 'analysis', 'collated', 'blossom', 'apron', 'touching', 'deeps', 'collected', 'whereto', 'tasks', 'encountered', 'enumerate', 'nod', 'finished', 'Isabella', 'notions', 'noblest', 'unexaggerated', 'Paint', 'System', 'hapless', 'Sylla', 'unmatched', 'epicures', 'Eagle', 'Bud', 'rushed', 'hurried', 'Pedro', 'pulpits', 'stepmothers', 'shadiest', 'bowings', 'stalked', 'caress', 'example', 'mistaking', 'torture', 'stool', 'breadth', 'reflections', 'forgot', 'Basilosaurus', 'halted', 'eluding', 'predicament', 'plethoric', 'alert', 'fuller', 'breedeth', 'Unconsciously', 'terror', 'fabled', 'discernible', 'centralization', 'ejaculates', 'rammed', 'accompany', '15th', 'yoked', 'diluvian', 'confine', 'hearse', 'shocked', 'horizontal', 'quid', \",'--\", 'eleventh', 'blackling', 'Say', 'gratitude', 'goblets', 'navel', 'wakes', 'His', 'speakest', 'IBID', 'seasoning', 'midsummer', 'curb', 'entreated', 'mask', 'stifling', 'gores', 'nostrils', 'wert', 'pierced', 'boarded', 'threw', 'DECK', 'Archbishop', 'whalemen', 'Preserving', 'portent', 'affair', '73', 'fraternity', 'paint', 'villainies', 'Richard', 'fossils', 'cruising', 'mutineer', 'smart', 'exposed', 'worked', 'ostensible', 'fuel', 'tip', 'guarding', 'vindictive', 'prized', 'jovial', 'slash', 'PLINY', 'unbounded', 'elm', 'rehearsing', 'moisture', 'athwartships', 'enslaved', 'skrimshandering', 'BROWN', 'Ezekiel', 'fed', 'becoming', 'Fates', 'prefers', 'splashing', 'learned', 'Cretan', 'initiate', 'exceptionable', 'loathsome', 'Mosque', 'allured', 'mealtimes', 'boiler', 'supernaturally', 'PLACED', 'multiplied', 'mints', 'Procopius', 'layeth', 'tinkers', 'pipe', 'atmosphere', 'copper', 'placidity', 'Could', 'months', 'depresses', 'minutest', 'dis', 'MY', 'features', 'patent', 'Tranquo', 'beaters', 'prevented', 'miracle', 'dartingly', 'Spouter', 'passions', 'argosy', 'billeted', 'Jinglers', 'shoe', 'inions', 'boatheader', 'snorts', 'Prometheus', 'Cambyses', 'judiciously', 'Hercules', 'effects', 'PARVO', '121', 'intermixingly', 'guess', 'deliver', 'gorges', 'dread', 'consort', 'wedding', 'backwoodsman', 'Electors', 'Holy', 'Whalemen', 'intermediate', 'Aroostook', 'settees', 'Watching', 'sobriety', 'Should', 'chambers', 'dispel', 'strictly', 'corsairs', 'told', 'person', 'excel', 'deceased', 'Vacantly', 'congregate', 'fencing', 'undecided', 'originally', 'picking', 'Bachelor', 'AT', 'wooden', 'knowledge', 'kitchen', 'wooing', 'beaten', 'hurricane', 'smuggling', 'chancing', 'purple', 'charmed', 'Bout', 'pedigree', 'Drawn', 'Belubed', 'manifold', 'Squall', 'regards', 'unsounded', 'languishing', 'scratching', 'horrify', 'horror', 'tarried', 'painstaking', 'twelve', 'cabin', 'leaders', 'Remark', 'handle', 'phiz', 'doggedly', 'cod', 'Queen', 'cheerily', 'vicissitude', 'final', 'brooks', 'unlettered', 'costliest', 'outran', 'describes', 'tyro', 'earthy', 'zone', 'shelf', 'contrastingly', 'similarly', 'substances', 'ghostly', 'aldermen', 'technically', 'Hem', 'Dauphine', 'pressure', 'Send', 'bandana', 'unfathomably', 'unbecomingness', 'loss', 'hundredth', 'waits', 'untutored', 'removed', 'mature', 'palate', 'latently', 'expanding', 'bolts', 'overrunningly', 'keeled', 'skimming', 'enigmatical', 'blacksmith', 'halloo', 'admitted', 'Crew', 'WITH', 'lawful', 'abortions', 'truest', 'rising', 'counsel', 'troubled', 'bounteous', 'tremendous', 'instrument', 'confabulations', 'Same', 'interposed', 'pattern', 'courageousness', 'manliest', 'tiny', 'plaid', 'announcing', 'earnestness', 'humorists', 'Caesar', 'pacing', '1ST', 'laborers', 'frontier', 'stereotype', 'notches', 'Haarlem', 'snorting', 'hist', 'sweating', 'fulfilment', 'guests', '10', 'talkest', 'dip', 'persuasiveness', 'exert', 'bamboozle', 'inscrutably', 'LOST', 'Grampus', 'unpolluted', 'marches', 'burstingly', 'delighted', 'SPANISH', 'pleadings', 'dale', 'faces', 'unmarred', 'hushed', 'Snarles', 'Whelped', 'forming', 'creatures', 'joky', 'FISHERY', 'great', '),', 'hark', 'shovel', 'wat', 'shoots', 'absorbing', 'peep', 'Devils', 'tingling', 'upright', 'charm', 'pushes', 'damage', 'Admiral', 'quivering', 'youngish', 'entrances', 'disbands', 'certain', 'organ', 'friction', 'miser', 'Take', 'fumes', 'Indian', 'brushed', 'uncompromised', 'bracing', 'repose', 'supplicating', 'smiting', 'queenly', '1668', 'umbrella', 'Above', 'prophet', 'CATCHES', 'spire', 'spears', 'mutations', 'existing', 'town', 'Amelia', 'Sixteen', 'Tuileries', 'feeder', 'aggregated', 'cloven', 'paddled', 'truly', 'kith', 'inquire', 'hereditary', 'budged', 'when', 'spouters', 'perceptible', 'commands', 'Coming', 'sepulchre', 'laying', 'heroically', 'limit', 'Bag', 'pinched', 'boneless', 'oversailed', 'companionship', 'Black', 'indulge', 'orlop', 'Catholic', 'Angelo', 'knight', 'Loftiest', 'facility', 'creature', 'curling', 'earlier', 'fashionables', 'believing', 'gape', 'suburbs', 'LL', 'mane', 'vassal', 'million', 'wainscots', 'intense', 'transferring', 'NOSTRIL', 'hacking', 'unsurrendered', 'Borneo', 'ESSEX', 'admonished', 'disguise', 'questionable', 'forsake', 'riddle', 'ascend', 'gale', 'periods', '1793', 'drama', 'occasions', 'Peruvian', 'patrolling', 'afire', 'pettiness', 'Future', 'Owners', 'potentates', 'crouches', 'hawks', 'wind', 'abomination', 'arrival', 'staves', 'aft', 'unhappy', 'presto', 'whaleboats', 'within', 'annually', 'collection', 'snooze', 'insensibly', 'distant', 'emperor', 'made', 'skipper', 'mirror', 'GROUND', 'immemorial', 'grog', 'Cluny', 'Canaller', 'ANNUS', 'rail', 'Headed', 'condition', 'parlor', 'appeared', 'fissures', 'pots', 'Ship', 'goodly', 'Indies', 'banner', 'eggs', 'acquainted', 'Or', 'ANCHORS', 'donned', 'clapt', 'Platonic', 'Korah', 'Divine', 'laughable', 'si', 'People', 'intuitions', 'CAPTAINS', 'spraining', 'lifeless', 'sporty', 'obey', 'confiding', 'oysters', 'strikingly', 'yourselbs', '128', 'lath', 'gross', 'must', 'dear', 'amputated', 'thumbs', 'why', 'Furthermore', 'emergencies', 'counterpoise', 'fountain', 'intolerable', 'portentousness', 'SLOWLY', 'Krusensterns', 'requisite', 'sweet', 'scholars', 'current', 'executioner', 'provided', 'omnipotent', 'myself', 'policeman', 'usually', 'Skeleton', 'internal', 'happening', 'Pitchpoling', 'gardens', 'shout', 'peacefully', 'BOOKS', 'crookedness', 'projecting', 'Coenties', 'clasped', 'Harpoons', 'atheism', 'shield', 'behavior', 'rim', 'sculptures', 'witchery', 'facts', 'competency', 'beginner', 'Lamatins', 'deeper', 'abhorring', 'overawing', 'creed', '?\"--', 'runaway', 'transform', 'possibility', 'passionateness', 'suggestiveness', 'citadels', 'bind', 'swimming', 'latch', 'nate', 'stakes', 'Impenetrable', 'chained', 'alternating', 'voyage', 'molifier', 'ash', 'misgivings', 'favourite', 'clinch', 'soften', 'doubloons', 'purpose', 'cleared', 'tonic', 'peddlin', 'Burton', 'prop', 'sand', 'bruited', 'bestir', 'Honour', 'grain', 'coffer', 'paramount', 'Honourary', 'colony', 'accelerated', 'rover', 'company', 'be', 'unceasingly', 'ACCOUNT', 'Stoics', 'surrounds', 'exported', 'gunwale', 'sees', 'blade', 'Read', 'Mahomet', 'leviathans', 'Venice', 'bodings', 'Right', 'counters', 'allurings', 'WATCH', 'rooms', 'WHALEMAN', 'lipless', 'EDGE', 'whets', 'skylarking', 'mild', 'shreds', 'Afric', 'concentrating', ').--', 'Affrighted', 'copies', 'leaf', 'astir', 'imparted', 'owning', 'liquid', 'Quito', 'policy', 'cruel', 'south', 'giraffe', 'stiletto', 'butterfly', 'thermometer', 'binnacle', 'token', 'rigged', 'pilau', 'smallest', 'few', 'frequented', 'ATTACKED', 'swims', 'forsaken', 'HWAL', 'meanings', 'pickle', 'learning', 'cobbler', 'inclination', 'curly', 'Kill', 'deathful', 'inconsiderable', 'annihilation', 'sprinkling', '20', 'chronicler', 'thickest', 'countersinkers', 'wounding', 'Lights', 'Harris', 'Jollily', 'foremost', 'Ah', 'spurred', 'contiguity', 'arch', 'necessitated', 'cloth', 'failures', 'background', 'Seven', 'exasperated', 'CAP', 'scornfully', 'merciful', 'crunching', 'fifty', 'steak', 'civilization', 'mouth', 'pulverize', 'crosses', 'interchange', 'milky', 'topers', 'confinement', 'admits', 'arpens', 'hard', 'ma', 'comported', 'brides', 'barely', 'nevertheless', 'witcheries', 'proportionate', 'Cough', 'concentration', 'apothecary', 'unwearied', 'peril', 'horrible', 'Which', 'Westers', 'suppose', 'merry', 'guarded', 'overbalance', 'rapidity', 'Entreaties', 'Scotland', 'resist', 'Friends', 'bumpkin', 'inanimate', 'afternoons', 'incidents', 'habitual', 'Now', 'chanced', 'socks', 'portly', 'avoid', 'borrowed', 'clayey', 'doubly', 'stopping', 'fixing', 'prestige', 'With', 'whelmings', 'slamming', 'Yellow', 'pelt', 'their', 'lathering', 'strip', 'trophies', 'eventually', 'eely', 'deserted', 'giddy', 'complete', 'ruggedest', 'stupidly', 'Terrible', 'absolute', 'averted', 'aspersion', 'rejoinder', 'devout', 'flatly', 'lash', 'NOUN', 'contracts', 'cultivate', 'entered', 'observant', 'LEAP', 'bo', 'screamed', 'slope', 'magnify', 'affirm', 'Pannangians', 'holidays', 'portents', 'scrimps', 'resemblances', 'Trade', 'trudging', 'excluding', 'link', 'anatomy', 'electricity', 'Ephesian', 'tacit', 'toss', 'bedstead', 'ineffectually', 'horizon', 'victorious', 'burglaries', 'elements', 'madly', 'dagger', 'sternward', 'Chinese', 'cottage', 'manifesto', 'experiments', 'Southern', 'misbehaviour', 'Cyclades', 'cohered', 'vomit', 'Catskill', 'turban', 'through', 'laugheth', 'disgusted', 'feverishly', 'mischievous', 'banked', 'Prick', 'persuasions', 'sport', 'humbly', 'blasphemer', 'Beelzebub', 'STANDING', 'matrimonial', 'jolly', 'matured', 'astonished', 'charging', '200th', 'castle', 'gushing', 'calamities', 'monks', 'dashes', '150', 'effectually', 'advert', 'agonized', 'dismemberment', 'hearken', 'movement', 'tester', 'loses', 'counting', 'shrink', 'stun', 'inkstand', 'Champollion', 'soars', 'sobbings', 'sucking', 'evidence', 'Sway', 'Yon', 'Shake', 'wit', 'prayer', 'anguish', 'venerable', 'purty', 'orbits', 'Killer', 'bridle', 'upraising', 'nails', 'legs', 'delegated', 'terminating', '1729', 'spear', 'windrowed', 'revulsion', 'catching', 'superincumbent', 'leapest', 'landlord', 'owe', 'Supreme', 'sued', 'stake', 'genuineness', 'meddle', 'sealine', 'steamer', 'stated', 'comparing', 'HATCHWAY', 'if', 'druggists', 'Detached', 'subsists', 'shallop', 'Clay', 'logged', 'hill', 'haughty', 'icily', 'Hand', 'manoeuvre', 'dines', 'foreboding', 'tranquillize', 'experiment', 'fence', 'housed', 'partner', 'Shipmate', 'equity', 'Sleep', 'hymns', 'Without', 'apoplectic', 'crowding', 'proceeded', 'centrally', 'hatchet', 'polish', 'thickness', 'school', 'circumpolar', 'faintest', 'herrings', 'frank', 'unmomentous', 'shears', 'argue', 'Ishmael', 'whitened', 'repelling', 'till', 'punctually', 'Cowper', 'overrun', 'share', 'adown', 'spots', 'salutations', 'retracing', 'Hogarthian', 'displays', 'actual', 'akin', 'slips', 'tabernacle', 'joyous', 'ENGLISH', 'idiot', 'Christendom', 'It', 'genially', 'wax', 'clouded', 'Danes', 'whimsicalities', 'portraits', 'noiseless', 'Superior', 'tanning', 'enjoining', 'disobey', 'instances', 'smoked', 'palpableness', 'saved', 'Malay', 'Draws', 'incoherences', 'jiff', 'Law', 'obscurity', 'torch', 'recreate', 'unbidden', 'lasted', 'underneath', 'anyhow', 'Bentham', 'imitated', 'steadfast', 'eddies', 'Bright', ';\"--', 'spasmodic', 'pace', 'replied', 'assert', 'catalogue', 'Post', 'beset', 'afflicted', 'delineations', 'intention', 'better', 'whelm', 'groan', 'likened', 'particulars', 'cartload', 'ointment', 'primitively', 'unload', 'ribboned', 'guttural', 'respecting', 'heir', 'luxurious', 'MACY', 'Pictures', 'defied', 'couples', 'faith', 'aloft', 'meets', 'marshal', 'compasses', 'Discovery', 'temperate', 'atmospheric', 'coalescing', 'stupid', 'written', 'vapours', 'bobbed', 'wrestlings', 'barbarous', 'coverlid', 'Utter', 'Pull', 'obliterated', 'Humpback', 'unprejudiced', 'bored', 'suction', 'incessant', 'position', 'Earthsman', 'per', 'THEIR', 'cloths', 'Wolf', 'broad', 'proverb', 'medicinally', 'won', 'oppose', 'Drive', 'COLEMAN', 'independently', 'glare', 'economical', 'tale', 'affords', 'footman', 'PSALMS', 'slily', 'arrowy', 'portcullis', 'keyed', 'beads', 'fanatic', 'membrane', 'baked', 'flagon', 'crick', 'vesture', 'principle', 'dyspeptic', 'Wrapping', 'depressions', 'jewels', 'precedents', 'mending', 'globular', 'cured', 'Canallers', 'bannered', 'Labrador', 'confoundedly', 'JOHNSON', 'sires', 'circulate', 'neighborhood', 'tells', 'incrustation', 'Chace', 'scratch', 'humiliation', 'dippers', 'reddenest', 'Hogarth', 'hydrophobia', 'exhort', 'mile', 'aroma', 'Hebrews', 'vero', 'shadowy', 'Halloo', 'buoyant', 'anticipation', 'motioned', 'sung', 'squatted', 'pugnacious', 'pioneer', 'tutelary', 'ANOTHER', 'sensible', 'islanders', 'rending', 'WON', 'EXCHANGING', 'duties', 'alternate', 'arm', 'sleeves', 'hazards', 'Almighty', 'hones', '92', 'unappalled', 'classical', 'dropped', 'stomach', 'dubious', 'nobody', 'profits', 'nooks', 'parents', 'feline', 'unfitted', 'dead', 'Leviathans', 'stars', 'gras', 'subdivide', 'excite', 'Alike', 'rostrated', 'Sagittarius', 'dumb', 'buttoned', 'disreputable', 'simultaneousness', 'lads', 'mum', 'Straightway', 'ST', 'wisely', 'Each', 'Edgewise', 'Jew', 'hero', 'gracious', 'festooned', 'FRENCH', 'louder', 'precision', 'imminent', 'HUMP', 'phrenology', 'Bang', 'reference', 'campaign', 'clad', 'witch', 'Consequently', 'sympathetic', 'shaded', 'flogging', 'nods', 'whaleman', 'devil', 'western', 'of', 'raises', 'amen', 'gobbles', 'tu', 'fanged', 'P', 'weeds', 'undeliverable', 'manly', 'ruffles', 'undecreasing', 'Third', 'admonish', 'blessing', 'loose', 'observing', 'Norwegian', 'shipmate', 'scalping', 'bestowal', 'thorns', 'Bartholomew', 'gentlemen', 'report', 'hunter', 'calmly', 'reasons', 'row', 'ATTACK', 'rears', 'infallibly', 'martial', 'cared', 'awed', 'pillow', 'overlapping', 'struggled', 'brute', 'temporary', 'West', 'bank', 'princes', 'impression', 'Newcastle', 'folks', 'invert', 'Hygiene', 'help', 'Jago', 'bagging', 'unceremoniously', 'comprehension', 'Cuba', 'business', 'reasonest', 'Quarto', 'stirs', 'OBED', 'Headers', 'essays', 'succeeding', 'dreams', 'denied', 'finger', 'forging', 'Jackson', 'addressed', 'Despatch', 'rented', 'clearest', 'reverend', 'yards', 'temperance', 'broker', 'investigator', 'Cholo', 'ing', 'sunbeam', 'violence', 'ceiling', 'pull', 'rearward', 'unharming', 'highly', 'aground', 'pig', 'earnestly', 'parent', 'midwinter', 'Calais', 'projects', 'cows', 'downtown', 'neglected', 'gentler', 'motioning', 'rockings', 'quantity', 'earned', 'wave', 'chucks', 'misdoubt', 'harvest', 'topsails', 'Ding', 'lavish', 'superstitions', 'pondering', 'napkin', 'royal', 'occasionally', 'unattended', 'spiles', 'v', 'clean', 'authors', 'watches', 'slaughtering', 'passed', 'Sperm', 'Uncommonly', 'swallows', 'wondrous', 'tight', 'consciousness', 'inglorious', 'Unwittingly', 'active', 'FLASK', 'lamp', 'grievous', 'antecedent', 'THUS', 'Preternatural', 'stocks', 'pirate', 'WIND', 'plurality', 'safe', 'slides', 'tube', 'workmen', 'waves', 'argument', 'grained', 'mid', 'hieroglyphic', 'proves', 'escaping', 'adopting', 'glades', 'index', 'water', 'Extending', 'opulence', 'Bethink', 'honey', 'sacramental', 'Stretched', 'Crushed', 'wounded', 'peaceful', 'ready', 'nuts', 'bloated', 'MATE', 'marring', 'isinglass', 'vigorously', 'spouted', 'dismay', '13', 'stumps', 'haired', 'melted', 'comrade', 'exchanged', 'endeavored', 'ravens', 'gagged', 'uncanonical', 'Paracelsus', 'adoring', 'Perth', 'pier', 'Siamese', 'danger', 'triune', 'peer', 'goat', 'enlarges', 'Pretty', 'Crete', 'sedentary', 'spit', 'easier', 'growled', 'tick', 'salamander', 'lumps', 'helm', 'Has', 'henceforth', 'somnambulisms', 'over', 'undiscoverable', 'blotting', 'attar', 'Trinity', 'None', 'settle', 'surveillance', 'strand', 'ponderosity', 'neat', 'bars', 'cheerfully', 'simply', 'flew', 'works', 'ghostliness', 'mutinous', 'frigid', 'Aristotle', 'contrivance', 'shod', 'security', 'floes', 'lodge', 'Alleghanies', 'excitement', 'moderation', 'Steward', 'Dut', 'graded', 'bachelor', 'caterpillar', 'brew', 'doubting', 'toilet', 'indifferent', 'midnight', 'framework', 'barber', 'passengers', 'Archy', 'hob', 'maim', 'breathed', 'subsiding', 'penal', 'rudeness', 'stray', 'intolerably', 'book', 'common', 'announced', 'blubbering', 'PEKEE', 'net', 'leaps', 'extinct', 'maidenly', 'mediums', 'combining', 'vicissitudes', 'compound', 'chassee', 'unrestingly', 'rusty', 'intimation', 'wick', 'sonorous', 'directing', 'intending', 'relief', 'admirers', 'Lombardy', 'swell', 'operations', 'intrepidly', 'sphere', 'trading', 'periodical', '102', 'December', 'intricacy', 'unwarrantable', 'cutlet', 'Melancthon', 'terrapin', 'undeviating', 'High', 'robustness', 'clustered', 'Watery', 'glared', 'foamy', 'mills', 'Rabbins', 'Sorrows', 'Insufferable', 'lowering', 'insisted', 'Day', 'Growlands', 'carnation', 'plug', 'Humiliation', 'unlock', 'navigation', 'inviting', \"?--'\", 'conveniently', 'festooning', 'seniors', 'CETUS', 'wedged', 'Harbor', 'unsmoothable', 'Bottom', 'hallo', 'seams', 'gluepots', 'astonishing', 'round', 'Liberties', 'subtract', 'Rhenish', 'urchins', 'Descartian', 'powerfully', 'immovable', 'covering', 'rescuing', 'hammer', 'lifting', 'Slack', 'Knife', 'Eight', 'disguisement', 'discerns', 'bearskin', 'galliots', 'oddish', 'rambled', 'mutual', 'Golden', 'Started', 'specifically', 'conductor', 'pilots', 'traveller', 'Hunter', 'image', 'prince', 'SURE', 'confident', 'SNEEZING', 'cork', 'admirably', 'platformed', 'garrison', 'Thrasher', 'baron', 'sneering', 'tapered', 'assume', 'sells', 'manned', 'its', 'humorously', 'harem', 'Ehrenbreitstein', 'veteran', 'like', 'hinting', 'Supposing', 'pick', 'narrow', '!--', 'hook', 'joyfully', 'ahead', 'perished', 'boarders', 'sleet', 'suffocated', 'forgetting', 'copestone', 'binder', 'claim', 'exchanging', 'bringing', 'vast', 'dubiously', 'attribute', 'flutterings', 'altering', 'ducks', 'toilette', 'VI', 'beat', 'manufacturing', 'progressive', 'Algerine', 'noises', 'epicurean', 'erection', 'apotheosis', 'sprout', 'crows', 'course', 'Malays', 'incontinently', 'bravery', 'prodigiously', 'Be', 'plaguy', 'hastier', 'Wales', 'significant', 'Iceberg', 'subtlety', 'furrow', 'wanings', 'stript', 'sinks', 'happiness', 'unaccountably', 'benignity', 'thole', 'copy', 'tugged', 'Miriam', 'sagacious', 'shivering', 'prescribed', 'Crossed', 'intermeddling', 'javelins', 'caps', 'drippings', 'inability', 'Season', 'externals', 'maintaining', '109', 'REFERENCE', 'flanking', 'roods', 'Sperma', 'hop', 'D', 'coolly', 'anti', 'rebut', 'excursion', 'gaze', 'palsy', 'derived', 'screw', 'olive', ']', 'breathe', 'sanguinary', 'worlds', 'voracious', 'rule', 'Listen', 'slipperiness', 'British', 'prevailed', 'staple', 'cuts', 'Bess', 'manfully', 'hatchways', 'exhibition', 'slime', 'aliment', 'knife', 'exterminated', 'bump', 'footpads', 'drills', 'toughest', 'HOLY', 'Balaene', 'Seated', 'York', 'manoeuvred', 'U', 'father', 'studying', 'farmer', 'Trap', 'weekly', 'receptacle', 'developments', 'missed', 'twos', 'magnitude', 'zephyr', 'deeply', 'pond', 'chapters', 'increased', 'excepting', 'temple', 'presaging', 'regulations', 'stilts', 'wights', 'uproar', 'Babylon', 'carving', 'flowery', 'device', 'transcend', 'strain', 'Removing', 'Matse', 'NESTS', 'eyelashes', 'honourable', 'rang', 'prevailing', 'Broke', 'sow', 'Michael', 'stumbling', 'circumspectly', 'period', 'rate', 'unbiddenly', 'keeping', 'says', 'store', 'unexpected', 'bob', 'beehive', 'tucked', 'Cuvier', 'geniuses', 'wealth', 'cocked', 'Quakers', 'Chief', 'tough', 'landscapes', 'Horrible', 'bliss', 'Berlin', 'infixed', 'Assaulted', 'circumstances', 'tunes', 'happier', 'unobtrusive', 'betters', 'ottomans', 'stultifying', 'disappointed', 'handfuls', 'lieutenant', 'weedy', 'unstirring', 'wept', 'immemorially', 'whalebone', 'streams', 'somehow', 'plank', 'contained', 'TERROREM', 'frozen', 'counsels', 'escape', 'space', 'zones', 'disproved', 'Lookee', 'enhances', 'Moluccas', 'keys', 'Rope', 'chowder', 'ardour', 'movingly', 'tacks', 'expert', 'precedence', 'morn', 'butter', 'forefinger', '90', 'HEREABOUTS', 'glorying', 'slender', 'gold', 'rip', 'Vidocq', 'Nut', 'Union', 'footed', 'breaking', 'unicorns', 'tail', 'ferns', 'disciples', 'procedure', 'foundation', 'illness', 'own', 'clumped', 'Ultimately', 'discovered', 'fancied', 'scoundrel', 'Madame', 'Originally', 'departing', 'Syrian', 'bigger', 'obstetrics', 'eaves', 'champions', 'listen', 'Drink', 'tost', 'curios', 'shutter', 'enjoying', 'blind', 'domineer', 'adhering', 'attacking', 'contemplating', 'ROSE', 'burst', 'female', 'clubbed', 'lingering', 'humanities', 'Behring', 'Heave', 'plentiful', 'earthquakes', 'bearers', 'against', '500', 'salutation', 'awe', 'FORGE', 'affection', 'urged', 'condescending', 'joking', 'standpoint', 'Scandinavian', 'half', 'Stiggs', 'diminished', 'engravings', 'Job', 'assisted', 'oneness', 'glance', 'Ecclesiastes', 'individualities', 'aforesaid', 'board', 'profaned', 'country', 'Venetian', 'gleamings', 'abridged', 'carcass', 'conscientiously', 'robust', 'stall', 'porthole', 'Elephant', 'bitters', 'unapparent', 'rigadig', 'orphans', 'helplessly', 'divide', 'mad', 'bestirring', 'interests', 'master', 'reel', 'clings', 'stooping', 'risk', 'loitering', 'Kentuckian', 'knock', 'formal', 'Impossible', 'Channel', 'popping', 'fleecy', 'deplore', 'leg', 'sprouts', 'introduction', 'Remembering', 'weigh', 'sprain', 'Time', 'peddler', 'rides', 'indolently', 'Thinks', 'intervals', 'RESPECTABLE', 'corky', 'indebtedness', 'Illinois', 'gnarled', 'exalted', 'whalin', 'VOYAGE', 'Esau', 'breakfasting', 'glitteringly', 'forgetfulness', 'excessive', 'serenest', 'sultanically', 'suit', 'slaughtered', 'Stepping', 'Cooper', 'bakers', 'Somehow', 'befriend', 'useful', 'snowhowdahed', 'unavoidably', 'firmly', 'edict', 'buttressed', 'crony', 'executors', 'cunning', 'narrowly', 'accountants', 'troughs', 'dim', 'Shem', 'rendering', 'retreat', 'simultaneous', 'hearted', 'toed', 'harbors', 'symbolized', 'referred', 'stages', 'vivifying', 'Shame', 'BRACE', 'been', 'canoes', '....', 'ULLOA', 'honeymoon', 'aisle', 'hearing', 'painter', 'skewer', 'flingers', 'Tophet', 'lets', 'Pantheists', 'gazer', 'shoals', 'Lascars', 'sling', 'addition', 'expect', 'projections', 'vanished', 'placard', 'urbane', 'buy', 'kneeling', 'evanescent', 'returne', 'morbidness', 'clenched', 'semicircular', 'courts', 'Considering', 'equanimity', 'doubtless', 'rural', 'incredibly', 'TASHTEGO', 'weighty', 'opposite', 'haughtily', 'am', 'flip', 'wrath', 'Mazeppa', 'feasts', 'crowded', 'identified', 'marl', 'skins', 'successfully', 'Nimble', 'limbered', 'turbulence', 'mattrass', 'cups', 'fine', 'FROM', 'prophesied', 'First', 'overflowed', 'wheelbarrow', 'trucks', 'prayed', 'candles', 'cruises', 'lively', 'profiles', 'Martial', 'rapidly', 'Captain', 'Christians', 'unfrequented', 'mong', 'Omen', 'forenoon', 'hollows', 'tars', 'QUARTER', 'convalescence', 'imaginative', 'guard', 'reigns', 'infesting', 'goal', 'captured', 'cause', 'SAID', 'declines', 'Equality', 'wagon', 'flourished', 'veins', 'inscribed', 'Goa', 'connecting', 'automaton', 'elemental', 'SOLANDER', 'looped', 'mention', 'gamboge', 'glimmering', 'yields', 'forebodings', 'sociable', 'undulation', 'flouts', 'blow', 'Why', 'Subject', 'amputate', 'Mason', 'unfurnished', 'subtleness', 'compared', 'emerging', 'opined', 'hoops', 'intimacy', 'affright', 'doltish', 'potion', 'tables', 'impulsively', 'circumstantial', 'crossing', 'revolved', 'enforced', 'expressed', 'unexampled', 'indirectly', 'righteous', 'wordless', 'preceded', 'derisive', 'odorous', 'into', 'transported', 'Candles', 'stacked', 'swallowed', 'cask', 'protruding', 'brotherhood', 'operator', 'serious', 'tossing', 'soothingly', 'blinding', 'scarf', 'spent', 'vermicelli', 'viewed', 'dart', 'stuffed', 'despatched', 'vertically', 'marvel', 'quickly', 'appears', 'talisman', 'applicable', 'ascertained', 'Night', 'bitterness', 'HOBBES', 'forced', 'entrance', 'territorial', 'elbowed', 'prudential', 'eternam', 'Fasting', 'melt', 'Secondly', 'marrow', 'convict', 'beast', 'conduct', 'visible', 'lye', 'outlines', 'shipped', 'moors', 'triangular', '52', 'Wonder', 'modifies', 'terrors', 'skirting', 'oval', 'amounted', 'migratory', 'matched', 'conjures', 'mischief', 'probabilities', 'remind', 'isn', 'trover', 'Philistines', '84', 'spindles', 'interpreting', 'calculating', 'hover', 'apertures', 'folds', 'bachelors', 'throwing', 'sheds', 'visit', 'peak', 'pledges', 'cleansed', 'ancestress', 'crocodile', 'Weep', 'tracery', 'orange', 'WIDOW', 'sinecures', 'Fishery', 'Free', 'conception', 'boon', 'marbleized', 'reserving', 'Pyrrho', 'consolation', 'So', 'tremor', 'Pantheon', 'serene', 'Meets', '71', 'piling', 'Curse', 'frocks', 'trance', 'nights', 'comprehending', 'Hollanders', 'concentrated', 'shrinked', 'combinations', 'begin', 'Breakfast', 'limping', 'delusion', 'casual', 'VIDE', ':\"-', 'Doubtless', 'overruling', 'tasselled', 'Portuguese', 'Central', 'eightieth', 'flaky', 'envious', 'PRIMER', 'unsavory', 'perry', 'since', 'steaks', 'concentrate', 'withstanding', 'revolutions', 'brazen', 'hereof', 'trials', 'tropic', 'reservoir', 'Ordinaire', 'Crab', 'hain', 'ringed', 'villany', 'whiskey', 'centuries', 'countersunk', 'dismemberer', 'hatch', 'surely', 'multitudinously', 'aid', 'lunatic', '2ND', 'accomplished', 'hotels', 'transparent', 'scythes', 'whiskers', 'modifying', 'fagot', 'complimentary', 'ha', 'true', 'expostulations', 'animals', 'stationary', 'scanning', 'characterized', 'Regent', 'domed', 'spile', 'by', 'Corlears', 'toiling', 'clearing', 'Dying', 'strewn', 'elusive', 'notion', 'p', 'L100', 'chilled', 'threatens', 'Leading', 'approach', 'hussar', 'lodged', 'divined', 'nephew', 'measurement', 'bulls', 'rushes', 'woodpecker', 'ubiquity', 'oftener', 'trimmed', 'stamp', 'masters', 'use', 'crucible', '48', 'restores', 'SLEEPY', 'significantly', 'undoubted', 'conventional', 'circulars', 'liberation', 'Italy', 'Shore', 'outspreadingly', 'woes', 'stave', 'Prophet', 'Around', 'adorning', 'destiny', 'rolls', 'slumber', 'groom', 'struck', 'continues', 'responsible', 'epidemic', 'Signals', 'evil', 'Tranque', 'cannibalism', 'awaited', 'entertainment', 'REVELRY', 'congealed', 'irregularity', 'windy', 'assails', 'merit', 'angry', 'whistled', 'bullies', 'knee', 'bite', 'encouraged', 'constructed', 'Sumatra', 'wrinkles', 'curiousness', 'supernal', 'unwritten', 'vehicle', 'valley', 'cleanse', 'pantaloon', 'Whiteness', 'spark', 'BLOOD', 'smelt', 'divinely', 'Accursed', 'replace', 'Slowly', 'furled', 'sly', 'obscured', 'knob', 'HUZZA', 'renders', 'outlast', 'Plate', 'straight', 'canopy', 'unpitying', 'desirable', 'Ambergriese', 'meantime', 'enchantment', 'WALLER', 'wives', 'impalpable', 'gregarious', 'weaves', 'cabalistical', 'tablet', 'tempted', 'fools', 'influence', 'spurned', 'ass', 'computed', 'Isle', 'Darmonodes', 'prodigious', 'tempered', 'OWEN', 'Gazette', 'studs', 'bulky', 'religion', 'shoving', 'shepherd', 'PAID', 'job', 'marvellously', 'moody', 'distended', 'mattress', 'tornadoed', 'containing', 'bashfulness', 'awestruck', 'prostrate', 'Hay', 'Attend', 'shifting', 'law', 'climes', 'Quaker', 'wherever', 'Mast', 'spikes', 'genealogy', 'Alas', 'cylindrically', 'shoot', 'hove', 'MEALY', 'snakes', 'stagnant', 'Level', 'appeal', 'approached', 'perspectives', 'wait', 'beseech', 'tags', 'Asiatic', 'violets', 'driftings', 'freckles', 'buckle', 'whew', 'come', 'condense', 'stiver', 'sympathetical', 'Glory', 'SPRINGING', 'stabbed', 'comprised', 'contemptuously', 'SKY', 'Further', 'baling', 'Owen', 'uncouthness', 'Fiery', 'assailant', 'frightens', 'pirouetting', 'conjunctures', 'blush', 'gallery', 'mirth', 'Expeditions', 'jam', 'patrician', 'indefatigable', 'inveterate', 'twine', 'slanderous', 'carries', 'stiffest', 'manipulator', 'Ross', 'cobblestones', 'peeled', 'wrinkled', 'overflowing', 'ecliptics', 'enlisting', 'weighing', 'pauper', 'lots', 'passionately', 'fiercely', 'meeting', 'sweetness', 'supplementary', 'voice', 'Slip', 'define', 'mishap', 'spoiled', 'stolidly', 'murmured', 'reasoning', 'COFFIN', 'crane', 'John', 'quiescent', 'biscuits', 'forecastle', 'Forehead', 'grampus', 'pockets', 'rubbing', 'groupings', 'ferreting', 'coil', 'loins', 'outburst', 'College', 'historian', 'covers', 'Portugal', 'eau', 'overpowered', 'babe', 'wont', 'itself', 'leadership', 'vacuity', 'reported', 'Belial', 'commended', 'surrounding', 'remarked', 'Tower', 'glad', 'unawares', 'carnivorous', 'Charlemagne', 'mail', 'felicity', 'diametrically', 'prone', 'mangles', 'ALL', 'co', 'terribly', 'handing', 'feminine', 'North', 'squeezed', 'Germans', 'FREDERICK', 'Laplander', 'curds', 'celerity', 'physical', 'exulting', '27', 'tape', 'finest', 'solemn', 'hinge', 'frankincense', 'roll', 'opinion', 'haunted', 'qualities', 'bush', 'head', 'figured', 'chests', 'Porpoise', 'genus', 'seventh', 'CHRONICLER', 'combined', 'lexicons', 'hinges', 'dividing', 'mell', 'pox', 'villages', 'concurring', 'sinewing', 'settling', 'Cruising', 'wines', 'should', 'whoever', 'might', 'stricken', 'Wheelbarrow', 'belongs', 'warbling', 'Euroclydon', 'stokers', 'critics', 'immensely', 'author', 'procure', 'berths', 'brimmed', 'steerer', 'clotted', 'steward', 'barest', 'grace', 'wrapping', 'construct', 'feeding', 'longevity', 'conscience', 'harmed', 'Plato', 'enough', 'catacombs', 'NATHAN', 'iciness', 'shavings', 'lie', 'thick', 'Leaning', 'barn', 'Sirs', 'symbol', 'hue', 'tens', 'guarantees', 'marline', 'Matsmai', 'lurked', 'bedroom', 'winged', 'unhooped', 'STRING', 'imputable', 'hermetically', 'persecutions', 'harmoniously', 'overtaken', 'tearin', 'undervalue', 'owest', 'patronise', 'stoven', 'hopeful', 'powder', 'futures', 'reception', '.--\"', 'cloaked', 'encore', 'Um', 'ties', 'harbourless', 'hav', 'TIT', 'humorous', 'region', 'Winds', 'interview', 'belt', 'pickled', 'creativeness', 'comforters', 'splinters', 'tribulations', 'authoritative', 'teeter', 'kindled', 'Blang', 'beyond', 'splice', 'untasted', 'electric', 'shattered', 'incomplete', 'boundless', 'ill', 'braiding', 'relinquish', 'plagues', 'Apollo', 'endeavors', 'STEP', 'evangelical', 'lengthwise', 'sheering', 'Ger', 'CRUISING', 'superhuman', 're', 'understand', 'tolling', 'girls', 'offers', 'filers', 'because', 'behalf', 'Midnight', 'authoritatively', 'spat', 'reply', 'saltcellar', 'tubs', 'mere', 'exceed', 'PIP', 'Durand', 'sooner', 'forts', 'retribution', 'builders', 'unassuming', 'consistency', 'jealously', 'bailer', 'short', 'expectant', 'reverse', 'RAPE', 'azure', 'observed', 'volcano', 'dreadful', 'thrilled', 'criterion', 'discreditably', 'thinner', 'Unobserved', 'seethed', 'deepest', 'TRANS', 'operates', 'hereabouts', 'prescient', 'officiating', 'Enter', 'Dick', 'postponedly', 'vexed', '42', 'agency', 'thumb', 'Luck', 'provincials', 'attempts', 'splintered', 'import', 'sap', 'willingness', 'chapel', 'core', 'adopted', 'aromas', 'utmost', 'ceases', 'mannikin', 'averred', 'lungs', 'whole', 'gamy', 'fac', 'roundabout', 'Round', 'ASIDE', 'Historians', 'though', 'windpipe', 'fortunes', 'cambrics', 'barricade', 'Snatching', 'anxious', 'indiscretions', 'acknowledging', 'revelry', 'metempsychosis', 'untrodden', 'trial', 'feints', 'concealed', 'hand', 'palpable', 'biased', 'beget', 'sieve', 'voyaged', 'moving', 'infuriated', 'concocted', 'scougin', 'burn', 'appliance', 'rare', 'fulfiller', 'entry', 'jetting', '95', 'Antwerp', 'facetious', 'spotlessness', 'investigators', 'Cutting', 'cheating', 'ermine', 'Lion', 'adulterer', 'phrenologist', 'uncivilized', 'Doubts', 'boys', 'originated', 'magnet', 'omitted', 'frenzies', 'vessel', 'Reference', 'sporting', 'shoes', 'ambitious', '2', 'circled', 'move', 'lurk', 'denoted', 'edge', 'wells', 'Constantinople', 'dissent', 'din', 'HAS', 'staggeringly', 'restrained', 'THE', 'eccentric', 'difference', 'lookest', 'assist', 'dirty', 'inlaid', 'creepingly', 'widow', 'extract', 'endures', 'Throwing', 'hostilely', 'clamber', 'examples', 'embraces', 'bigness', 'erections', 'discharged', 'slanting', 'animal', 'laborious', 'scaramouch', 'cucumbers', 'GATHER', 'cheeriest', 'jetted', 'mower', 'timely', 'vats', 'vibration', 'stately', 'gate', 'uninvitedly', 'gestation', 'bitingly', 'hum', 'bundling', 'revive', 'hazel', 'whenever', 'overtake', 'nearer', 'crime', 'Steady', 'deplored', 'commander', 'garters', 'independence', 'closely', 'breed', 'believed', 'including', 'quig', 'term', 'lays', 'fashion', 'leaped', 'relative', 'Almost', 'technical', 'thirty', 'unstarched', 'treasuries', 'tiers', 'beaks', 'midmost', 'marlinspikes', 'vessels', 'comparatively', 'toothless', 'dying', 'issuing', 'Knights', 'enriched', 'Keeping', 'barren', 'apparelled', 'Stoic', 'blockhead', 'Leg', 'ingloriously', 'versions', 'balls', 'finding', 'wardrobe', 'natural', 'stampedoes', 'H', 'decide', 'tattooings', 'outraged', 'hap', 'extreme', 'Fossil', 'layers', 'missionaries', 'withdrawn', 'Syren', 'outstrip', 'brand', 'Iroquois', 'undiscovered', 'excavation', 'hastily', 'Damocles', 'vesper', 'abandon', 'inhale', 'verbatim', 'complexion', 'inclement', 'high', 'ignorant', 'consumed', 'allusion', 'vitals', 'exhaled', 'regard', 'foundations', 'crowing', 'tooth', 'sweetly', 'Broad', 'vinegar', 'renounce', 'PORPOISE', 'angularly', 'veer', 'cold', 'politeness', 'domesticated', 'irritated', 'thrones', 'bookbinder', 'fooling', 'gable', 'aim', 'stowing', 'snuffed', 'lockers', 'imp', 'idiom', 'musk', 'apply', 'Bring', 'recalled', 'inseparable', 'reiterating', 'State', 'obliged', 'tune', 'squeeze', 'Bestow', 'CHACE', 'mincing', 'oxygenated', 'distrust', \"'--\", 'digger', 'naked', 'squint', 'snored', 'bended', 'Baltic', 'contrasting', 'wittiness', 'busily', 'scentless', 'ignominy', 'Davis', 'juniper', 'elated', 'surviving', 'popular', 'stung', 'Captains', 'infallible', 'reddened', '.\"*', 'attended', 'gingerly', 'frankly', 'resting', 'bedded', 'unbegun', 'inference', 'swears', 'darts', 'joes', 'surpassed', 'employ', 'Fin', 'cheery', 'Enough', 'vibrating', 'supplying', 'vines', '800', 'COLNETT', 'BRACTON', 'tyrannical', 'slay', 'understood', 'identify', 'equality', 'larders', 'oxen', 'highway', 'atrocious', 'defile', 'completely', 'grinning', '11', 'Niphon', 'bird', 'marry', 'Desmarest', 'foreheads', 'sane', 'Coronation', 'push', 'slip', 'except', 'host', 'arrived', 'Marten', 'thoroughfares', 'Geological', '1652', 'parmacetti', 'rehearsed', 'crowds', 'milestones', 'erected', 'negatived', 'gap', 'crusts', 'crystallized', 'kink', 'most', 'elapse', 'solved', 'keg', 'sighs', 'torrid', 'velocity', 'boatswain', 'OLD', 'comforted', 'andirons', 'disincline', 'waving', 'anew', 'quilted', 'unensanguined', 'hugest', 'stores', 'bawled', 'limitations', 'unsweetly', 'Jordan', 'privilege', 'ordinarily', 'enkindling', 'plague', 'THERE', 'sunsets', 'interfusing', 'remonstrating', 'restraint', 'depict', 'Beloved', 'prescience', 'conceives', 'WHAT', 'steer', 'phraseology', 'Tennessee', 'Beware', 'blend', 'dumfoundered', 'spurs', 'unaccounted', 'prospect', 'lanes', '.\"--', 'capacious', 'Symphony', 'peculiarities', 'Availing', 'syllable', 'flume', 'Suppression', 'bald', 'jot', 'terrier', 'magician', 'pearls', 'foundered', '101', 'tone', 'triangles', 'research', 'triumphantly', 'Spitzbergen', 'succeeds', 'noted', 'Stand', 'Goldsmith', 'feasting', 'proceeds', 'sovereign', 'retreats', 'Friend', 'analysed', 'solaces', 'walled', 'smell', 'cankerous', 'imbecile', 'tiles', 'knew', 'dogging', 'commerce', 'soaked', 'er', 'sanity', 'familiarity', 'provide', 'emblem', 'Circassian', 'harbours', 'spectral', 'Lane', 'tickled', 'Japanese', 'mates', 'older', 'suspends', 'fixed', 'sullenly', 'Names', 'languid', 'Peering', 'amphitheatrical', 'vibrated', 'VERSION', 'sharpest', 'GAZING', 'lonesomeness', 'ultimatum', 'doctrine', 'pointing', 'Ray', 'lar', 'OATHS', 'lofty', 'Inn', 'lodges', 'Silent', 'volume', 'destroyer', 'soldier', 'repentant', 'superinduced', 'pendants', 'achieve', 'note', 'spilled', 'affinities', 'Smells', 'Gardiner', 'Maybe', 'Orient', 'Sicilian', 'jig', 'shoemaker', 'chemistry', 'captive', 'supply', 'enthusiasm', 'losing', 'kindling', 'condescension', 'flattening', 'practised', 'puffs', 'Awful', 'cables', 'keystone', 'Most', 'coils', 'providentially', 'higgledy', '1840', 'masterly', 'pommel', 'overladen', 'clapping', 'shadowed', 'repelled', 'mentioned', 'Ho', 'forces', 'decanting', 'links', 'Quoin', 'revered', 'Soothed', 'betakes', 'blades', 'cast', 'tallow', 'floods', 'alarmed', 'lurchingly', 'opal', 'dietetically', 'Second', 'vaulted', 'Unlike', 'personally', 'thief', 'wouldst', 'decoration', 'Dan', 'purchasing', 'Shark', 'visitations', 'bewildering', 'strike', 'concrete', 'transient', 'puff', 'beaches', 'Typhoon', 'Cannon', 'Randolphs', 'prowling', 'gloves', 'resides', 'advertised', 'wag', 'barbarians', 'Blast', 'jibs', 'billows', 'lodgings', 'joining', 'delirious', 'merchantmen', 'bestowed', 'tucks', 'durable', 'likeness', 'timbers', 'fluke', 'cymballing', 'paying', 'thwart', 'enlarged', 'spanned', 'verbalists', 'calculated', 'George', 'whelmed', 'incarnate', 'Holloa', 'poured', 'Great', 'surmised', 'charted', 'rustling', 'breaching', 'apparition', 'separately', 'Sheet', 'pumping', 'flanks', 'Does', 'fires', 'Leviathanism', 'shirr', 'canst', 'Moses', 'gates', '!\"--', 'prosecution', 'seconds', 'smelling', 'corresponding', 'handedness', 'wearies', 'seemed', 'grotesqueness', 'back', 'songster', 'possible', 'willingly', 'penetrated', 'Presently', 'breaches', 'pincers', 'inquiring', 'Pagans', 'inheritor', 'province', 'Rad', 'SOME', 'betrayed', 'work', 'profusion', 'came', 'heathenish', 'unaccompanied', 'arms', 'sympathy', 'preserved', 'resounded', 'incessantly', 'following', 'resisted', 'teachings', 'hold', 'trencher', 'SAMUEL', 'BALLENA', 'St', 'dictionaries', 'cringed', 'tauntingly', 'immensity', 'backbones', 'Sullenly', 'toy', 'Hosea', 'complaints', 'fit', 'Best', 'infernal', 'bags', 'third', 'member', 'strandings', 'unoccupied', 'What', 'rates', 'understanding', 'lifelessly', 'However', 'cattle', 'wields', 'performed', 'patentee', 'remounting', 'chamois', 'tunic', 'ducked', 'passive', 'neatness', 'itch', 'LINE', 'studded', 'felled', 'ding', 'Anacharsis', 'tis', 'unequal', 'orthodoxy', 'auger', 'blowing', 'anomaly', 'pudding', 'Inert', 'Anything', 'fallacious', 'unmurmuringly', 'sustained', 'cannibal', 'civil', 'ox', 'revolving', 'scuttling', 'bolstering', 'production', 'delirium', 'dexterous', 'cordially', '3d', 'lave', 'schools', 'cures', 'artist', 'cocoanuts', 'inferences', 'sloping', 'ado', 'deliverer', 'baser', 'Adventures', 'employment', 'longitudes', 'analogies', 'trellised', 'fastening', 'garments', 'martyr', 'idler', 'Leviathanic', 'THAR', 'Certainly', 'capriciously', 'marshalled', 'rifles', 'infected', 'From', 'grope', 'musked', 'tri', 'oft', 'mooted', 'partially', 'panther', 'Huron', 'GONDIBERT', 'agencies', 'Him', 'besmoked', 'Yankee', 'redoubted', 'heavens', 'Scotch', 'sentimentally', 'wreath', 'freshening', 'nieces', 'stains', 'pleasantness', 'moon', 'ravenous', 'Little', 'blent', 'Herod', 'ruling', 'disintegrate', 'surges', 'polished', 'contingency', 'flaw', 'apartment', 'persuasion', 'root', 'woracious', 'drums', 'discolour', '_____________', 'deafening', 'and', 'ire', 'PILOT', 'wonted', 'piazza', 'Hoveringly', 'raise', 'assaults', '[', 'district', 'hustings', 'MEMORIAL', 'UNDER', 'merest', 'diabolical', 'pamphlets', 'strata', 'carefully', 'Drawing', 'conversation', 'Jonathan', 'poise', 'falling', 'nerve', 'twigged', 'prospectively', 'meddling', 'belonging', 'elaborate', 'vengeful', 'Stylites', 'squash', 'attestation', 'influential', 'upheaved', 'drowns', 'foreseeing', 'prudently', 'hazard', 'wrinkling', 'cranial', 'peals', 'veil', 'Creagh', 'statues', 'whom', 'embodied', 'revery', 'tombed', 'Raise', 'shops', 'communing', 'TO', 'becharmed', 'frosty', 'Pippin', 'phrenologically', 'squally', 'darkly', 'Siam', 'Colnett', 'consequences', 'pelisse', 'dreamed', 'poly', 'wiseish', 'Icebergs', 'cymballed', 'save', 'SCREWS', 'Shaking', 'Whatever', 'd', 'synod', 'cent', 'Latin', 'Orientals', 'Loose', 'ship', 'later', 'remember', 'spasmodically', 'Shaker', 'shuffle', 'eminently', 'indebted', 'chiefly', 'reapers', 'cocoa', 'flashings', 'fleeces', 'shower', 'bowlines', 'arterial', 'moccasin', 'irradiate', 'tingled', 'robes', 'billion', 'tyros', 'periodically', 'rejoicing', 'gaped', 'stab', 'prose', 'contingent', 'emotion', 'impossibility', 'rounds', 'Taurus', 'Japans', 'library', 'considered', 'employments', 'Coke', 'softly', 'Tusked', 'hee', 'immutableness', 'unchangeable', 'bantering', 'fastenings', 'arose', 'bowled', 'licked', 'refrigerators', 'hypothesize', 'terse', 'HOW', 'eastern', 'Saco', 'moves', 'wallow', 'contraction', 'accelerate', 'plays', 'apprehension', 'shiverings', 'specialties', 'HEIGHT', 'north', 'bride', 'largest', 'Unappalled', 'flatter', 'zay', 'constrain', 'Maury', 'FAMOUS', 'April', 'shape', 'Oceans', 'slicings', 'ranged', 'lords', 'saying', 'from', 'absorbingly', 'reserved', 'HAVING', 'frenzy', 'filliping', 'severest', 'wanton', 'timber', 'Mansoul', 'thirteenth', 'prefer', 'tantalization', 'pedestals', 'fatter', 'Cannibals', 'Folgers', 'punctiliously', 'PITCHING', '1836', 'descends', 'veiled', 'bellied', 'skin', 'Ahaz', 'disappearing', 'redeemed', 'manage', 'Twins', 'carry', 'plumes', 'pitied', 'designation', 'probable', 'offspring', 'Taking', 'manufacturer', 'slogan', 'using', 'spectre', 'undetected', 'dolphins', 'Unicornism', '1492', 'twin', 'endearments', 'personality', 'sultan', 'shrieked', 'Bones', 'midst', 'shipwrecks', 'scare', 'greenly', 'local', 'Plenty', 'pent', 'Narwhale', 'Pilot', 'unhinged', 'initiated', 'Sulphur', 'ostentatious', 'sayst', 'raving', 'privations', 'chasing', 'masts', 'shouts', 'Gamming', 'Their', 'Har', 'amplified', 'nice', 'puncheons', 'Crish', 'os', 'miniature', 'going', 'closeness', 'uncompromisedness', 'amazing', 'scarred', 'Prince', 'civility', 'upward', 'consternations', 'devoted', 'paupered', 'vehement', 'themselves', 'repute', 'st', 'RABELAIS', 'obstreperously', 'forbidding', 'realities', 'antemosaic', 'consequence', 'firm', 'scorching', 'planks', 'conspired', 'spicin', 'uniqueness', 'inner', 'buck', 'Crusaders', 'meals', 'drained', 'Islands', 'repassing', 'sent', 'Yankees', 'ripples', 'battened', 'owners', 'colouring', 'Tudors', 'spiralizing', 'concluding', 'stays', 'arranging', 'Semiramis', 'Launched', 'engrafted', 'lounged', 'Gull', 'maple', 'plumping', 'adroit', 'impersonal', 'carelessness', 'heartily', 'moonlit', 'washes', 'truthful', 'illimitable', 'odoriferous', 'Tahitians', 'bugbear', 'feet', 'SUDDEN', 'sable', 'corn', 'JOB', 'unconsciously', 'anxieties', 'gaining', 'breach', 'knotty', 'noticed', 'rollings', 'parson', 'platters', 'haven', 'foul', 'formerly', 'backing', 'caw', 'unfractioned', 'assembled', 'rollicking', 'professed', 'science', 'toppling', 'professor', 'dumplings', 'Hands', 'an', 'portion', 'Commodores', 'porcupine', 'settlements', 'pecks', 'guides', 'questions', 'illimitably', 'fitting', 'Meshach', 'Epilogue', 'Looking', 'cart', 'fleetness', 'others', 'he', 'lunging', 'sartainty', 'thus', 'Hedgehog', 'BERMUDAS', 'blew', 'intercourse', 'Had', 'Words', 'Strong', 'tragic', 'Drinking', 'omnitooled', 'Spell', 'Forecastle', 'sort', 'intercedings', 'weepons', 'wring', 'proffer', 'nut', 'roar', 'rotten', 'drawn', 'fancy', 'rippling', 'owned', 'shone', 'car', 'scruples', 'branded', 'lard', 'hangman', 'ceremonial', 'Deck', 'effaced', 'headmost', 'formation', 'chill', 'routine', 'inlaying', 'Colonies', 'slack', 'Come', 'monarchs', 'sashless', 'right', 'befooled', 'heel', 'whiffs', 'progeny', 'MAIN', 'fictitiously', 'filling', 'Dunder', 'transferred', 'murmuring', 'lt', 'maddens', 'BACKED', 'Gayhead', 'strung', 'lasts', 'scrawl', 'Rachel', 'desperate', 'posies', 'grazes', 'Nantucketers', 'flyin', 'vortices', 'skippers', 'seethingly', 'YE', 'mapped', 'Europa', 'string', '45', 'loyal', 'offence', 'trepidation', 'claret', 'fabricated', 'O', 'stowage', 'Hampton', 'once', 'drawers', 'matters', 'safety', 'affronted', 'doubling', 'condor', 'Wapping', 'FIGURED', 'healthful', 'monument', 'costly', 'babyish', 'flailed', 'throb', 'blessed', 'extremity', 'Mexico', 'Riotous', 'genial', 'FEET', 'Newfoundland', 'artistic', 'provision', 'obeyed', 'reliable', 'gasp', 'Mingling', 'overspreading', 'shaved', 'total', 'incommunicable', 'Full', 'attendant', 'cripple', 'workman', 'number', 'tract', 'quills', 'hypochondriac', 'suspended', 'generalizing', 'Ramadan', 'mammiferous', 'gibberish', 'ript', 'stalwart', 'admeasurement', 'fling', 'ferule', 'brains', 'sole', 'Within', 'Proceed', 'TURNS', 'approving', 'marshals', 'sublimity', 'shun', 'formations', 'pasteboard', 'nominally', 'wickedness', 'tallies', 'cibil', 'Hall', 'Kit', '120', 'unbuckling', 'impressive', 'shrunken', 'grounded', 'Bastille', 'HUSSEY', 'Projecting', 'mistiness', 'shooting', 'Beat', 'voyager', 'anywhere', 'Tic', 'tiara', 'shadings', 'pomatum', 'nutmeg', 'mastodons', 'ached', 'accurate', 'Meantime', 'Polar', 'BOUTON', 'Tanaquil', 'reduced', 'legislators', 'chance', 'climbed', 'perfect', 'regarding', 'cry', 'vigilance', 'unseamanlike', 'chivalric', 'Specksynder', 'bronze', 'penem', 'emphatically', 'dodges', 'footfall', 'loosened', 'Baron', 'decanter', 'snaps', 'Kills', 'tormented', 'essential', 'panniers', 'bristling', 'rout', 'belief', 'aforethought', 'Under', 'arbitrary', 'wondrously', 'la', 'ASIA', 'weltering', 'Mephistophelean', 'canted', 'unerring', 'abominable', 'Imperial', 'calf', 'kindhearted', 'duplicate', 'scrolls', 'ditches', 'Starting', 'Polynesians', 'surmisings', 'unchallenged', ')', 'commercial', 'vindicated', 'CUVIER', 'Californian', 'pasture', 'propped', 'pagoda', 'whence', 'War', 'Bally', 'overwhelmed', 'costume', '15', 'fungi', 'lawyers', 'sinew', 'Wrapped', 'wits', 'else', 'undivided', 'inflamed', '123', 'Libra', 'BROKE', 'capsized', 'chatting', 'Doubloon', 'Poles', 'yawning', 'marred', 'attention', 'square', 'disorder', 'Keep', 'embodiment', 'peculiarity', 'Rinaldini', 'grappling', 'Though', 'precincts', 'stole', 'Blanc', 'enacted', 'COOPER', 'hailed', 'Lucifer', 'unthought', 'Babel', 'empires', 'supplied', 'conflagrations', 'gentlemanly', 'unlike', 'Flukes', 'unconditionally', 'mystifying', 'spiced', 'Damn', 'Canaan', 'frenzied', 'apostolic', 'charity', 'anointing', 'stronghold', 'Clap', 'Hydriote', 'childhood', 'packs', 'lucifer', 'fitly', 'Father', 'staggering', 'full', 'prefigured', 'parricide', 'activity', 'floor', 'reeling', 'shallowest', 'Starbuck', 'convulsive', 'sundering', 'credible', 'bestows', 'furnaces', 'bladder', 'goddess', 'stolidity', 'spermacetti', 'sich', 'compactness', 'tramping', 'berry', 'OCEAN', 'openmouthed', 'persevering', 'bowstring', 'weeps', 'sting', 'consists', 'Lighting', 'band', 'architect', 'whist', 'delicious', 'le', 'description', 'formed', 'fobbing', 'faintly', 'mount', 'on', '550', 'system', 'delivered', 'TWO', 'explosion', 'sunken', 'meanly', 'aromatic', 'supposed', 'incompetence', 'erudite', 'invaluable', 'favourable', 'gallows', 'drilled', 'bailiff', 'Cellini', 'sends', 'sheaf', 'daunted', 'mothered', 'haphazard', 'spinning', 'movable', 'sands', 'antics', 'Christianity', 'hooped', 'Schmerenburgh', 'eyest', 'screwed', 'Agassiz', 'delicately', 'vacation', 'astonishment', 'reverberating', 'heraldic', 'AM', 'Peter', 'precipitancy', 'interpreters', 'walrus', 'democrat', 'forward', ').', 'finds', 'anything', 'Surmises', 'unwillingness', 'warringly', 'graven', 'stayed', 'tilt', 'inhaling', 'ELLERY', 'refer', '117', 'jump', 'flapped', 'surest', 'Raising', 'DANISH', 'bressed', 'thronged', 'improvements', 'inferiority', 'gaspings', 'Sweet', 'Thrusting', 'subject', 'unreasonable', 'Arctic', 'goodness', 'sideways', 'preparing', 'CHEEVER', 'tangled', 'educated', 'Both', 'Merry', 'wheel', 'rocking', 'thousands', 'depreciates', 'illuminated', 'diet', 'butteries', 'Formosa', 'prospects', 'truck', 'beautiful', 'Jury', 'waterless', 'entangled', 'avast', 'sperm', 'rafted', 'oblivious', 'ornamental', 'lived', 'halls', 'Certain', 'efficiency', 'pleasing', 'vouchers', 'Susan', 'garnished', 'Vice', 'emptying', 'graceful', 'future', 'hauled', 'disappears', 'parried', 'belled', 'glaring', 'soil', 'thence', 'transcends', 'sloped', 'Pampas', 'something', 'credentials', 'skewered', 'Dons', 'sauce', 'blasting', 'calm', 'bartering', 'sculptured', 'HARDY', 'snuffing', 'surveyor', 'edges', 'twisted', 'hopefully', 'Sir', 'Set', 'jiffy', 'dozed', 'wilfulness', 'goring', 'majesty', 'skilfully', 'agonizing', 'placards', 'legal', 'incredulity', 'just', 'crisp', 'beholder', 'primal', 'trod', 'purposed', 'imperative', 'concentric', 'unpainted', 'invisible', 'respirations', 'deity', 'HARRIS', 'Zealanders', 'sublime', 'sledge', 'Duke', 'rogue', 'blight', 'administered', 'bluish', 'apple', 'Lothario', 'twas', 'slews', 'elks', 'siskur', 'consult', 'westward', 'cooler', 'resided', 'douse', 'mainly', 'wounds', 'files', 'comes', 'battled', 'enjoy', 'coax', 'Perish', 'perception', 'southern', 'rhubarb', 'reverie', 'imputed', 'pail', 'reversed', 'sanctorum', 'malefactors', 'shallow', 'lapse', 'fishy', 'cynical', 'wight', 'sensation', 'pertaining', 'brimming', 'lesson', 'fetid', 'mingled', 'poky', 'CHOP', 'stamped', 'gateway', 'drab', 'hidden', 'misfortune', 'Finding', 'Nantucketer', 'Ginger', 'Thus', 'tattered', 'question', 'transpointed', 'diligence', 'vapoured', 'aerated', 'beasts', 'Samuel', 'callest', 'refining', 'discreetly', 'reluctantly', 'stands', 'Emblazonings', 'commons', 'showed', 'necessaries', 'coast', 'judgments', 'handkerchief', 'SMOKING', 'exhumed', 'Fetch', 'milliner', 'send', 'managed', 'communication', 'freebooters', 'innocency', 'cherubim', 'nominal', 'warranted', 'subtler', 'affect', 'jaundice', 'wealthy', 'inculcated', 'haunt', 'Hoot', 'reverenced', 'Tahitian', 'properties', 'aspiring', 'recruit', 'Juan', 'Hosmannus', 'untouched', 'passport', 'pool', 'porpoise', 'appoint', 'placelessly', 'deafened', 'distinctly', 'roaring', 'prate', 'embark', 'around', 'History', 'diverged', 'Avast', 'hired', 'newlanded', 'issue', 'Throw', 'blithe', 'responsibilities', 'elders', 'announcement', 'seam', 'for', 'Saturday', 'bats', 'disguises', 'Justice', 'Turk', 'whisker', 'Transported', 'hunted', 'logs', 'Bulkington', 'unspoken', 'guardian', 'honour', 'expressive', 'COWPER', 'monopolising', 'ribbed', 'enticing', 'largeness', 'brace', 'measureless', 'stealthily', 'Sin', 'fourths', 'Bottle', 'beholding', 'seclusion', 'blotted', 'i', 'agonizingly', 'oder', 'S', 'beater', 'disciple', 'converted', 'doubted', 'Cathedral', 'superstitious', 'unapprehensive', 'freighted', 'leaving', 'lids', 'charmingly', 'people', 'vineyards', 'girlish', 'fresher', 'accumulating', 'shudderingly', 'Carefully', 'Miracle', 'song', 'stabbing', 'candid', 'unfeatured', 'clearer', 'knottiest', 'merits', 'hippogriff', 'Presbyterian', 'Horse', 'discovery', 'ADVANCING', 'creations', 'fog', 'plaits', 'Emboldened', 'unintelligent', 'abound', 'agony', 'threading', 'things', 'sunk', 'festivities', 'stair', 'fronting', 'belaying', 'allowance', 'mortals', 'richly', 'Spite', 'Coffins', 'counterbalance', 'intricate', 'physiognomical', 'cigars', 'majestic', 'sitting', 'impatiently', 'recumbent', 'upwardly', 'malignity', 'characteristically', 'et', 'huge', 'envy', \"',\", 'Pine', 'Needle', 'recluse', 'cloudless', 'cursings', 'commonest', 'van', 'infant', 'greedy', 'Enderbys', 'inelegant', 'crossed', 'pants', 'compile', 'steam', 'reserve', 'tissued', 'Daniel', 'rock', 'thing', '.)', 'didst', 'Roses', 'compliance', 'limped', 'superlatively', 'prominent', 'burying', 'exile', 'snuffling', 'fleshy', 'liberally', 'gazed', 'contribute', 'matted', 'ulceration', 'devilishness', 'born', 'Skies', 'insurance', 'revolves', 'gently', 'indefinitely', 'knocked', 'wine', 'cordage', 'many', 'Court', 'spiralizations', 'faster', 'continental', 'necessarily', 'spiracles', 'goblet', 'potentially', 'reeving', 'unmeaningly', 'beg', 'admitting', 'fearfully', 'counted', 'cooper', 'girdling', 'WORLD', 'Likewise', 'prescription', 'continents', 'Trades', 'vindictiveness', 'wearied', 'habitually', 'covenant', 'CLUSTERS', 'Aunt', 'draggingly', 'tremulous', 'shows', 'medal', 'BLOODY', 'traitors', 'panels', 'gritted', 'tranced', 'testaments', 'burning', 'processions', 'bred', 'alter', 'subscribes', 'Dolly', '17', 'Medes', 'arithmetic', 'evangelist', 'contributory', 'bunks', 'unintelligence', 'ounce', 'And', 'ease', 'studied', 'Methinks', 'brow', 'lance', 'sustain', 'Gayer', 'Physiognomically', '---,', 'fight', 'mandible', 'costermongers', 'cubs', 'Haul', 'cannibally', 'Siberia', 'nightmare', 'Consumptive', 'parks', 'Thou', 'uneven', 'exterior', 'Sw', 'rechristened', 'restlessness', 'sick', 'Usher', 'subservient', 'nay', '111', 'pocket', 'orator', 'froze', 'revengeful', 'coiled', 'Pascal', 'defence', 'dragon', 'sweatings', 'sleek', 'bustles', 'hospitable', 'EX', 'distances', 'hearty', 'card', 'altogether', 'fawned', 'coral', 'changing', 'harpooneer', 'enactment', 'Bell', 'ticking', 'avers', 'amidst', 'voyaging', 'unimaginative', 'composed', 'pleases', 'caution', 'silks', 'sheaved', 'den', 'zodiac', 'clamor', 'equinoctial', 'Business', 'heroic', 'natives', 'unobserved', 'hooroosh', 'deplorably', 'insurances', 'dodging', 'sleepers', 'ruinous', 'rot', 'yea', 'Lee', 'described', 'above', 'vacillations', 'hilariously', 'C', 'intended', 'disturbing', 'frame', 'exclusion', 'parm', 'visited', 'listener', 'deceitfully', 'didn', 'platform', 'palms', 'pillaged', 'threatened', '85', 'Yale', 'heated', 'sentimental', 'investigate', 'Zoology', 'rap', 'chaotic', 'pageant', 'outlandishness', 'ceaseless', 'appetite', 'other', '.', 'contemptibly', 'whiff', 'smells', 'benevolently', 'stitch', 'arid', 'chopping', 'sellin', 'ILE', 'Cabin', 'grin', 'imposed', 'chisel', 'awake', 'gruff', 'bleached', 'imparts', 'ice', 'foregone', 'hourly', 'unfailing', 'undeniable', 'JOIST', 'attached', 'Down', 'sherbet', 'MOUNTED', 'Tash', 'brightness', 'Young', 'slided', 'Ashore', 'dung', 'threes', 'TWISTED', '.,', 'deriding', 'spleen', 'advantage', 'plasters', 'roving', 'archipelagoes', 'fasces', 'prize', 'consorted', 'Norway', 'Cognac', 'Clifford', 'cleanliest', 'reader', 'settlement', 'Science', 'destroy', 'amain', 'unspeckled', 'shiftings', 'smokers', 'mastications', 'forfeitures', 'fleeting', 'village', 'superficial', 'Passage', 'unsplinterable', 'farrago', 'igniting', 'Will', 'bedraggled', 'convenience', 'strait', 'student', 'yard', 'flavorish', 'clappings', 'sawn', 'cistern', 'closing', 'magnanimity', 'parcel', 'fatal', 'excited', 'deceitfulness', 'errantism', 'soapstone', 'wasted', 'liberated', 'alpine', 'managers', 'effectual', 'beating', 'ballast', 'three', 'relaxed', 'partitioned', 'swiftness', 'richness', 'disappeared', 'Southerner', 'Johnson', 'fact', 'conceited', 'oils', 'ivory', 'murdering', 'couple', 'trampled', 'longingly', 'intensely', 'possessions', 'transfigured', 'As', 'HOLLAND', 'bridegroom', 'actively', 'fix', 'brevity', 'rallied', 'flashed', 'dirgelike', 'll', 'sized', 'gangway', 'illuminating', 'lying', 'Corresponding', 'brim', 'remove', 'cap', 'important', 'Lashed', 'valvular', 'score', 'blighted', 'tiered', 'groaned', \"!'\", 'estate', 'lightnings', 'entombment', 'fool', 'Thinking', 'printed', 'fantastic', 'careless', 'individuality', 'handled', 'Learning', 'Hittite', 'THIS', 'crave', 'rapt', 'cakes', 'Laplandish', 'undashed', 'throbbing', 'dentistical', 'pomps', 'crept', 'perquisites', 'breeze', 'insurgents', 'cachalot', 'suspected', 'Greenlandmen', 'Said', 'EXTRACTS', 'belike', 'Against', 'toddies', 'brag', 'SCENE', 'A', 'up', 'courses', 'Accordingly', 'conceived', 'LYING', 'immutable', 'coward', 'aboundingly', 'irresistible', 'Tiger', 'rustiness', 'waifing', 'hump', 'Dame', 'brotherly', 'Feet', 'Cap', 'wrong', 'hogshead', 'acquaintance', 'implicit', 'pious', 'sceptical', 'scramble', 'perches', 'writing', 'quicken', 'describe', 'commandingly', 'mouthful', 'superstition', 'droopings', 'surtout', 'stiffening', 'sanctity', 'helpless', 'twice', 'strains', 'intertwisting', 'smothered', 'sparing', 'produce', 'Every', 'conscientious', 'indistinctly', 'rowels', 'Moss', 'furnish', 'Wonderfullest', 'forty', 'wampum', 'steady', 'stratagem', 'almanac', 'pair', 'Common', 'arise', 'steps', 'RIGHT', 'objects', 'expense', 'ROBERT', 'HANGING', 'tornadoes', 'gnomon', 'each', 'mop', 'reckoning', 'skulled', 'congenialities', 'Dragon', 'foremastmen', 'bulbs', 'rueful', 'incapable', 'pinny', 'Western', 'malady', '115', 'occasion', 'opposition', 'climbing', 'intrepidity', 'dumbly', 'needle', 'embattling', 'apt', 'symbolically', 'quailed', 'wavy', '6', 'American', 'aptitude', 'grappled', 'extracting', 'unwaning', 'pushing', 'Dashing', 'chattering', 'preparations', 'betoken', 'Sandwich', 'quarrelsome', 'throats', 'inordinate', 'Ottoman', 'forbear', 'askance', 'Hyperborean', 'desert', 'unite', 'blazing', 'Alarmed', 'fished', 'gathers', 'causes', 'ICELANDIC', 'quahogs', 'unwarranted', 'passer', 'marsh', 'window', '28', 'pronouncing', 'hilarity', 'perpetuates', 'west', 'School', 'ALFRED', 'moose', 'plates', 'middling', 'climbs', 'aesthetics', 'structure', 'shrieking', 'foreshadowing', 'orders', 'Unerringly', 'Carpet', 'Warmest', '\";', 'tinges', 'typhoons', 'dolphin', 'races', '*', 'disembowelments', 'inasmuch', 'tricking', 'astronomical', 'dare', 'Mecca', 'Wants', 'Hast', 'abased', 'devoting', 'extra', 'unstreaked', 'recounted', 'tulips', 'solitudes', 'seer', 'salts', 'mobbed', 'WHALEBONE', 'tellest', 'day', 'pickles', 'unconscious', 'piled', 'Frenchmen', 'miscreants', 'Harpooneer', 'blankets', 'withholding', 'womb', 'Americans', 'smeer', 'Freeze', 'busying', 'taught', 'Judea', 'month', 'Regarded', 'eruption', 'landlessness', 'lethargy', 'turn', 'esteemeth', 'opening', 'stubble', 'collision', 'wand', 'restricting', 'relented', 'Counterpane', 'warlike', 'circumferences', 'Enderby', 'bland', 'elucidate', 'kind', 'judges', 'Leyden', 'peeringly', 'quick', 'preliminaries', 'liar', 'budding', 'weep', 'suffusingly', 'Manchester', 'arrangement', 'celebrated', 'scorches', 'threepence', 'elevates', 'traced', 'beseeching', 'Pagan', 'cobs', 'twopence', 'starlight', 'holiest', 'Close', 'chafed', 'looked', 'unctuousness', 'disorders', 'inferior', 'lakes', 'ragamuffin', 'creaking', 'wildness', 'baleen', 'hopped', 'cents', 'Anno', 'bravest', 'treachery', 'Espied', 'belie', 'skiff', 'talons', 'gained', 'throughout', 'decreed', 'former', 'reverence', 'humble', 'hit', 'steadied', 'weather', 'admonishing', 'HOBOMACK', 'Charing', 'luridly', 'enhancing', 'drawings', 'pose', 'hopefulness', 'Explain', 'kindred', 'launched', 'Atlantic', 'river', 'serenity', 'whereas', 'barbed', 'symptoms', 'PLENTY', 'lands', 'thrice', 'grocers', 'gathering', 'convicts', 'witnessing', 'woodcock', 'shift', 'ferry', 'honed', 'sorrowful', 'base', 'parting', ';', 'wales', 'wrecked', 'intermixed', 'militia', 'floundering', 'troublesome', 'obscures', 'raved', 'glides', 'October', 'molasses', 'turbid', 'decency', 'fruit', 'complies', 'rudimental', 'distrustful', 'bewildered', 'bounded', 'Albemarle', 'Crying', 'bethinking', 'swerve', 'ills', 'continued', 'basket', 'interdicted', 'eyed', 'Leap', 'energies', 'maritime', 'unwilling', 'Cold', 'constraint', 'doubts', 'inclined', 'importunity', 'inform', 'sagged', 'revolvingly', 'sons', 'reappeared', 'brutes', 'expired', 'Pottsfich', 'ahoy', 'extending', 'dong', 'provincialisms', 'sermonizings', 'maxim', 'abhorred', 'main', 'weak', 'graved', 'parchment', 'intent', 'junks', 'nailest', 'preceding', 'drowning', 'aint', 'camphorated', 'execrations', 'whirlwinds', 'variety', 'remonstrate', 'spouting', 'nineteenth', 'varying', 'palpably', '275th', 'earnest', 'Baling', 'again', 'mason', 'trappings', 'inoffensive', 'undoubtedly', 'slouched', 'Vermonters', 'dusk', 'magnetizing', 'tangles', 'Bordeaux', 'engaged', 'ratifying', 'Fanning', 'beginning', 'engraven', 'creamy', 'honest', 'incensed', 'rabid', 'GENERALLY', 'Wise', 'tastin', 'tar', 'depending', 'assuming', 'stroke', 'throned', 'digestive', 'hazy', 'forgive', 'jumped', 'translated', 'unfrequent', 'gash', 'miner', 'hinted', 'Crozetts', 'demonism', 'Whale', 'TROIL', 'blackness', 'cheese', 'moonlight', 'jure', 'ears', 'ebbs', 'low', 'attentive', 'comprehend', 'mastering', 'Aft', 'bankers', 'youth', 'cometh', 'homeward', 'vehemently', 'Dantean', 'door', 'ramifying', 'wigwam', 'Nod', 'pitchpoler', 'braves', 'jerk', 'bladders', 'squalls', 'properly', 'erecting', 'gout', 'everyway', 'headlands', 'sisterly', 'pines', 'centrepiece', 'fifth', 'waking', 'oldest', 'worth', 'listened', 'crawl', 'raging', 'hinder', '60', 'confusion', 'caulk', 'assassins', 'inarticulate', 'gospel', 'unsurrenderable', 'civilized', 'Argo', 'mountains', 'dipping', 'animated', 'signifies', 'across', 'telegraph', 'leper', 'assistants', 'essaying', 'demigod', 'HALF', 'singed', 'fairest', 'assures', 'sailing', 'SPOUTING', 'arc', 'dressed', 'THRICE', 'lure', 'impressed', 'Mufti', 'got', 'Pequod', 'mundane', 'rocked', 'admeasurements', 'deprecating', 'homes', 'diagonically', 'Kee', 'comical', 'crawled', 'sunny', 'partners', 'derives', 'seducing', 'Suddenly', 'secluded', '98', 'walked', 'Miguel', 'flowing', 'surprise', 'worried', 'liable', 'royalties', 'Rather', 'documents', 'conflicting', 'lounges', 'fortitude', 'perceived', 'wearily', 'lap', 'thunderbolts', 'object', 'covered', 'Mab', '$', 'northwest', 'hurriedly', 'rebounds', 'Sub', 'shooks', 'Dominic', 'refused', 'shouldered', 'nailing', 'shameful', 'Van', 'wanderer', 'degenerated', 'profoundly', 'heavier', 'innocently', 'incited', 'Nothing', 'beaker', 'do', 'hours', 'exaggerating', 'gettest', 'hares', 'joyously', 'DOWN', 'recommends', 'repeatedly', 'honouring', 'err', 'penny', 'tips', 'precipice', 'Ain', 'harpooner', 'untagging', 'coopers', 'new', 'tethered', 'Was', 'asserted', 'CURRENTS', 'harboring', 'remotest', 'my', 'Albino', 'virtues', 'crooked', 'fathers', 'anonymous', 'donning', 'chronometer', 'nurseries', 'sprained', 'cerebellum', 'juices', 'European', 'beliest', 'look', 'loosed', 'cheaply', 'leaking', 'elevation', 'agents', 'unlikely', 'fares', 'impiousness', 'WINDOW', 'witty', 'discerned', 'deified', 'convey', 'cudgelling', 'waved', 'fitted', 'metal', 'uncounted', 'fierce', 'CARPENTER', 'frighted', 'Mordecai', 'place', 'sourceless', 'dreadfully', 'demonstrate', 'herring', 'Ontario', 'woods', 'torment', 'clutched', 'mazes', 'unwonted', 'wicked', 'CHINA', 'fringed', 'tucking', 'sails', 'subordinate', 'increasing', 'neighbour', 'surmise', 'netted', 'Mackinaw', 'Hannibal', 'vicinities', 'aboriginalness', 'deadliest', 'VOICE', 'amounts', 'Categut', 'grounds', 'fury', 'skulks', 'fossil', 'veriest', 'CREWS', 'arguments', 'gainsaid', 'shabbiest', 'Nelson', 'abstract', 'associations', 'quivered', 'refiningly', 'hoisters', 'Merely', 'baskets', 'publicly', 'archangels', 'Nail', 'dilapidated', 'concerns', 'cardinals', 'dragging', 'reads', 'resign', 'Porus', 'Between', 'de', 'constellations', 'participating', 'pendulum', 'Huzza', 'bubbled', 'stretch', 'unassured', 'Arm', 'bleeds', 'walking', 'gloomiest', 'separated', 'corporeal', 'breathing', 'unfathered', 'Walking', 'darting', 'thoughts', 'evade', 'resorting', 'suckingly', 'stranger', 'comfort', 'incalculable', 'two', 'se', 'waistcoat', 'Battery', 'e', 'whittled', 'Avatar', 'vanish', 'indestructible', 'supplication', 'fasting', 'streaming', 'inoffensiveness', 'bear', 'Curious', 'rips', 'Faith', 'wrist', 'convent', 'ascended', 'Animated', 'last', 'shields', 'rumbling', 'fittings', 'Congregation', 'gather', 'terrify', 'poison', 'unprecedentedly', 'Murray', 'feelest', 'ponderings', 'hate', 'compunctions', 'Bashaw', 'maggots', 'whaleboning', 'torrent', 'beacon', 'funereally', 'etc', 'anomalously', 'credit', 'swung', 'invite', 'Smut', 'beheading', 'Scorpio', 'timorous', 'howled', 'splits', 'Cook', 'straggling', 'extras', 'profounder', 'diminish', 'Bears', 'spans', ';\"--(', 'loggerheads', 'equator', 'Manilla', 'aggregations', 'gill', 'Whitehall', 'capsizings', 'SITTING', 'imaginations', 'joints', 'sailor', 'Tell', 'peppered', 'methodically', 'Gros', 'Senators', 'griefs', 'relieving', 'dishonour', 'chosen', 'calves', 'bathing', 'bounties', 'famine', 'asked', '1', 'charger', 'killing', 'Winnebago', 'vials', 'DURING', 'Would', 'Christ', 'miasmas', 'To', 'glimpse', 'corporal', 'brisk'])"
      ]
     },
     "execution_count": 48,
     "metadata": {},
     "output_type": "execute_result"
    }
   ],
   "source": [
    "vocabulary1"
   ]
  },
  {
   "cell_type": "code",
   "execution_count": 49,
   "metadata": {
    "collapsed": false
   },
   "outputs": [
    {
     "data": {
      "text/plain": [
       "19317"
      ]
     },
     "execution_count": 49,
     "metadata": {},
     "output_type": "execute_result"
    }
   ],
   "source": [
    "len(vocabulary1)"
   ]
  },
  {
   "cell_type": "code",
   "execution_count": 50,
   "metadata": {
    "collapsed": false
   },
   "outputs": [
    {
     "data": {
      "text/plain": [
       "906"
      ]
     },
     "execution_count": 50,
     "metadata": {},
     "output_type": "execute_result"
    }
   ],
   "source": [
    "fdist1['whale']"
   ]
  },
  {
   "cell_type": "code",
   "execution_count": 4,
   "metadata": {
    "collapsed": true
   },
   "outputs": [],
   "source": [
    "fdist1 = FreqDist(text1)"
   ]
  },
  {
   "cell_type": "code",
   "execution_count": 5,
   "metadata": {
    "collapsed": false
   },
   "outputs": [
    {
     "data": {
      "text/plain": [
       "1"
      ]
     },
     "execution_count": 5,
     "metadata": {},
     "output_type": "execute_result"
    }
   ],
   "source": [
    "fdist1['bass']"
   ]
  },
  {
   "cell_type": "code",
   "execution_count": 9,
   "metadata": {
    "collapsed": true
   },
   "outputs": [],
   "source": [
    "fdist1.plot(50, cumulative=True)"
   ]
  },
  {
   "cell_type": "code",
   "execution_count": 7,
   "metadata": {
    "collapsed": false
   },
   "outputs": [],
   "source": [
    "fdist5 = FreqDist(text5)"
   ]
  },
  {
   "cell_type": "code",
   "execution_count": 8,
   "metadata": {
    "collapsed": false
   },
   "outputs": [
    {
     "data": {
      "text/plain": [
       "['#14-19teens',\n",
       " '#talkcity_adults',\n",
       " '((((((((((',\n",
       " '........',\n",
       " 'Question',\n",
       " 'actually',\n",
       " 'anything',\n",
       " 'computer',\n",
       " 'cute.-ass',\n",
       " 'everyone',\n",
       " 'football',\n",
       " 'innocent',\n",
       " 'listening',\n",
       " 'remember',\n",
       " 'seriously',\n",
       " 'something',\n",
       " 'together',\n",
       " 'tomorrow',\n",
       " 'watching']"
      ]
     },
     "execution_count": 8,
     "metadata": {},
     "output_type": "execute_result"
    }
   ],
   "source": [
    "sorted(w for w in set(text5) if len(w) > 7 and fdist5[w] > 7)"
   ]
  }
 ],
 "metadata": {
  "kernelspec": {
   "display_name": "Python 3",
   "language": "python",
   "name": "python3"
  },
  "language_info": {
   "codemirror_mode": {
    "name": "ipython",
    "version": 3
   },
   "file_extension": ".py",
   "mimetype": "text/x-python",
   "name": "python",
   "nbconvert_exporter": "python",
   "pygments_lexer": "ipython3",
   "version": "3.5.1"
  }
 },
 "nbformat": 4,
 "nbformat_minor": 0
}
